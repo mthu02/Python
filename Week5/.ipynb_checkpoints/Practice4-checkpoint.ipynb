{
 "cells": [
  {
   "cell_type": "markdown",
   "metadata": {
    "colab_type": "text",
    "id": "wDtyCjZ4yc-W"
   },
   "source": [
    "<div align=\"center\">\n",
    "\n",
    "# KHÓA HỌC: LẬP TRÌNH PYTHON CƠ BẢN\n",
    "\n",
    "</div>\n",
    "\n",
    "\n",
    "---\n",
    "\n",
    "Practice 4 - Làm việc với Thư viện NumPy - Phần 01\n",
    "----\n",
    "Họ tên học viên: Ngô Thị Minh Thư\n",
    "\n",
    "Email: ngothiminhthu02@gmail.com"
   ]
  },
  {
   "cell_type": "markdown",
   "metadata": {},
   "source": [
    "# Thực hành số 1:\n",
    "---\n",
    "**YÊU CẦU 1.1: Học viên tạo một ma trận vuông cấp n, bao gồm các phần tử, là những số nguyên ngẫu nhiên trong khoảng [0-100]**"
   ]
  },
  {
   "cell_type": "code",
   "execution_count": 2,
   "metadata": {},
   "outputs": [],
   "source": [
    "import numpy as np"
   ]
  },
  {
   "cell_type": "code",
   "execution_count": 9,
   "metadata": {},
   "outputs": [
    {
     "name": "stdout",
     "output_type": "stream",
     "text": [
      "Nhap vao so n:5\n",
      "[[47 62 31 85 95]\n",
      " [50 46 75 57 74]\n",
      " [23 97  3 31 92]\n",
      " [50 82 23 69 92]\n",
      " [85 22 74 81 43]]\n"
     ]
    }
   ],
   "source": [
    "#{HỌC VIÊN VIẾT CODE VÀO ĐÂY}\n",
    "def matrix(n):\n",
    "     return np.random.randint(101,size = (n,n))\n",
    "    \n",
    "n = int(input(\"Nhap vao so n:\"))\n",
    "a = matrix(n)\n",
    "print(a)"
   ]
  },
  {
   "cell_type": "markdown",
   "metadata": {},
   "source": [
    "**YÊU CẦU 1.2: Sử dụng ma trận tạo được trong yêu cầu 1, Học viên tạo 2 vector như sau:**\n",
    "\n",
    "**v_chinh:** bao gồm các phần tử nằm trên đường chéo chính của ma trận.\n",
    "\n",
    "**V_phu:** bao gồm các phần tử nằm trên đường chéo phụ của ma trận"
   ]
  },
  {
   "cell_type": "code",
   "execution_count": 28,
   "metadata": {},
   "outputs": [],
   "source": [
    "#{HỌC VIÊN VIẾT CODE VÀO ĐÂY\n",
    "v_chinh = a.diagonal()\n",
    "def subDiagonal(arr,n):\n",
    "    s=[]\n",
    "    for i in range(n):\n",
    "        s.append(arr[i][n - i - 1])\n",
    "    return s\n",
    "v_phu = subDiagonal(a,n) "
   ]
  },
  {
   "cell_type": "code",
   "execution_count": 31,
   "metadata": {},
   "outputs": [
    {
     "name": "stdout",
     "output_type": "stream",
     "text": [
      "các phần tử nằm trên đường chéo chính của ma trận:  [47 46  3 69 43]\n",
      "các phần tử nằm trên đường chéo phụ của ma trận:  [95, 57, 3, 82, 85]\n"
     ]
    }
   ],
   "source": [
    "print(\"các phần tử nằm trên đường chéo chính của ma trận: \",v_chinh)\n",
    "print(\"các phần tử nằm trên đường chéo phụ của ma trận: \",v_phu)"
   ]
  },
  {
   "cell_type": "markdown",
   "metadata": {},
   "source": [
    "**YÊU CẦU 1.3: Nhập vào số nguyên x bất kỳ trong khoảng (0-100), đếm xem có bao nhiêu phần tử trong ma trận sinh ra ở yêu cầu 1 có giá trị bằng x, lớn hơn x, nhỏ hơn x và hiển thị kết quả:**"
   ]
  },
  {
   "cell_type": "code",
   "execution_count": 35,
   "metadata": {},
   "outputs": [
    {
     "name": "stdout",
     "output_type": "stream",
     "text": [
      "Nhập vào số nguyên x bất kỳ trong khoảng (0-100): 3\n",
      "Số phần tử trong ma trận sinh có giá trị bằng x:  1\n",
      "Số phần tử trong ma trận sinh có giá trị lớn hơn x:  24\n",
      "Số phần tử trong ma trận sinh có giá trị nhỏ hơn x:  0\n"
     ]
    }
   ],
   "source": [
    "#{HỌC VIÊN VIẾT CODE VÀO ĐÂY}\n",
    "x = int(input(\"Nhập vào số nguyên x bất kỳ trong khoảng (0-100): \"))\n",
    "print(\"Số phần tử trong ma trận sinh có giá trị bằng x: \",np.count_nonzero(a = x))\n",
    "print(\"Số phần tử trong ma trận sinh có giá trị lớn hơn x: \",np.count_nonzero(a > x))\n",
    "print(\"Số phần tử trong ma trận sinh có giá trị nhỏ hơn x: \",np.count_nonzero(a < x))"
   ]
  },
  {
   "cell_type": "markdown",
   "metadata": {},
   "source": [
    "# Thực hành số 2:\n",
    "---\n",
    "**YÊU CẦU 2.1: Sử dụng dữ liệu bảng điểm của lớp 2A. Cho biết:**\n",
    "\n",
    "1. ĐTB của từng học sinh trong lớp.\n",
    "2. Học sinh có điểm TB cao nhất.\n",
    "3. Học sinh có điểm trung bình thấp nhất\n"
   ]
  },
  {
   "cell_type": "code",
   "execution_count": 36,
   "metadata": {},
   "outputs": [
    {
     "data": {
      "text/plain": [
       "dtype('float64')"
      ]
     },
     "execution_count": 36,
     "metadata": {},
     "output_type": "execute_result"
    }
   ],
   "source": [
    "#{HỌC VIÊN VIẾT CODE VÀO ĐÂY}\n",
    "data = np.genfromtxt(\"Diem_2A.txt\", dtype= float, encoding = None, delimiter=\",\")\n",
    "data.dtype"
   ]
  },
  {
   "cell_type": "code",
   "execution_count": 37,
   "metadata": {},
   "outputs": [
    {
     "name": "stdout",
     "output_type": "stream",
     "text": [
      "ĐTB của từng học sinh trong lớp:  [4.8 6.  4.7 8.6 6.2 6.8 5.6 5.4 5.9 5.1 7.2 5.4 5.9 5.9 6.  7.9 4.2 6.1\n",
      " 6.3 4.4 4.7 5.9 5.6 4.7 6.4 6.2 6.5 4.6 5.8 4.3]\n",
      "Học sinh có điểm TB cao nhất:  8.6\n",
      "Học sinh có điểm trung bình thấp nhất:  4.2\n"
     ]
    }
   ],
   "source": [
    "print(\"ĐTB của từng học sinh trong lớp: \",np.mean(data, axis = 0))    \n",
    "print(\"Học sinh có điểm TB cao nhất: \",np.max(np.mean(data, axis = 0)))      \n",
    "print(\"Học sinh có điểm trung bình thấp nhất: \",np.min(np.mean(data, axis = 0)))       "
   ]
  },
  {
   "cell_type": "markdown",
   "metadata": {},
   "source": [
    "**YÊU CẦU 2.2: Sử dụng dữ liệu bảng điểm của lớp 2A. Cho biết:**\n",
    "\n",
    "1. ĐTB của từng môn học.\n",
    "2. Môn học có điểm TB cao nhất.\n",
    "3. Môn học có điểm trung bình thấp nhất"
   ]
  },
  {
   "cell_type": "code",
   "execution_count": 38,
   "metadata": {},
   "outputs": [
    {
     "name": "stdout",
     "output_type": "stream",
     "text": [
      "ĐTB của từng môn học:  [4.73 4.43 5.5  4.83 4.97 5.6  6.23 7.3  6.13 7.97]\n",
      "Môn học có điểm TB cao nhất: 7.97\n",
      "Môn học có điểm trung bình thấp nhất: 4.43\n"
     ]
    }
   ],
   "source": [
    "#{HỌC VIÊN VIẾT CODE VÀO ĐÂY}\n",
    "print(\"ĐTB của từng môn học: \", np.round(np.mean(data, axis = 1), 2))    \n",
    "print(\"Môn học có điểm TB cao nhất: %2.2f\"%np.max(np.mean(data, axis = 1)))      \n",
    "print(\"Môn học có điểm trung bình thấp nhất: %2.2f\"%np.min(np.mean(data, axis = 1)))      "
   ]
  },
  {
   "cell_type": "markdown",
   "metadata": {},
   "source": [
    "#### **YÊU CẦU 2.3: Sử dụng dữ liệu bảng điểm của lớp 2A. Cho biết:**\n",
    "---\n",
    "1. Sinh viên có điểm đồng đều nhất tất cả các môn. Sinh viên có điểm các môn lệch nhất trong lớp.\n",
    "2. Môn học có điểm đồng đều nhất. Môn học có điểm chênh lệch nhất.\n",
    "\n"
   ]
  },
  {
   "cell_type": "code",
   "execution_count": 58,
   "metadata": {},
   "outputs": [
    {
     "name": "stdout",
     "output_type": "stream",
     "text": [
      "Range của từng sinh viên:  [ 8.  7.  8.  3.  7.  9. 10.  7.  6.  9.  7.  9.  8.  9.  7.  5.  8. 10.\n",
      "  8. 10.  9.  8.  7.  7.  6. 10.  8.  8.  8.  8.]\n",
      "Sinh viên có điểm đồng đều nhất tất cả các môn:  3.0\n",
      "Sinh viên có điểm các môn lệch nhất trong lớp:  10.0\n"
     ]
    }
   ],
   "source": [
    "#{HỌC VIÊN VIẾT CODE VÀO ĐÂY}\n",
    "print(\"Range của từng sinh viên: \",np.ptp(data, axis = 0))\n",
    "print(\"Sinh viên có điểm đồng đều nhất tất cả các môn: \", np.min(np.ptp(data, axis = 0)))\n",
    "print(\"Sinh viên có điểm các môn lệch nhất trong lớp: \", np.max(np.ptp(data, axis = 0)))"
   ]
  },
  {
   "cell_type": "code",
   "execution_count": 59,
   "metadata": {},
   "outputs": [
    {
     "name": "stdout",
     "output_type": "stream",
     "text": [
      "Range của từng môn học:  [ 8. 10. 10. 10. 10.  9.  9.  2.  9.  5.]\n",
      "Môn học có điểm đồng đều nhất:  2.0\n",
      "Môn học có điểm chênh lệch nhất:  10.0\n"
     ]
    }
   ],
   "source": [
    "print(\"Range của từng môn học: \",np.ptp(data, axis = 1))\n",
    "print(\"Môn học có điểm đồng đều nhất: \", np.min(np.ptp(data, axis = 1)))\n",
    "print(\"Môn học có điểm chênh lệch nhất: \", np.max(np.ptp(data, axis = 1)))"
   ]
  },
  {
   "cell_type": "markdown",
   "metadata": {},
   "source": [
    "# Thực hành số 3:\n",
    "---\n",
    "**Yêu cầu 3.1: Xác định hệ số tương quan giữa diện tích (1)  và giá bán nhà theo bảng số liệu:**\n",
    "<img src = 'Pic\\sl1.png' width='350px'>\n"
   ]
  },
  {
   "cell_type": "code",
   "execution_count": 6,
   "metadata": {},
   "outputs": [
    {
     "name": "stdout",
     "output_type": "stream",
     "text": [
      "[[  1460. 288700.]\n",
      " [  2108. 309300.]\n",
      " [  1743. 301400.]\n",
      " [  1499. 291100.]\n",
      " [  1864. 302400.]\n",
      " [  2391. 314900.]\n",
      " [  1977. 305400.]\n",
      " [  1610. 297000.]\n",
      " [  1530. 292400.]\n",
      " [  1759. 298200.]\n",
      " [  1821. 304300.]\n",
      " [  2216. 311700.]]\n",
      "[[1.         0.97846012]\n",
      " [0.97846012 1.        ]]\n"
     ]
    }
   ],
   "source": [
    "#{HỌC VIÊN VIẾT CODE VÀO ĐÂY}\n",
    "data_sp = np.genfromtxt(\"square_price.txt\", encoding = None, delimiter=\"\\t\")\n",
    "print(data_sp)\n",
    "print(np.corrcoef(data_sp[:,0], data_sp[:,1]))"
   ]
  },
  {
   "cell_type": "markdown",
   "metadata": {},
   "source": [
    "**Yêu cầu 3.2: Xác định hệ số tương quan giữa Khoảng cách từ trung tâm thành phố (2) và giá bán nhà theo bảng số liệu:**\n",
    "<img src = 'Pic\\sl2.png' width='350px'>"
   ]
  },
  {
   "cell_type": "code",
   "execution_count": 7,
   "metadata": {},
   "outputs": [
    {
     "name": "stdout",
     "output_type": "stream",
     "text": [
      "[[  2.6 214. ]\n",
      " [  0.8 376. ]\n",
      " [  1.  280. ]\n",
      " [  0.6 362. ]\n",
      " [  1.5 200. ]\n",
      " [  2.  190. ]\n",
      " [  3.4 236. ]\n",
      " [  1.2 244. ]\n",
      " [  3.6 128. ]\n",
      " [  1.7 165. ]]\n",
      "[[ 1.        -0.7038066]\n",
      " [-0.7038066  1.       ]]\n"
     ]
    }
   ],
   "source": [
    "#{HỌC VIÊN VIẾT CODE VÀO ĐÂY}\n",
    "data_sp = np.genfromtxt(\"distant_price.txt\", encoding = None, delimiter=\"\\t\")\n",
    "print(data_sp)\n",
    "print(np.corrcoef(data_sp[:,0], data_sp[:,1]))"
   ]
  },
  {
   "cell_type": "markdown",
   "metadata": {},
   "source": [
    "## Thực hành số 4:\n",
    "---\n",
    "Mô tả file dữ liệu: Temp.txt (có trong thư mục Data_Excercise)\n",
    "* File dữ liệu lưu trữ nhiệt độ (oC) của 6 thành phố lớn dọc theo nước Việt Nam là: Hà Nội, Vinh, Đà Nẵng, Nha trang, Hồ Chính Minh và Cà Mau\n",
    "* Thời gian từ 0h ngày 15/09/2019 tới 23h ngày 22/09/2019\n",
    "\n",
    "*Học viên xem mô tả chi tiết file dữ liệu trong slide Practice4*"
   ]
  },
  {
   "cell_type": "markdown",
   "metadata": {},
   "source": [
    "**Yêu cầu 4.1**: Đọc dữ liệu lưu trữ trong file Temp.txt vào biến mảng data_temp, cho biết kích thước, số chiều, kiểu dữ liệu và số phần tử của biến data_temp.\n"
   ]
  },
  {
   "cell_type": "code",
   "execution_count": 8,
   "metadata": {},
   "outputs": [],
   "source": [
    "#{HỌC VIÊN VIẾT CODE VÀO ĐÂY}\n",
    "data_temp = np.genfromtxt(\"Temp.txt\", encoding = None, delimiter=\" \")\n",
    "data_dim = np.ndim(data_temp)\n",
    "data_shape = np.shape(data_temp)\n",
    "data_type = data_temp.dtype\n",
    "data_size = np.size(data_temp)"
   ]
  },
  {
   "cell_type": "code",
   "execution_count": 9,
   "metadata": {},
   "outputs": [
    {
     "name": "stdout",
     "output_type": "stream",
     "text": [
      "So chieu: 1152\n",
      "Kich thuoc:  (192, 6)\n",
      "Kieu du lieu:  float64\n",
      "So phan tu:  1152\n"
     ]
    }
   ],
   "source": [
    "print(\"So chieu:\" ,data_size)\n",
    "print(\"Kich thuoc: \",data_shape)\n",
    "print(\"Kieu du lieu: \",data_type)\n",
    "print(\"So phan tu: \", data_size)"
   ]
  },
  {
   "cell_type": "markdown",
   "metadata": {},
   "source": [
    "**Yêu cầu 4.2**: Tìm nhiệt độ cao nhất (Max) – Thấp nhất (Min) – Nhiệt độ trung bình của cả tập dữ liệu.\n",
    "\n",
    "**Yêu cầu 4.3**: Tìm nhiệt độ cao nhất (Max) – Thấp nhất (Min) – Nhiệt độ trung bình của từng thành phố và hiển thị kết quả.\n"
   ]
  },
  {
   "cell_type": "code",
   "execution_count": 10,
   "metadata": {},
   "outputs": [
    {
     "name": "stdout",
     "output_type": "stream",
     "text": [
      "Nhiệt độ cao nhất (Max):  33.45\n",
      "Nhiệt độ Thấp nhất (Min):  20.93\n",
      "Nhiệt độ trung bình của cả tập dữ liệu: 26.50\n"
     ]
    }
   ],
   "source": [
    "#{HỌC VIÊN VIẾT CODE VÀO ĐÂY}\n",
    "print(\"Nhiệt độ cao nhất (Max): \", np.max(data_temp))\n",
    "print(\"Nhiệt độ Thấp nhất (Min): \", np.min(data_temp))\n",
    "print(\"Nhiệt độ trung bình của cả tập dữ liệu: %2.2f\"% np.mean(data_temp))"
   ]
  },
  {
   "cell_type": "code",
   "execution_count": 34,
   "metadata": {},
   "outputs": [
    {
     "name": "stdout",
     "output_type": "stream",
     "text": [
      "Nhiệt độ cao nhất (Max) của từng thành phố :  [33.45 32.57 29.88 28.68 31.06 31.37]\n",
      "Nhiệt độ Thấp nhất (Min) của từng thành phố :  [21.68 22.6  20.93 24.5  23.22 23.99]\n",
      "Nhiệt độ trung bình  của từng thành phố : [27.71 26.72 25.52 26.17 26.16 26.73]\n"
     ]
    }
   ],
   "source": [
    "print(\"Nhiệt độ cao nhất (Max) của từng thành phố : \", np.round(np.max(data_temp, axis = 0), 2))\n",
    "print(\"Nhiệt độ Thấp nhất (Min) của từng thành phố : \", np.min(data_temp, axis = 0))\n",
    "print(\"Nhiệt độ trung bình  của từng thành phố :\" , np.round(np.mean(data_temp, axis = 0), 2))"
   ]
  },
  {
   "cell_type": "markdown",
   "metadata": {},
   "source": [
    "**Yêu cầu 4:** Tạo một ma trận data_thongke gồm 3 hàng x 7 cột; \n",
    "các hàng lần lượt lưu trữ dữ liệu như sau: \n",
    "- Hàng 0: Nhiệt độ cao nhất (Max)\n",
    "- Hàng 1: Nhiệt độ trung bình (Mean), làm tròn đến 2 số sau dấu phẩy\n",
    "- Hàng 2: Nhiệt độ nhỏ nhất (Min)\n",
    "Các cột lần lượt theo thứ tự của 6 thành phố và cột cuối cùng là cột thống kê chung cho cả 6 thành phố. Lưu ra file thongke.txt"
   ]
  },
  {
   "cell_type": "code",
   "execution_count": 62,
   "metadata": {},
   "outputs": [],
   "source": [
    "#{HỌC VIÊN VIẾT CODE VÀO ĐÂY}\n",
    "data_thongke = np.array([])\n",
    "data_mx = np.max(data_temp, axis = 0)\n",
    "data_max = np.append(np.max(data_temp), data_mx)\n",
    "data_mn = np.min(data_temp, axis = 0)\n",
    "data_min = np.append(np.min(data_temp), data_mn)\n",
    "data_av = np.mean(data_temp, axis = 0)\n",
    "data_avg = np.append(np.round(np.mean(data_temp),2), np.round(data_av,2))\n",
    "data_thongke = np.stack((data_max, data_min, data_avg))"
   ]
  },
  {
   "cell_type": "code",
   "execution_count": 66,
   "metadata": {},
   "outputs": [],
   "source": [
    "data_thongke.shape\n",
    "np.savetxt(\"thongke.txt\", data_thongke,fmt=\"%2.2f\")"
   ]
  },
  {
   "cell_type": "markdown",
   "metadata": {},
   "source": [
    "## Thực hành số 5:\n",
    "---\n",
    "Mô tả file dữ liệu: Diamonds.txt (có trong thư mục Data_Excercise)\n",
    "\n",
    "* File dữ liệu lưu trữ thông số 50 viên kim cương bao gồm: Trọng lượng (carat) và Giá bán ($) tương ứng theo mỗi hàng\n",
    "\n",
    "*Học viên xem mô tả chi tiết file dữ liệu trong slide Practice4*"
   ]
  },
  {
   "cell_type": "markdown",
   "metadata": {},
   "source": [
    "**Yêu cầu 5.1:** Đọc dữ liệu lưu trữ trong file Diamonds.txt vào biến kiểu mảng data_diamond, cho biết kích thước, số chiều, kiểu dữ liệu và số phần tử của biến data_diamond"
   ]
  },
  {
   "cell_type": "code",
   "execution_count": 68,
   "metadata": {},
   "outputs": [
    {
     "data": {
      "text/plain": [
       "array([[2.3000e-01, 4.8400e+02],\n",
       "       [3.1000e-01, 9.4200e+02],\n",
       "       [2.0000e-01, 3.4500e+02],\n",
       "       [1.0200e+00, 4.4590e+03],\n",
       "       [1.6300e+00, 1.4022e+04],\n",
       "       [1.1400e+00, 4.2120e+03],\n",
       "       [2.0100e+00, 1.1925e+04],\n",
       "       [1.2800e+00, 9.5480e+03],\n",
       "       [1.7000e+00, 1.1605e+04],\n",
       "       [1.0100e+00, 4.6420e+03],\n",
       "       [6.4000e-01, 3.5410e+03],\n",
       "       [9.7000e-01, 4.5040e+03],\n",
       "       [1.7800e+00, 1.3691e+04],\n",
       "       [3.4000e+00, 1.5964e+04],\n",
       "       [3.0100e+00, 1.0453e+04],\n",
       "       [1.5100e+00, 1.1560e+04],\n",
       "       [1.3700e+00, 7.9790e+03],\n",
       "       [1.5000e+00, 9.5330e+03],\n",
       "       [5.4000e-01, 1.7230e+03],\n",
       "       [7.2000e-01, 3.3440e+03],\n",
       "       [1.1300e+00, 6.1330e+03],\n",
       "       [2.2400e+00, 1.3827e+04],\n",
       "       [3.0100e+00, 1.6538e+04],\n",
       "       [4.5000e+00, 1.8531e+04],\n",
       "       [9.2000e-01, 3.6250e+03],\n",
       "       [1.0500e+00, 7.8790e+03],\n",
       "       [5.5000e-01, 1.3190e+03],\n",
       "       [7.4000e-01, 2.7610e+03],\n",
       "       [9.1000e-01, 3.6200e+03],\n",
       "       [1.2300e+00, 6.1650e+03],\n",
       "       [1.5200e+00, 1.0640e+04],\n",
       "       [9.1000e-01, 4.1380e+03],\n",
       "       [4.3000e-01, 1.0940e+03],\n",
       "       [1.2400e+00, 1.1130e+04],\n",
       "       [1.7700e+00, 1.4561e+04],\n",
       "       [1.7900e+00, 1.0108e+04],\n",
       "       [2.0500e+00, 1.2654e+04],\n",
       "       [2.0300e+00, 1.6280e+04],\n",
       "       [2.0100e+00, 1.3498e+04],\n",
       "       [1.0000e+00, 4.5860e+03],\n",
       "       [9.0000e-01, 3.1050e+03],\n",
       "       [1.0100e+00, 7.7450e+03],\n",
       "       [1.1400e+00, 5.0470e+03],\n",
       "       [1.5300e+00, 1.0830e+04],\n",
       "       [3.4000e-01, 7.6500e+02],\n",
       "       [4.1000e-01, 8.2700e+02],\n",
       "       [7.5000e-01, 3.1200e+03],\n",
       "       [1.0700e+00, 5.2200e+03],\n",
       "       [1.3400e+00, 7.4270e+03],\n",
       "       [1.7500e+00, 9.8900e+03]])"
      ]
     },
     "execution_count": 68,
     "metadata": {},
     "output_type": "execute_result"
    }
   ],
   "source": [
    "#{HỌC VIÊN VIẾT CODE VÀO ĐÂY}\n",
    "data_diamond = np.loadtxt(\"Diamonds.txt\",dtype = None, encoding = None, delimiter=\"\\t\")\n",
    "data_dim_d = np.ndim(data_diamond)\n",
    "data_shape_d = np.shape(data_diamond)\n",
    "data_type_d = data_diamond.dtype\n",
    "data_size_d = np.size(data_diamond)\n",
    "data_diamond"
   ]
  },
  {
   "cell_type": "code",
   "execution_count": 69,
   "metadata": {},
   "outputs": [
    {
     "name": "stdout",
     "output_type": "stream",
     "text": [
      "So chieu: 1152\n",
      "Kich thuoc:  (192, 6)\n",
      "Kieu du lieu:  float64\n",
      "So phan tu:  1152\n"
     ]
    }
   ],
   "source": [
    "print(\"So chieu:\" ,data_size)\n",
    "print(\"Kich thuoc: \",data_shape)\n",
    "print(\"Kieu du lieu: \",data_type)\n",
    "print(\"So phan tu: \", data_size)"
   ]
  },
  {
   "cell_type": "markdown",
   "metadata": {},
   "source": [
    "**Yêu cầu 5.2:** Tách mảng data_diamond thành 2 vector:  diamond_size và diamond_price lưu trữ trọng lượng và giá bán.\n"
   ]
  },
  {
   "cell_type": "code",
   "execution_count": 70,
   "metadata": {},
   "outputs": [],
   "source": [
    "#{HỌC VIÊN VIẾT CODE VÀO ĐÂY}\n",
    "\n",
    "diamond_size = data_diamond[:,0]"
   ]
  },
  {
   "cell_type": "code",
   "execution_count": 71,
   "metadata": {},
   "outputs": [
    {
     "name": "stdout",
     "output_type": "stream",
     "text": [
      "[0.23 0.31 0.2  1.02 1.63 1.14 2.01 1.28 1.7  1.01 0.64 0.97 1.78 3.4\n",
      " 3.01 1.51 1.37 1.5  0.54 0.72 1.13 2.24 3.01 4.5  0.92 1.05 0.55 0.74\n",
      " 0.91 1.23 1.52 0.91 0.43 1.24 1.77 1.79 2.05 2.03 2.01 1.   0.9  1.01\n",
      " 1.14 1.53 0.34 0.41 0.75 1.07 1.34 1.75]\n"
     ]
    }
   ],
   "source": [
    "print(diamond_size)"
   ]
  },
  {
   "cell_type": "code",
   "execution_count": 72,
   "metadata": {},
   "outputs": [
    {
     "name": "stdout",
     "output_type": "stream",
     "text": [
      "[  484.   942.   345.  4459. 14022.  4212. 11925.  9548. 11605.  4642.\n",
      "  3541.  4504. 13691. 15964. 10453. 11560.  7979.  9533.  1723.  3344.\n",
      "  6133. 13827. 16538. 18531.  3625.  7879.  1319.  2761.  3620.  6165.\n",
      " 10640.  4138.  1094. 11130. 14561. 10108. 12654. 16280. 13498.  4586.\n",
      "  3105.  7745.  5047. 10830.   765.   827.  3120.  5220.  7427.  9890.]\n"
     ]
    }
   ],
   "source": [
    "diamond_price = data_diamond[:,1]\n",
    "print(diamond_price)"
   ]
  },
  {
   "cell_type": "markdown",
   "metadata": {},
   "source": [
    "**Yêu cầu 5.3:** Vẽ đồ thị thể hiện mối quan hệ giữa kích thước và giá bán kim cương. Xác định hệ số tương quan tương ứng giữa 2 thông số này.\n"
   ]
  },
  {
   "cell_type": "code",
   "execution_count": 73,
   "metadata": {},
   "outputs": [
    {
     "data": {
      "image/png": "[encoded data removed]",
      "text/plain": [
       "<Figure size 1152x576 with 1 Axes>"
      ]
     },
     "metadata": {
      "needs_background": "light"
     },
     "output_type": "display_data"
    }
   ],
   "source": [
    "#{HỌC VIÊN VIẾT CODE VÀO ĐÂY}\n",
    "import matplotlib.pyplot as plt\n",
    "import numpy as np\n",
    "plt.figure(figsize = (16, 8))\n",
    "# plot\n",
    "\n",
    "plt.scatter(diamond_size, diamond_price)\n",
    "plt.xticks(rotation='vertical')\n",
    "plt.ylabel('Giá bán ($)')\n",
    "plt.xlabel('Trọng lượng (carat)')\n",
    "plt.title('Đồ thị thể hiện mối quan hệ giữa kích thước và giá bán kim cương', fontsize = 15)\n",
    "plt.show()"
   ]
  },
  {
   "cell_type": "code",
   "execution_count": 179,
   "metadata": {},
   "outputs": [
    {
     "data": {
      "text/plain": [
       "array([[1.       , 0.8814849],\n",
       "       [0.8814849, 1.       ]])"
      ]
     },
     "execution_count": 179,
     "metadata": {},
     "output_type": "execute_result"
    }
   ],
   "source": [
    "a = np.corrcoef(diamond_size, diamond_price)\n",
    "a"
   ]
  },
  {
   "cell_type": "markdown",
   "metadata": {},
   "source": [
    "**Yêu cầu 5.4:** Cho biết kích thước và giá trung bình của 50 viên kim cương. Hiển thị giá bán của viên kim cương có trọng lượng 3.01 carat.\n"
   ]
  },
  {
   "cell_type": "code",
   "execution_count": 168,
   "metadata": {},
   "outputs": [
    {
     "name": "stdout",
     "output_type": "stream",
     "text": [
      "1.3448000000000002\n",
      "7550.78\n"
     ]
    }
   ],
   "source": [
    "#{HỌC VIÊN VIẾT CODE VÀO ĐÂY}\n",
    "print(np.mean(diamond_size))\n",
    "print(np.mean(diamond_price))"
   ]
  },
  {
   "cell_type": "code",
   "execution_count": 187,
   "metadata": {},
   "outputs": [],
   "source": [
    "dm = data_diamond[:,0]==3.01"
   ]
  },
  {
   "cell_type": "code",
   "execution_count": 190,
   "metadata": {},
   "outputs": [
    {
     "data": {
      "text/plain": [
       "array([10453., 16538.])"
      ]
     },
     "execution_count": 190,
     "metadata": {},
     "output_type": "execute_result"
    }
   ],
   "source": [
    "data_diamond[:,1][dm]"
   ]
  }
 ],
 "metadata": {
  "colab": {
   "collapsed_sections": [],
   "name": "Chuong_4_package_Numpy.ipynb",
   "provenance": []
  },
  "kernelspec": {
   "display_name": "Python 3 (ipykernel)",
   "language": "python",
   "name": "python3"
  },
  "language_info": {
   "codemirror_mode": {
    "name": "ipython",
    "version": 3
   },
   "file_extension": ".py",
   "mimetype": "text/x-python",
   "name": "python",
   "nbconvert_exporter": "python",
   "pygments_lexer": "ipython3",
   "version": "3.8.5"
  }
 },
 "nbformat": 4,
 "nbformat_minor": 1
}
