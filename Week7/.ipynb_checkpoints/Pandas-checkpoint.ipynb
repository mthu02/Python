{
 "cells": [
  {
   "cell_type": "markdown",
   "id": "968deb6b",
   "metadata": {},
   "source": [
    "Họ và tên: Ngô Thị Minh Thư - PTDL K55\n",
    "\n",
    "Email: ngothiminhthu02@gmail.com"
   ]
  },
  {
   "cell_type": "markdown",
   "id": "d24e3d12",
   "metadata": {},
   "source": [
    "## 1. Giới thiệu Pandas\n",
    "Pandas là gì? \n",
    "\n",
    "Pandas là một thư viện Python cung cấp cấu trúc dữ liệu nhanh, mạnh mẽ, linh hoạt và mang ý nghĩa. Pandas được thiết kế để làm việc dễ dàng và trực tiếp với dữ liệu có cấu trúc (dạng bảng, đa chiều) và dữ liệu chuỗi thời gian.\n",
    "\n",
    "Pands là thư viện mã nguồn mở (open source), xử lý linh hoạt dữ liệu có cấu trúc, Trong Data Science pandas được sử dụng như là một thư viện chính để nhập xuất dữ liệu, tiền xử lý dữ liệu thô"
   ]
  },
  {
   "cell_type": "markdown",
   "id": "a20be5fc",
   "metadata": {},
   "source": [
    "Use the following import convention:"
   ]
  },
  {
   "cell_type": "code",
   "execution_count": 2,
   "id": "b776cdf4",
   "metadata": {},
   "outputs": [],
   "source": [
    "import numpy as np\n",
    "import pandas as pd"
   ]
  },
  {
   "cell_type": "markdown",
   "id": "bd3050c2",
   "metadata": {},
   "source": [
    "## 2. Tạo đối tượng cơ bản trong Pandas\n",
    "### 2.1 Series\n",
    "Một Series trong pandas rất giống với một mảng NumPy (trên thực tế, nó được xây dựng trên đối tượng mảng NumPy). Điều khác biệt giữa mảng NumPy với một series là series có thể có các nhãn trục, nghĩa là nó có thể được lập chỉ mục bởi một nhãn, thay vì chỉ một vị trí số. Nó cũng không cần phải chứa dữ liệu số, nó có thể chứa bất kỳ Đối tượng Python nào tùy ý.\n",
    "\n",
    "Bạn có thể tạo một series từ list, mảng numpy hoặc dict"
   ]
  },
  {
   "cell_type": "code",
   "execution_count": 3,
   "id": "98d9b3a4",
   "metadata": {},
   "outputs": [],
   "source": [
    "labels = ['a','b','c']\n",
    "my_list = [10,20,30]\n",
    "arr = np.array([10,20,30])\n",
    "dict = {'a':10,'b':20,'c':30}"
   ]
  },
  {
   "cell_type": "markdown",
   "id": "8aed87e0",
   "metadata": {},
   "source": [
    "Sử dụng list"
   ]
  },
  {
   "cell_type": "code",
   "execution_count": 5,
   "id": "a595d3db",
   "metadata": {},
   "outputs": [
    {
     "data": {
      "text/plain": [
       "0    10\n",
       "1    20\n",
       "2    30\n",
       "dtype: int64"
      ]
     },
     "execution_count": 5,
     "metadata": {},
     "output_type": "execute_result"
    }
   ],
   "source": [
    "pd.Series(data=my_list)"
   ]
  },
  {
   "cell_type": "markdown",
   "id": "4bda960c",
   "metadata": {},
   "source": [
    "Có gắn nhãn cho series"
   ]
  },
  {
   "cell_type": "code",
   "execution_count": 6,
   "id": "59b61a25",
   "metadata": {},
   "outputs": [
    {
     "data": {
      "text/plain": [
       "a    10\n",
       "b    20\n",
       "c    30\n",
       "dtype: int64"
      ]
     },
     "execution_count": 6,
     "metadata": {},
     "output_type": "execute_result"
    }
   ],
   "source": [
    "pd.Series(data=my_list,index=labels)"
   ]
  },
  {
   "cell_type": "markdown",
   "id": "1d17de5d",
   "metadata": {},
   "source": [
    "Có thể viết gọn không cần truyền tham số mà chỉ cần đối số"
   ]
  },
  {
   "cell_type": "code",
   "execution_count": 7,
   "id": "c70ca9c5",
   "metadata": {},
   "outputs": [
    {
     "data": {
      "text/plain": [
       "a    10\n",
       "b    20\n",
       "c    30\n",
       "dtype: int64"
      ]
     },
     "execution_count": 7,
     "metadata": {},
     "output_type": "execute_result"
    }
   ],
   "source": [
    "pd.Series(my_list,labels)"
   ]
  },
  {
   "cell_type": "markdown",
   "id": "0747e44d",
   "metadata": {},
   "source": [
    "Tạo series từ một mảng numpy ( array numpy)"
   ]
  },
  {
   "cell_type": "code",
   "execution_count": 8,
   "id": "a6437f15",
   "metadata": {},
   "outputs": [
    {
     "data": {
      "text/plain": [
       "a    10\n",
       "b    20\n",
       "c    30\n",
       "dtype: int32"
      ]
     },
     "execution_count": 8,
     "metadata": {},
     "output_type": "execute_result"
    }
   ],
   "source": [
    "pd.Series(arr,labels)"
   ]
  },
  {
   "cell_type": "markdown",
   "id": "b00820ea",
   "metadata": {},
   "source": [
    "Tạo từ 1 dictionary"
   ]
  },
  {
   "cell_type": "code",
   "execution_count": 9,
   "id": "8431292d",
   "metadata": {},
   "outputs": [
    {
     "data": {
      "text/plain": [
       "a    10\n",
       "b    20\n",
       "c    30\n",
       "dtype: int64"
      ]
     },
     "execution_count": 9,
     "metadata": {},
     "output_type": "execute_result"
    }
   ],
   "source": [
    "pd.Series(dict)"
   ]
  },
  {
   "cell_type": "markdown",
   "id": "303d3523",
   "metadata": {},
   "source": [
    "#### Kiểu dữ liệu trong Series\n",
    "Pandas có thể chứa nhiều kiểu dữ liệu khác nhau như số (integer), chuỗi (string), kiểu boolean (True, false), kiểu dữ liệu NaN."
   ]
  },
  {
   "cell_type": "code",
   "execution_count": 10,
   "id": "baabde88",
   "metadata": {},
   "outputs": [
    {
     "data": {
      "text/plain": [
       "0    a\n",
       "1    b\n",
       "2    c\n",
       "dtype: object"
      ]
     },
     "execution_count": 10,
     "metadata": {},
     "output_type": "execute_result"
    }
   ],
   "source": [
    "pd.Series(data=labels)"
   ]
  },
  {
   "cell_type": "markdown",
   "id": "f7c2372e",
   "metadata": {},
   "source": [
    "### 2.2 Dataframe\n",
    "Data Frame là gì?\n",
    "\n",
    "DataFrame là một loạt các Series được ghép lại với nhau để chia sẻ cùng một chỉ mục (index), nó tương tự như trên bảng tính excel mà ta đã từng gặp qua. Bao gồm các dòng và cột, các cột ở đây tương ứng như một series mà ta đã học trong bài trước."
   ]
  },
  {
   "cell_type": "markdown",
   "id": "fdf49b4e",
   "metadata": {},
   "source": [
    "<img src=\"files/image.png\">\n",
    "Tạo 1 Data Frame từ list"
   ]
  },
  {
   "cell_type": "code",
   "execution_count": 14,
   "id": "691ffe87",
   "metadata": {},
   "outputs": [],
   "source": [
    "list = [[1,6],[2,7],[3,8],[4,9],[5,10]]\n",
    "dict = {'A': [1,2,3,4,5], \"B\": [6,7,8,9,10]}\n",
    "column = ['A','B']\n",
    "index = ['I1', 'I2',\"I3\",'I4',\"I5\"]"
   ]
  },
  {
   "cell_type": "code",
   "execution_count": 15,
   "id": "34b862a1",
   "metadata": {},
   "outputs": [
    {
     "name": "stdout",
     "output_type": "stream",
     "text": [
      "   0   1\n",
      "0  1   6\n",
      "1  2   7\n",
      "2  3   8\n",
      "3  4   9\n",
      "4  5  10\n"
     ]
    }
   ],
   "source": [
    "df = pd.DataFrame(list)\n",
    "print(df)"
   ]
  },
  {
   "cell_type": "markdown",
   "id": "c7a382a6",
   "metadata": {},
   "source": [
    "Mặc định khi tạo Data Frame sẽ gán giá trị theo thứ tự từ 0 trở đi cho cột và dòng, nếu muốn thay đổi tên cột và dòng ta làm như sau"
   ]
  },
  {
   "cell_type": "code",
   "execution_count": 16,
   "id": "06da9d2f",
   "metadata": {},
   "outputs": [
    {
     "data": {
      "text/html": [
       "<div>\n",
       "<style scoped>\n",
       "    .dataframe tbody tr th:only-of-type {\n",
       "        vertical-align: middle;\n",
       "    }\n",
       "\n",
       "    .dataframe tbody tr th {\n",
       "        vertical-align: top;\n",
       "    }\n",
       "\n",
       "    .dataframe thead th {\n",
       "        text-align: right;\n",
       "    }\n",
       "</style>\n",
       "<table border=\"1\" class=\"dataframe\">\n",
       "  <thead>\n",
       "    <tr style=\"text-align: right;\">\n",
       "      <th></th>\n",
       "      <th>A</th>\n",
       "      <th>B</th>\n",
       "    </tr>\n",
       "  </thead>\n",
       "  <tbody>\n",
       "    <tr>\n",
       "      <th>I1</th>\n",
       "      <td>1</td>\n",
       "      <td>6</td>\n",
       "    </tr>\n",
       "    <tr>\n",
       "      <th>I2</th>\n",
       "      <td>2</td>\n",
       "      <td>7</td>\n",
       "    </tr>\n",
       "    <tr>\n",
       "      <th>I3</th>\n",
       "      <td>3</td>\n",
       "      <td>8</td>\n",
       "    </tr>\n",
       "    <tr>\n",
       "      <th>I4</th>\n",
       "      <td>4</td>\n",
       "      <td>9</td>\n",
       "    </tr>\n",
       "    <tr>\n",
       "      <th>I5</th>\n",
       "      <td>5</td>\n",
       "      <td>10</td>\n",
       "    </tr>\n",
       "  </tbody>\n",
       "</table>\n",
       "</div>"
      ],
      "text/plain": [
       "    A   B\n",
       "I1  1   6\n",
       "I2  2   7\n",
       "I3  3   8\n",
       "I4  4   9\n",
       "I5  5  10"
      ]
     },
     "execution_count": 16,
     "metadata": {},
     "output_type": "execute_result"
    }
   ],
   "source": [
    "df = pd.DataFrame(dict, index = index, columns= column)\n",
    "df"
   ]
  },
  {
   "cell_type": "markdown",
   "id": "2a2ba170",
   "metadata": {},
   "source": [
    "Tạo 1 Data Frame từ Dictionary"
   ]
  },
  {
   "cell_type": "code",
   "execution_count": 17,
   "id": "b7f231cb",
   "metadata": {},
   "outputs": [
    {
     "name": "stdout",
     "output_type": "stream",
     "text": [
      "   A   B\n",
      "0  1   6\n",
      "1  2   7\n",
      "2  3   8\n",
      "3  4   9\n",
      "4  5  10\n"
     ]
    }
   ],
   "source": [
    "df = pd.DataFrame(dict)\n",
    "print(df)"
   ]
  },
  {
   "cell_type": "markdown",
   "id": "5ebf260a",
   "metadata": {},
   "source": [
    "Lúc này, các khóa trong dict mặc định là tên cột, index được gán mặc định là thứ tự từ 0 trở đi\n",
    "\n",
    "Ta có thể gán index theo cú pháp bên dưới"
   ]
  },
  {
   "cell_type": "code",
   "execution_count": 18,
   "id": "5e71888f",
   "metadata": {},
   "outputs": [
    {
     "name": "stdout",
     "output_type": "stream",
     "text": [
      "    A   B\n",
      "I1  1   6\n",
      "I2  2   7\n",
      "I3  3   8\n",
      "I4  4   9\n",
      "I5  5  10\n"
     ]
    }
   ],
   "source": [
    "df = pd.DataFrame(dict, index = index)\n",
    "print(df)"
   ]
  },
  {
   "cell_type": "markdown",
   "id": "9586bb41",
   "metadata": {},
   "source": [
    "Phương thức khác để tạo một data frame từ numpy"
   ]
  },
  {
   "cell_type": "code",
   "execution_count": 19,
   "id": "ac38a2fa",
   "metadata": {},
   "outputs": [
    {
     "name": "stdout",
     "output_type": "stream",
     "text": [
      "          W         X         Y         Z\n",
      "A  2.706850  0.628133  0.907969  0.503826\n",
      "B  0.651118 -0.319318 -0.848077  0.605965\n",
      "C -2.018168  0.740122  0.528813 -0.589001\n",
      "D  0.188695 -0.758872 -0.933237  0.955057\n",
      "E  0.190794  1.978757  2.605967  0.683509\n"
     ]
    }
   ],
   "source": [
    "from numpy.random import randn # Lấy thư viện random\n",
    "np.random.seed(101) # cố định số ngẫu nhiên tạo ra từ random\n",
    "df = pd.DataFrame(randn(5,4),index='A B C D E'.split(),columns='W X Y Z'.split())\n",
    "print(df)"
   ]
  },
  {
   "cell_type": "markdown",
   "id": "d3942999",
   "metadata": {},
   "source": [
    "### 3. Đọc dữ liệu từ các nguồn khác nhau\n",
    "#### Đọc dữ liệu từ file CSV\n",
    "With CSV files all you need is a single line to load in the data:"
   ]
  },
  {
   "cell_type": "code",
   "execution_count": null,
   "id": "5d359be8",
   "metadata": {},
   "outputs": [],
   "source": [
    "df = pd.read_csv('purchases.csv')\n",
    "\n",
    "df"
   ]
  },
  {
   "cell_type": "markdown",
   "id": "0c9f61c0",
   "metadata": {},
   "source": [
    "CSVs don't have indexes like our DataFrames, so all we need to do is just designate the index_col when reading:\n",
    "Here we're setting the index to be column zero."
   ]
  },
  {
   "cell_type": "code",
   "execution_count": null,
   "id": "2d284286",
   "metadata": {},
   "outputs": [],
   "source": [
    "df = pd.read_csv('purchases.csv', index_col=0)\n",
    "df"
   ]
  },
  {
   "cell_type": "markdown",
   "id": "e426b78a",
   "metadata": {},
   "source": [
    "#### Đọc dữ liệu từ file JSON\n",
    "If you have a JSON file — which is essentially a stored Python dict — pandas can read this just as easily:"
   ]
  },
  {
   "cell_type": "code",
   "execution_count": null,
   "id": "fb801eaa",
   "metadata": {},
   "outputs": [],
   "source": [
    "df = pd.read_json('purchases.json')\n",
    "df"
   ]
  },
  {
   "cell_type": "markdown",
   "id": "e33b4c0b",
   "metadata": {},
   "source": [
    "Pandas will try to figure out how to create a DataFrame by analyzing structure of your JSON, and sometimes it doesn't get it right. Often you'll need to set the orient keyword argument depending on the structure, so check out read_json docs about that argument to see which orientation you're using."
   ]
  },
  {
   "cell_type": "markdown",
   "id": "7d60535a",
   "metadata": {},
   "source": [
    "#### Đọc dữ liệu từ SQL database\n",
    "If you’re working with data from a SQL database you need to first establish a connection using an appropriate Python library, then pass a query to pandas. Here we'll use SQLite to demonstrate.\n",
    "\n",
    "First, we need pysqlite3 installed, so run this command in your terminal:"
   ]
  },
  {
   "cell_type": "code",
   "execution_count": 22,
   "id": "93433445",
   "metadata": {
    "scrolled": true
   },
   "outputs": [
    {
     "name": "stdout",
     "output_type": "stream",
     "text": [
      "Collecting pysqlite3\n",
      "  Using cached pysqlite3-0.4.7.tar.gz (40 kB)\n",
      "  Preparing metadata (setup.py): started\n",
      "  Preparing metadata (setup.py): finished with status 'done'\n",
      "Building wheels for collected packages: pysqlite3\n",
      "  Building wheel for pysqlite3 (setup.py): started\n",
      "  Building wheel for pysqlite3 (setup.py): finished with status 'done'\n",
      "  Running setup.py clean for pysqlite3\n",
      "Failed to build pysqlite3\n",
      "Installing collected packages: pysqlite3\n",
      "  Running setup.py install for pysqlite3: started\n",
      "  Running setup.py install for pysqlite3: finished with status 'done'\n",
      "Successfully installed pysqlite3\n"
     ]
    },
    {
     "name": "stderr",
     "output_type": "stream",
     "text": [
      "WARNING: Ignoring invalid distribution -orch (c:\\users\\admin\\anaconda3\\lib\\site-packages)\n",
      "WARNING: Ignoring invalid distribution -orch (c:\\users\\admin\\anaconda3\\lib\\site-packages)\n",
      "  WARNING: Legacy build of wheel for 'pysqlite3' created no files.\n",
      "  Command arguments: 'C:\\Users\\ADMIN\\anaconda3\\python.exe' -u -c '\n",
      "  exec(compile('\"'\"''\"'\"''\"'\"'\n",
      "  # This is <pip-setuptools-caller> -- a caller that pip uses to run setup.py\n",
      "  #\n",
      "  # - It imports setuptools before invoking setup.py, to enable projects that directly\n",
      "  #   import from `distutils.core` to work with newer packaging standards.\n",
      "  # - It provides a clear error message when setuptools is not installed.\n",
      "  # - It sets `sys.argv[0]` to the underlying `setup.py`, when invoking `setup.py` so\n",
      "  #   setuptools doesn'\"'\"'t think the script is `-c`. This avoids the following warning:\n",
      "  #     manifest_maker: standard file '\"'\"'-c'\"'\"' not found\".\n",
      "  # - It generates a shim setup.py, for handling setup.cfg-only projects.\n",
      "  import os, sys, tokenize\n",
      "  \n",
      "  try:\n",
      "      import setuptools\n",
      "  except ImportError as error:\n",
      "      print(\n",
      "          \"ERROR: Can not execute `setup.py` since setuptools is not available in \"\n",
      "          \"the build environment.\",\n",
      "          file=sys.stderr,\n",
      "      )\n",
      "      sys.exit(1)\n",
      "  \n",
      "  __file__ = %r\n",
      "  sys.argv[0] = __file__\n",
      "  \n",
      "  if os.path.exists(__file__):\n",
      "      filename = __file__\n",
      "      with tokenize.open(__file__) as f:\n",
      "          setup_py_code = f.read()\n",
      "  else:\n",
      "      filename = \"<auto-generated setuptools caller>\"\n",
      "      setup_py_code = \"from setuptools import setup; setup()\"\n",
      "  \n",
      "  exec(compile(setup_py_code, filename, \"exec\"))\n",
      "  '\"'\"''\"'\"''\"'\"' % ('\"'\"'C:\\\\Users\\\\ADMIN\\\\AppData\\\\Local\\\\Temp\\\\pip-install-r57sniau\\\\pysqlite3_63e49b6870634824ae59bce23c7cbb14\\\\setup.py'\"'\"',), \"<pip-setuptools-caller>\", \"exec\"))' bdist_wheel -d 'C:\\Users\\ADMIN\\AppData\\Local\\Temp\\pip-wheel-ze53xdjv'\n",
      "  Command output: [use --verbose to show]\n",
      "WARNING: Ignoring invalid distribution -orch (c:\\users\\admin\\anaconda3\\lib\\site-packages)\n",
      "WARNING: Ignoring invalid distribution -orch (c:\\users\\admin\\anaconda3\\lib\\site-packages)\n",
      "WARNING: Ignoring invalid distribution -orch (c:\\users\\admin\\anaconda3\\lib\\site-packages)\n",
      "WARNING: Ignoring invalid distribution -orch (c:\\users\\admin\\anaconda3\\lib\\site-packages)\n",
      "WARNING: Ignoring invalid distribution -orch (c:\\users\\admin\\anaconda3\\lib\\site-packages)\n"
     ]
    }
   ],
   "source": [
    "!pip install pysqlite3"
   ]
  },
  {
   "cell_type": "markdown",
   "id": "be851e1a",
   "metadata": {},
   "source": [
    "sqlite3 is used to create a connection to a database which we can then use to generate a DataFrame through a SELECT query.\n",
    "\n",
    "So first we'll make a connection to a SQLite database file:"
   ]
  },
  {
   "cell_type": "code",
   "execution_count": 24,
   "id": "5078865d",
   "metadata": {},
   "outputs": [],
   "source": [
    "import sqlite3\n",
    "\n",
    "con = sqlite3.connect(\"database.db\")"
   ]
  },
  {
   "cell_type": "markdown",
   "id": "7adcf2f5",
   "metadata": {},
   "source": [
    "If you have data in PostgreSQL, MySQL, or some other SQL server, you'll need to obtain the right Python library to make a connection. For example, psycopg2 (link) is a commonly used library for making connections to PostgreSQL. Furthermore, you would make a connection to a database URI instead of a file.\n",
    "\n",
    "In this SQLite database we have a table called purchases, and our index is in a column called \"index\".\n",
    "\n",
    "By passing a SELECT query and our con, we can read from the purchases table:"
   ]
  },
  {
   "cell_type": "code",
   "execution_count": null,
   "id": "d220d25f",
   "metadata": {},
   "outputs": [],
   "source": [
    "df = pd.read_sql_query(\"SELECT * FROM purchases\", con)\n",
    "\n",
    "df"
   ]
  },
  {
   "cell_type": "markdown",
   "id": "09428e57",
   "metadata": {},
   "source": [
    "Just like with CSVs, we could pass index_col='index', but we can also set an index after-the-fact:"
   ]
  },
  {
   "cell_type": "code",
   "execution_count": null,
   "id": "7d4a3772",
   "metadata": {},
   "outputs": [],
   "source": [
    "df = df.set_index('index')\n",
    "\n",
    "df"
   ]
  },
  {
   "cell_type": "markdown",
   "id": "8098bb1a",
   "metadata": {},
   "source": [
    "Converting back to a CSV, JSON, or SQL\n",
    "\n",
    "So after extensive work on cleaning your data, you’re now ready to save it as a file of your choice. Similar to the ways we read in data, pandas provides intuitive commands to save it.\n",
    "\n",
    "When we save JSON and CSV files, all we have to input into those functions is our desired filename with the appropriate file extension. With SQL, we’re not creating a new file but instead inserting a new table into the database using our con variable from before."
   ]
  },
  {
   "cell_type": "code",
   "execution_count": null,
   "id": "5eb6eefa",
   "metadata": {},
   "outputs": [],
   "source": [
    "df.to_csv('new_purchases.csv')\n",
    "\n",
    "df.to_json('new_purchases.json')\n",
    "\n",
    "df.to_sql('new_purchases', con)"
   ]
  },
  {
   "cell_type": "markdown",
   "id": "75174477",
   "metadata": {},
   "source": [
    "### 4. Quan sát và truy xuất dữ liệu trong DataFrame\n",
    "Let's load in the IMDB movies dataset to begin:"
   ]
  },
  {
   "cell_type": "code",
   "execution_count": null,
   "id": "915cb125",
   "metadata": {},
   "outputs": [],
   "source": [
    "movies_df = pd.read_csv(\"IMDB-Movie-Data.csv\", index_col=\"Title\")"
   ]
  },
  {
   "cell_type": "markdown",
   "id": "c9d2e4d2",
   "metadata": {},
   "source": [
    "#### Viewing your data\n",
    "\n",
    "The first thing to do when opening a new dataset is print out a few rows to keep as a visual reference. We accomplish this with .head():m"
   ]
  },
  {
   "cell_type": "code",
   "execution_count": null,
   "id": "f5b396ef",
   "metadata": {},
   "outputs": [],
   "source": [
    "movies_df.head()"
   ]
  },
  {
   "cell_type": "markdown",
   "id": "4c55cb9c",
   "metadata": {},
   "source": [
    ".head() outputs the first five rows of your DataFrame by default, but we could also pass a number as well: movies_df.head(10) would output the top ten rows, for example.\n",
    "\n",
    "To see the last five rows use .tail(). tail() also accepts a number, and in this case we printing the bottom two rows.:"
   ]
  },
  {
   "cell_type": "code",
   "execution_count": null,
   "id": "83edce16",
   "metadata": {},
   "outputs": [],
   "source": [
    "movies_df.tail(2)"
   ]
  },
  {
   "cell_type": "markdown",
   "id": "056040f8",
   "metadata": {},
   "source": [
    "#### Getting info about your data\n",
    "\n",
    ".info() should be one of the very first commands you run after loading your data:"
   ]
  },
  {
   "cell_type": "code",
   "execution_count": null,
   "id": "ad4bcf0f",
   "metadata": {},
   "outputs": [],
   "source": [
    "movies_df.info()"
   ]
  },
  {
   "cell_type": "markdown",
   "id": "3709faeb",
   "metadata": {},
   "source": [
    ".info() provides the essential details about your dataset, such as the number of rows and columns, the number of non-null values, what type of data is in each column, and how much memory your DataFrame is using.\n",
    "\n",
    "Notice in our movies dataset we have some obvious missing values in the Revenue and Metascore columns. We'll look at how to handle those in a bit.\n",
    "\n",
    "Seeing the datatype quickly is actually quite useful. Imagine you just imported some JSON and the integers were recorded as strings. You go to do some arithmetic and find an \"unsupported operand\" Exception because you can't do math with strings. Calling .info() will quickly point out that your column you thought was all integers are actually string objects.\n",
    "\n",
    "Another fast and useful attribute is .shape, which outputs just a tuple of (rows, columns):"
   ]
  },
  {
   "cell_type": "code",
   "execution_count": null,
   "id": "737294a3",
   "metadata": {},
   "outputs": [],
   "source": [
    "movies_df.shape"
   ]
  },
  {
   "cell_type": "markdown",
   "id": "1553948b",
   "metadata": {},
   "source": [
    "#### Truy xuất dữ liệu\n",
    "Dựa vào tên column ta truy suất cột (lúc này trả về cho ta là 1 series)"
   ]
  },
  {
   "cell_type": "code",
   "execution_count": null,
   "id": "3041ed6c",
   "metadata": {},
   "outputs": [],
   "source": [
    "movies_df['Genre']\n",
    "# hoặc ta có thể truy suất theo thuộc tính cột \n",
    "movies_df.Genre # nếu tên cột không có khoảng cách"
   ]
  },
  {
   "cell_type": "markdown",
   "id": "a6166ef4",
   "metadata": {},
   "source": [
    "Ta có thể truy xuất nhiều cột"
   ]
  },
  {
   "cell_type": "code",
   "execution_count": null,
   "id": "f1d6b92d",
   "metadata": {},
   "outputs": [],
   "source": [
    "# bằng cách sử dụng 2 dấu ngoặc vuông\n",
    "movies_df[['Title','Director']]"
   ]
  },
  {
   "cell_type": "markdown",
   "id": "a51c3919",
   "metadata": {},
   "source": [
    "Để truy xuất dữ liệu theo dòng, ta dùng hàm loc()"
   ]
  },
  {
   "cell_type": "code",
   "execution_count": null,
   "id": "9ddec77c",
   "metadata": {},
   "outputs": [],
   "source": [
    "movies_df.loc[[\"Search Party\",\"Nine Lives\"]]"
   ]
  },
  {
   "cell_type": "markdown",
   "id": "f1902a99",
   "metadata": {},
   "source": [
    "Tạo cột mới trong data frame"
   ]
  },
  {
   "cell_type": "code",
   "execution_count": null,
   "id": "b548524a",
   "metadata": {},
   "outputs": [],
   "source": [
    "movies_df['new'] = df['Rank'] + df['Genre']"
   ]
  },
  {
   "cell_type": "markdown",
   "id": "2d5d7241",
   "metadata": {},
   "source": [
    "Xóa cột trong Data frame"
   ]
  },
  {
   "cell_type": "code",
   "execution_count": null,
   "id": "0b602f83",
   "metadata": {},
   "outputs": [],
   "source": [
    "movies_df.drop('new',axis=1,inplace=True)\n",
    "print(df)"
   ]
  },
  {
   "cell_type": "markdown",
   "id": "f6ba98b7",
   "metadata": {},
   "source": [
    "Xóa dòng "
   ]
  },
  {
   "cell_type": "code",
   "execution_count": null,
   "id": "476e890d",
   "metadata": {},
   "outputs": [],
   "source": [
    "movies_df.drop('Search Party',axis=0)\n",
    "print(df)"
   ]
  },
  {
   "cell_type": "markdown",
   "id": "635ce4b3",
   "metadata": {},
   "source": [
    "#### Truy xuất giá trị có điều kiện trong Data Frame"
   ]
  },
  {
   "cell_type": "code",
   "execution_count": null,
   "id": "82258033",
   "metadata": {},
   "outputs": [],
   "source": [
    "# Truy xuất giá trị Rank nhỏ hơn 500 trong data frame \n",
    "movies_df[movies_df['Rank']<500]"
   ]
  },
  {
   "cell_type": "code",
   "execution_count": null,
   "id": "91a0c588",
   "metadata": {},
   "outputs": [],
   "source": [
    "# Truy xuất giá trị Rank nhỏ hơn 500 trong data frame \n",
    "# và chỉ truy show ra 2 cột 'Director','Rating'\n",
    "movies_df[movies_df['Rank']<500][['Director','Rating']]"
   ]
  },
  {
   "cell_type": "markdown",
   "id": "7f6ed129",
   "metadata": {},
   "source": [
    "Truy xuất kết hợp nhiều điều kiện"
   ]
  },
  {
   "cell_type": "code",
   "execution_count": null,
   "id": "36dc445b",
   "metadata": {},
   "outputs": [],
   "source": [
    "movies_df[(movies_df['Rank']<500) & (movies_df['Rating']>2.5)]"
   ]
  },
  {
   "cell_type": "markdown",
   "id": "cfff23f0",
   "metadata": {},
   "source": [
    "### 5. Replacing Values, Rename Columns\n",
    "#### Handling duplicates\n",
    "This dataset does not have duplicate rows, but it is always important to verify you aren't aggregating duplicate rows.\n",
    "\n",
    "To demonstrate, let's simply just double up our movies DataFrame by appending it to itself:"
   ]
  },
  {
   "cell_type": "code",
   "execution_count": null,
   "id": "67c2e86f",
   "metadata": {},
   "outputs": [],
   "source": [
    "temp_df = movies_df.append(movies_df)\n",
    "\n",
    "temp_df.shape"
   ]
  },
  {
   "cell_type": "markdown",
   "id": "1a46b127",
   "metadata": {},
   "source": [
    "Now we can try dropping duplicates:"
   ]
  },
  {
   "cell_type": "code",
   "execution_count": null,
   "id": "ce07e4ba",
   "metadata": {},
   "outputs": [],
   "source": [
    "temp_df = temp_df.drop_duplicates()\n",
    "\n",
    "temp_df.shape\n"
   ]
  },
  {
   "cell_type": "markdown",
   "id": "f6d9e1de",
   "metadata": {},
   "source": [
    "Now our temp_df will have the transformed data automatically.\n",
    "\n",
    "Another important argument for drop_duplicates() is keep, which has three possible options:\n",
    "\n",
    "    first: (default) Drop duplicates except for the first occurrence.\n",
    "    last: Drop duplicates except for the last occurrence.\n",
    "    False: Drop all duplicates.\n",
    "\n",
    "Since we didn't define the keep arugment in the previous example it was defaulted to first. This means that if two rows are the same pandas will drop the second row and keep the first row. Using last has the opposite effect: the first row is dropped."
   ]
  },
  {
   "cell_type": "markdown",
   "id": "40063bfd",
   "metadata": {},
   "source": [
    "#### Column cleanup\n",
    "Many times datasets will have verbose column names with symbols, upper and lowercase words, spaces, and typos. To make selecting data by column name easier we can spend a little time cleaning up their names.\n",
    "\n",
    "Here's how to print the column names of our dataset:"
   ]
  },
  {
   "cell_type": "code",
   "execution_count": null,
   "id": "9a19efea",
   "metadata": {},
   "outputs": [],
   "source": [
    "movies_df.columns"
   ]
  },
  {
   "cell_type": "markdown",
   "id": "707765b4",
   "metadata": {},
   "source": [
    "Not only does .columns come in handy if you want to rename columns by allowing for simple copy and paste, it's also useful if you need to understand why you are receiving a Key Error when selecting data by column.\n",
    "\n",
    "We can use the .rename() method to rename certain or all columns via a dict. We don't want parentheses, so let's rename those:"
   ]
  },
  {
   "cell_type": "code",
   "execution_count": null,
   "id": "1d5cf842",
   "metadata": {},
   "outputs": [],
   "source": [
    "movies_df.rename(columns={\n",
    "        'Runtime (Minutes)': 'Runtime', \n",
    "        'Revenue (Millions)': 'Revenue_millions'\n",
    "    }, inplace=True)\n",
    "\n",
    "\n",
    "movies_df.columns\n"
   ]
  },
  {
   "cell_type": "markdown",
   "id": "72070d55",
   "metadata": {},
   "source": [
    "Excellent. But what if we want to lowercase all names? Instead of using .rename() we could also set a list of names to the columns like so:"
   ]
  },
  {
   "cell_type": "code",
   "execution_count": null,
   "id": "98bd578e",
   "metadata": {},
   "outputs": [],
   "source": [
    "movies_df.columns =  [col.lower() for col in movies_df]\n",
    "\n",
    "movies_df.columns"
   ]
  },
  {
   "cell_type": "markdown",
   "id": "68b0094c",
   "metadata": {},
   "source": [
    "#### How to work with missing values\n",
    "When exploring data, you’ll most likely encounter missing or null values, which are essentially placeholders for non-existent values. Most commonly you'll see Python's None or NumPy's np.nan, each of which are handled differently in some situations.\n",
    "\n",
    "There are two options in dealing with nulls:\n",
    "\n",
    "    Get rid of rows or columns with nulls\n",
    "    Replace nulls with non-null values, a technique known as imputation\n",
    "\n",
    "Let's calculate to total number of nulls in each column of our dataset. The first step is to check which cells in our DataFrame are null:"
   ]
  },
  {
   "cell_type": "code",
   "execution_count": null,
   "id": "8fc61b89",
   "metadata": {},
   "outputs": [],
   "source": [
    "movies_df.isnull()"
   ]
  },
  {
   "cell_type": "markdown",
   "id": "9da5b075",
   "metadata": {},
   "source": [
    "Notice isnull() returns a DataFrame where each cell is either True or False depending on that cell's null status.\n",
    "\n",
    "To count the number of nulls in each column we use an aggregate function for summing:"
   ]
  },
  {
   "cell_type": "code",
   "execution_count": null,
   "id": "faf24da9",
   "metadata": {},
   "outputs": [],
   "source": [
    "movies_df.isnull().sum()"
   ]
  },
  {
   "cell_type": "markdown",
   "id": "f4d3e8ca",
   "metadata": {},
   "source": [
    "We can see now that our data has 128 missing values for revenue_millions and 64 missing values for metascore."
   ]
  },
  {
   "cell_type": "markdown",
   "id": "04dd0c5c",
   "metadata": {},
   "source": [
    "#### Removing null values\n",
    "\n",
    "Data Scientists and Analysts regularly face the dilemma of dropping or imputing null values, and is a decision that requires intimate knowledge of your data and its context. Overall, removing null data is only suggested if you have a small amount of missing data.\n",
    "\n",
    "Remove nulls is pretty simple:"
   ]
  },
  {
   "cell_type": "code",
   "execution_count": null,
   "id": "2307a481",
   "metadata": {},
   "outputs": [],
   "source": [
    "movies_df.dropna()"
   ]
  },
  {
   "cell_type": "markdown",
   "id": "18c7e128",
   "metadata": {},
   "source": [
    "This operation will delete any row with at least a single null value, but it will return a new DataFrame without altering the original one. You could specify inplace=True in this method as well.\n",
    "\n",
    "So in the case of our dataset, this operation would remove 128 rows where revenue_millions is null and 64 rows where metascore is null. This obviously seems like a waste since there's perfectly good data in the other columns of those dropped rows. That's why we'll look at imputation next.\n",
    "\n",
    "Other than just dropping rows, you can also drop columns with null values by setting axis=1:"
   ]
  },
  {
   "cell_type": "code",
   "execution_count": null,
   "id": "22785d39",
   "metadata": {},
   "outputs": [],
   "source": [
    "movies_df.dropna(axis=1)"
   ]
  },
  {
   "cell_type": "markdown",
   "id": "a5dd4a94",
   "metadata": {},
   "source": [
    "In our dataset, this operation would drop the revenue_millions and metascore columns\n",
    "#### Imputation\n",
    "There may be instances where dropping every row with a null value removes too big a chunk from your dataset, so instead we can impute that null with another value, usually the mean or the median of that column.\n",
    "\n",
    "Let's look at imputing the missing values in the revenue_millions column. First we'll extract that column into its own variable:"
   ]
  },
  {
   "cell_type": "code",
   "execution_count": null,
   "id": "14a5969a",
   "metadata": {},
   "outputs": [],
   "source": [
    "revenue = movies_df['revenue_millions']"
   ]
  },
  {
   "cell_type": "code",
   "execution_count": null,
   "id": "c7b8efdd",
   "metadata": {},
   "outputs": [],
   "source": [
    "revenue.head()"
   ]
  },
  {
   "cell_type": "code",
   "execution_count": null,
   "id": "3b3550cb",
   "metadata": {},
   "outputs": [],
   "source": [
    "revenue_mean = revenue.mean()"
   ]
  },
  {
   "cell_type": "markdown",
   "id": "8b7a085c",
   "metadata": {},
   "source": [
    "With the mean, let's fill the nulls using fillna():"
   ]
  },
  {
   "cell_type": "code",
   "execution_count": null,
   "id": "056d20f3",
   "metadata": {},
   "outputs": [],
   "source": [
    "revenue.fillna(revenue_mean, inplace=True)"
   ]
  },
  {
   "cell_type": "code",
   "execution_count": null,
   "id": "2985a5ba",
   "metadata": {},
   "outputs": [],
   "source": [
    "movies_df.isnull().sum()"
   ]
  },
  {
   "cell_type": "markdown",
   "id": "25b3d0fc",
   "metadata": {},
   "source": [
    "### 6. Lọc dữ liệu trong DataFrame\n",
    "#### .where()\n",
    "Việc select các giá trị từ một Series với một Filter (véc tơ boolean) thường trả về một tập con của dữ liệu. Để đảm bảo rằng đầu ra của select có cùng hình dạng với dữ liệu ban đầu, bạn có thể sử dụng phương thức where trong Series và Dataframe. Ví dụ:"
   ]
  },
  {
   "cell_type": "code",
   "execution_count": 25,
   "id": "2d9f44e3",
   "metadata": {},
   "outputs": [],
   "source": [
    "s = pd.Series([12,34,56,78],index = [1,2,3,4])"
   ]
  },
  {
   "cell_type": "code",
   "execution_count": 26,
   "id": "91be760f",
   "metadata": {},
   "outputs": [
    {
     "data": {
      "text/plain": [
       "1    12\n",
       "2    34\n",
       "3    56\n",
       "4    78\n",
       "dtype: int64"
      ]
     },
     "execution_count": 26,
     "metadata": {},
     "output_type": "execute_result"
    }
   ],
   "source": [
    "s"
   ]
  },
  {
   "cell_type": "code",
   "execution_count": 27,
   "id": "82a1b5ed",
   "metadata": {},
   "outputs": [
    {
     "data": {
      "text/plain": [
       "1    False\n",
       "2    False\n",
       "3     True\n",
       "4     True\n",
       "dtype: bool"
      ]
     },
     "execution_count": 27,
     "metadata": {},
     "output_type": "execute_result"
    }
   ],
   "source": [
    "s>50"
   ]
  },
  {
   "cell_type": "code",
   "execution_count": 28,
   "id": "d677226c",
   "metadata": {},
   "outputs": [
    {
     "data": {
      "text/plain": [
       "3    56\n",
       "4    78\n",
       "dtype: int64"
      ]
     },
     "execution_count": 28,
     "metadata": {},
     "output_type": "execute_result"
    }
   ],
   "source": [
    "s[s>50]"
   ]
  },
  {
   "cell_type": "code",
   "execution_count": 29,
   "id": "83bc439d",
   "metadata": {},
   "outputs": [
    {
     "data": {
      "text/plain": [
       "1     NaN\n",
       "2     NaN\n",
       "3    56.0\n",
       "4    78.0\n",
       "dtype: float64"
      ]
     },
     "execution_count": 29,
     "metadata": {},
     "output_type": "execute_result"
    }
   ],
   "source": [
    "s.where(s>50)"
   ]
  },
  {
   "cell_type": "markdown",
   "id": "aa5abf0d",
   "metadata": {},
   "source": [
    "Tuy nhiên, trong trường hợp dùng “where”có một đối số tùy chọn khác để thay thế các giá trị mà điều kiện là False, trong bản sao được trả về."
   ]
  },
  {
   "cell_type": "code",
   "execution_count": 30,
   "id": "7bab3945",
   "metadata": {},
   "outputs": [
    {
     "data": {
      "text/plain": [
       "1   -12\n",
       "2   -34\n",
       "3    56\n",
       "4    78\n",
       "dtype: int64"
      ]
     },
     "execution_count": 30,
     "metadata": {},
     "output_type": "execute_result"
    }
   ],
   "source": [
    "s.where(s>50,-s)"
   ]
  },
  {
   "cell_type": "markdown",
   "id": "68b999fa",
   "metadata": {},
   "source": [
    "#### .query(expr, inplace=False, **kwargs)"
   ]
  },
  {
   "cell_type": "markdown",
   "id": "daabaec2",
   "metadata": {},
   "source": [
    "Các đối tượng dataframe có một phương thức query() cho phép select dữ liệu thông qua việc sử dụng một biểu thức.\n",
    "\n",
    "Bạn có thể lấy giá trị của dataframe mà cột b có các giá trị nằm giữa các giá trị của các cột a và c. Ví dụ sau đây sẽ trình bày 2 cách cho cùng một kết quả trả về. Cách một dùng cú pháp giống numy thông thường, cách còn lại dùng theo cú pháp sql."
   ]
  },
  {
   "cell_type": "code",
   "execution_count": 35,
   "id": "decd4e2b",
   "metadata": {},
   "outputs": [
    {
     "data": {
      "text/html": [
       "<div>\n",
       "<style scoped>\n",
       "    .dataframe tbody tr th:only-of-type {\n",
       "        vertical-align: middle;\n",
       "    }\n",
       "\n",
       "    .dataframe tbody tr th {\n",
       "        vertical-align: top;\n",
       "    }\n",
       "\n",
       "    .dataframe thead th {\n",
       "        text-align: right;\n",
       "    }\n",
       "</style>\n",
       "<table border=\"1\" class=\"dataframe\">\n",
       "  <thead>\n",
       "    <tr style=\"text-align: right;\">\n",
       "      <th></th>\n",
       "      <th>a</th>\n",
       "      <th>b</th>\n",
       "      <th>c</th>\n",
       "    </tr>\n",
       "  </thead>\n",
       "  <tbody>\n",
       "    <tr>\n",
       "      <th>0</th>\n",
       "      <td>79</td>\n",
       "      <td>68</td>\n",
       "      <td>68</td>\n",
       "    </tr>\n",
       "    <tr>\n",
       "      <th>1</th>\n",
       "      <td>61</td>\n",
       "      <td>18</td>\n",
       "      <td>51</td>\n",
       "    </tr>\n",
       "    <tr>\n",
       "      <th>2</th>\n",
       "      <td>14</td>\n",
       "      <td>28</td>\n",
       "      <td>17</td>\n",
       "    </tr>\n",
       "    <tr>\n",
       "      <th>3</th>\n",
       "      <td>87</td>\n",
       "      <td>46</td>\n",
       "      <td>52</td>\n",
       "    </tr>\n",
       "    <tr>\n",
       "      <th>4</th>\n",
       "      <td>16</td>\n",
       "      <td>70</td>\n",
       "      <td>71</td>\n",
       "    </tr>\n",
       "    <tr>\n",
       "      <th>5</th>\n",
       "      <td>84</td>\n",
       "      <td>10</td>\n",
       "      <td>62</td>\n",
       "    </tr>\n",
       "    <tr>\n",
       "      <th>6</th>\n",
       "      <td>96</td>\n",
       "      <td>57</td>\n",
       "      <td>23</td>\n",
       "    </tr>\n",
       "    <tr>\n",
       "      <th>7</th>\n",
       "      <td>86</td>\n",
       "      <td>85</td>\n",
       "      <td>26</td>\n",
       "    </tr>\n",
       "    <tr>\n",
       "      <th>8</th>\n",
       "      <td>76</td>\n",
       "      <td>66</td>\n",
       "      <td>54</td>\n",
       "    </tr>\n",
       "    <tr>\n",
       "      <th>9</th>\n",
       "      <td>17</td>\n",
       "      <td>65</td>\n",
       "      <td>57</td>\n",
       "    </tr>\n",
       "  </tbody>\n",
       "</table>\n",
       "</div>"
      ],
      "text/plain": [
       "    a   b   c\n",
       "0  79  68  68\n",
       "1  61  18  51\n",
       "2  14  28  17\n",
       "3  87  46  52\n",
       "4  16  70  71\n",
       "5  84  10  62\n",
       "6  96  57  23\n",
       "7  86  85  26\n",
       "8  76  66  54\n",
       "9  17  65  57"
      ]
     },
     "execution_count": 35,
     "metadata": {},
     "output_type": "execute_result"
    }
   ],
   "source": [
    "df = pd.DataFrame(np.random.randint(100, size=(10, 3)), columns=('a b c').split())\n",
    "df"
   ]
  },
  {
   "cell_type": "code",
   "execution_count": 36,
   "id": "965bf74f",
   "metadata": {},
   "outputs": [
    {
     "data": {
      "text/html": [
       "<div>\n",
       "<style scoped>\n",
       "    .dataframe tbody tr th:only-of-type {\n",
       "        vertical-align: middle;\n",
       "    }\n",
       "\n",
       "    .dataframe tbody tr th {\n",
       "        vertical-align: top;\n",
       "    }\n",
       "\n",
       "    .dataframe thead th {\n",
       "        text-align: right;\n",
       "    }\n",
       "</style>\n",
       "<table border=\"1\" class=\"dataframe\">\n",
       "  <thead>\n",
       "    <tr style=\"text-align: right;\">\n",
       "      <th></th>\n",
       "      <th>a</th>\n",
       "      <th>b</th>\n",
       "      <th>c</th>\n",
       "    </tr>\n",
       "  </thead>\n",
       "  <tbody>\n",
       "    <tr>\n",
       "      <th>4</th>\n",
       "      <td>16</td>\n",
       "      <td>70</td>\n",
       "      <td>71</td>\n",
       "    </tr>\n",
       "  </tbody>\n",
       "</table>\n",
       "</div>"
      ],
      "text/plain": [
       "    a   b   c\n",
       "4  16  70  71"
      ]
     },
     "execution_count": 36,
     "metadata": {},
     "output_type": "execute_result"
    }
   ],
   "source": [
    "df[(df.a < df.b) & (df.b < df.c)]"
   ]
  },
  {
   "cell_type": "code",
   "execution_count": 37,
   "id": "8dc1da72",
   "metadata": {},
   "outputs": [
    {
     "data": {
      "text/html": [
       "<div>\n",
       "<style scoped>\n",
       "    .dataframe tbody tr th:only-of-type {\n",
       "        vertical-align: middle;\n",
       "    }\n",
       "\n",
       "    .dataframe tbody tr th {\n",
       "        vertical-align: top;\n",
       "    }\n",
       "\n",
       "    .dataframe thead th {\n",
       "        text-align: right;\n",
       "    }\n",
       "</style>\n",
       "<table border=\"1\" class=\"dataframe\">\n",
       "  <thead>\n",
       "    <tr style=\"text-align: right;\">\n",
       "      <th></th>\n",
       "      <th>a</th>\n",
       "      <th>b</th>\n",
       "      <th>c</th>\n",
       "    </tr>\n",
       "  </thead>\n",
       "  <tbody>\n",
       "    <tr>\n",
       "      <th>4</th>\n",
       "      <td>16</td>\n",
       "      <td>70</td>\n",
       "      <td>71</td>\n",
       "    </tr>\n",
       "  </tbody>\n",
       "</table>\n",
       "</div>"
      ],
      "text/plain": [
       "    a   b   c\n",
       "4  16  70  71"
      ]
     },
     "execution_count": 37,
     "metadata": {},
     "output_type": "execute_result"
    }
   ],
   "source": [
    "df.query('a < b and b < c')"
   ]
  },
  {
   "cell_type": "markdown",
   "id": "9c511e88",
   "metadata": {},
   "source": [
    "#### Toán tử ‘in’ và ‘not in’\n",
    "\n",
    "Query() cũng hỗ trợ sử dụng toán tử so sánh đặc biệt trong Python “in” và “not in”, cung cấp một cú pháp ngắn gọn để gọi phương thức isin() của Series hoặc DataFrame."
   ]
  },
  {
   "cell_type": "code",
   "execution_count": 44,
   "id": "0ff13cfd",
   "metadata": {},
   "outputs": [
    {
     "data": {
      "text/html": [
       "<div>\n",
       "<style scoped>\n",
       "    .dataframe tbody tr th:only-of-type {\n",
       "        vertical-align: middle;\n",
       "    }\n",
       "\n",
       "    .dataframe tbody tr th {\n",
       "        vertical-align: top;\n",
       "    }\n",
       "\n",
       "    .dataframe thead th {\n",
       "        text-align: right;\n",
       "    }\n",
       "</style>\n",
       "<table border=\"1\" class=\"dataframe\">\n",
       "  <thead>\n",
       "    <tr style=\"text-align: right;\">\n",
       "      <th></th>\n",
       "      <th>a</th>\n",
       "      <th>b</th>\n",
       "      <th>c</th>\n",
       "      <th>d</th>\n",
       "    </tr>\n",
       "  </thead>\n",
       "  <tbody>\n",
       "    <tr>\n",
       "      <th>0</th>\n",
       "      <td>a</td>\n",
       "      <td>a</td>\n",
       "      <td>1</td>\n",
       "      <td>2</td>\n",
       "    </tr>\n",
       "    <tr>\n",
       "      <th>1</th>\n",
       "      <td>a</td>\n",
       "      <td>a</td>\n",
       "      <td>3</td>\n",
       "      <td>7</td>\n",
       "    </tr>\n",
       "    <tr>\n",
       "      <th>2</th>\n",
       "      <td>b</td>\n",
       "      <td>a</td>\n",
       "      <td>0</td>\n",
       "      <td>4</td>\n",
       "    </tr>\n",
       "    <tr>\n",
       "      <th>3</th>\n",
       "      <td>b</td>\n",
       "      <td>a</td>\n",
       "      <td>0</td>\n",
       "      <td>5</td>\n",
       "    </tr>\n",
       "    <tr>\n",
       "      <th>4</th>\n",
       "      <td>c</td>\n",
       "      <td>b</td>\n",
       "      <td>1</td>\n",
       "      <td>5</td>\n",
       "    </tr>\n",
       "    <tr>\n",
       "      <th>5</th>\n",
       "      <td>c</td>\n",
       "      <td>b</td>\n",
       "      <td>4</td>\n",
       "      <td>2</td>\n",
       "    </tr>\n",
       "    <tr>\n",
       "      <th>6</th>\n",
       "      <td>d</td>\n",
       "      <td>b</td>\n",
       "      <td>1</td>\n",
       "      <td>6</td>\n",
       "    </tr>\n",
       "    <tr>\n",
       "      <th>7</th>\n",
       "      <td>d</td>\n",
       "      <td>b</td>\n",
       "      <td>2</td>\n",
       "      <td>5</td>\n",
       "    </tr>\n",
       "    <tr>\n",
       "      <th>8</th>\n",
       "      <td>e</td>\n",
       "      <td>c</td>\n",
       "      <td>4</td>\n",
       "      <td>5</td>\n",
       "    </tr>\n",
       "    <tr>\n",
       "      <th>9</th>\n",
       "      <td>e</td>\n",
       "      <td>c</td>\n",
       "      <td>3</td>\n",
       "      <td>8</td>\n",
       "    </tr>\n",
       "    <tr>\n",
       "      <th>10</th>\n",
       "      <td>f</td>\n",
       "      <td>c</td>\n",
       "      <td>2</td>\n",
       "      <td>1</td>\n",
       "    </tr>\n",
       "    <tr>\n",
       "      <th>11</th>\n",
       "      <td>f</td>\n",
       "      <td>c</td>\n",
       "      <td>3</td>\n",
       "      <td>4</td>\n",
       "    </tr>\n",
       "  </tbody>\n",
       "</table>\n",
       "</div>"
      ],
      "text/plain": [
       "    a  b  c  d\n",
       "0   a  a  1  2\n",
       "1   a  a  3  7\n",
       "2   b  a  0  4\n",
       "3   b  a  0  5\n",
       "4   c  b  1  5\n",
       "5   c  b  4  2\n",
       "6   d  b  1  6\n",
       "7   d  b  2  5\n",
       "8   e  c  4  5\n",
       "9   e  c  3  8\n",
       "10  f  c  2  1\n",
       "11  f  c  3  4"
      ]
     },
     "execution_count": 44,
     "metadata": {},
     "output_type": "execute_result"
    }
   ],
   "source": [
    "df = pd.DataFrame({'a': ('a a b b c c d d e e f f').split(), 'b': ('a a a a b b b b c c c c').split(),'c': np.random.randint(5, size=12), 'd': np.random.randint(9, size=12)})\n",
    "df"
   ]
  },
  {
   "cell_type": "code",
   "execution_count": 45,
   "id": "903a61e7",
   "metadata": {},
   "outputs": [
    {
     "data": {
      "text/html": [
       "<div>\n",
       "<style scoped>\n",
       "    .dataframe tbody tr th:only-of-type {\n",
       "        vertical-align: middle;\n",
       "    }\n",
       "\n",
       "    .dataframe tbody tr th {\n",
       "        vertical-align: top;\n",
       "    }\n",
       "\n",
       "    .dataframe thead th {\n",
       "        text-align: right;\n",
       "    }\n",
       "</style>\n",
       "<table border=\"1\" class=\"dataframe\">\n",
       "  <thead>\n",
       "    <tr style=\"text-align: right;\">\n",
       "      <th></th>\n",
       "      <th>a</th>\n",
       "      <th>b</th>\n",
       "      <th>c</th>\n",
       "      <th>d</th>\n",
       "    </tr>\n",
       "  </thead>\n",
       "  <tbody>\n",
       "    <tr>\n",
       "      <th>0</th>\n",
       "      <td>a</td>\n",
       "      <td>a</td>\n",
       "      <td>1</td>\n",
       "      <td>2</td>\n",
       "    </tr>\n",
       "    <tr>\n",
       "      <th>1</th>\n",
       "      <td>a</td>\n",
       "      <td>a</td>\n",
       "      <td>3</td>\n",
       "      <td>7</td>\n",
       "    </tr>\n",
       "    <tr>\n",
       "      <th>2</th>\n",
       "      <td>b</td>\n",
       "      <td>a</td>\n",
       "      <td>0</td>\n",
       "      <td>4</td>\n",
       "    </tr>\n",
       "    <tr>\n",
       "      <th>3</th>\n",
       "      <td>b</td>\n",
       "      <td>a</td>\n",
       "      <td>0</td>\n",
       "      <td>5</td>\n",
       "    </tr>\n",
       "    <tr>\n",
       "      <th>4</th>\n",
       "      <td>c</td>\n",
       "      <td>b</td>\n",
       "      <td>1</td>\n",
       "      <td>5</td>\n",
       "    </tr>\n",
       "    <tr>\n",
       "      <th>5</th>\n",
       "      <td>c</td>\n",
       "      <td>b</td>\n",
       "      <td>4</td>\n",
       "      <td>2</td>\n",
       "    </tr>\n",
       "  </tbody>\n",
       "</table>\n",
       "</div>"
      ],
      "text/plain": [
       "   a  b  c  d\n",
       "0  a  a  1  2\n",
       "1  a  a  3  7\n",
       "2  b  a  0  4\n",
       "3  b  a  0  5\n",
       "4  c  b  1  5\n",
       "5  c  b  4  2"
      ]
     },
     "execution_count": 45,
     "metadata": {},
     "output_type": "execute_result"
    }
   ],
   "source": [
    "df.query('a in b')"
   ]
  },
  {
   "cell_type": "code",
   "execution_count": 46,
   "id": "27166b21",
   "metadata": {},
   "outputs": [
    {
     "data": {
      "text/html": [
       "<div>\n",
       "<style scoped>\n",
       "    .dataframe tbody tr th:only-of-type {\n",
       "        vertical-align: middle;\n",
       "    }\n",
       "\n",
       "    .dataframe tbody tr th {\n",
       "        vertical-align: top;\n",
       "    }\n",
       "\n",
       "    .dataframe thead th {\n",
       "        text-align: right;\n",
       "    }\n",
       "</style>\n",
       "<table border=\"1\" class=\"dataframe\">\n",
       "  <thead>\n",
       "    <tr style=\"text-align: right;\">\n",
       "      <th></th>\n",
       "      <th>a</th>\n",
       "      <th>b</th>\n",
       "      <th>c</th>\n",
       "      <th>d</th>\n",
       "    </tr>\n",
       "  </thead>\n",
       "  <tbody>\n",
       "    <tr>\n",
       "      <th>0</th>\n",
       "      <td>a</td>\n",
       "      <td>a</td>\n",
       "      <td>1</td>\n",
       "      <td>2</td>\n",
       "    </tr>\n",
       "    <tr>\n",
       "      <th>1</th>\n",
       "      <td>a</td>\n",
       "      <td>a</td>\n",
       "      <td>3</td>\n",
       "      <td>7</td>\n",
       "    </tr>\n",
       "    <tr>\n",
       "      <th>2</th>\n",
       "      <td>b</td>\n",
       "      <td>a</td>\n",
       "      <td>0</td>\n",
       "      <td>4</td>\n",
       "    </tr>\n",
       "    <tr>\n",
       "      <th>3</th>\n",
       "      <td>b</td>\n",
       "      <td>a</td>\n",
       "      <td>0</td>\n",
       "      <td>5</td>\n",
       "    </tr>\n",
       "    <tr>\n",
       "      <th>4</th>\n",
       "      <td>c</td>\n",
       "      <td>b</td>\n",
       "      <td>1</td>\n",
       "      <td>5</td>\n",
       "    </tr>\n",
       "    <tr>\n",
       "      <th>5</th>\n",
       "      <td>c</td>\n",
       "      <td>b</td>\n",
       "      <td>4</td>\n",
       "      <td>2</td>\n",
       "    </tr>\n",
       "  </tbody>\n",
       "</table>\n",
       "</div>"
      ],
      "text/plain": [
       "   a  b  c  d\n",
       "0  a  a  1  2\n",
       "1  a  a  3  7\n",
       "2  b  a  0  4\n",
       "3  b  a  0  5\n",
       "4  c  b  1  5\n",
       "5  c  b  4  2"
      ]
     },
     "execution_count": 46,
     "metadata": {},
     "output_type": "execute_result"
    }
   ],
   "source": [
    " df[df.a.isin(df.b)]"
   ]
  },
  {
   "cell_type": "code",
   "execution_count": 47,
   "id": "b8875a5c",
   "metadata": {},
   "outputs": [
    {
     "data": {
      "text/html": [
       "<div>\n",
       "<style scoped>\n",
       "    .dataframe tbody tr th:only-of-type {\n",
       "        vertical-align: middle;\n",
       "    }\n",
       "\n",
       "    .dataframe tbody tr th {\n",
       "        vertical-align: top;\n",
       "    }\n",
       "\n",
       "    .dataframe thead th {\n",
       "        text-align: right;\n",
       "    }\n",
       "</style>\n",
       "<table border=\"1\" class=\"dataframe\">\n",
       "  <thead>\n",
       "    <tr style=\"text-align: right;\">\n",
       "      <th></th>\n",
       "      <th>a</th>\n",
       "      <th>b</th>\n",
       "      <th>c</th>\n",
       "      <th>d</th>\n",
       "    </tr>\n",
       "  </thead>\n",
       "  <tbody>\n",
       "    <tr>\n",
       "      <th>6</th>\n",
       "      <td>d</td>\n",
       "      <td>b</td>\n",
       "      <td>1</td>\n",
       "      <td>6</td>\n",
       "    </tr>\n",
       "    <tr>\n",
       "      <th>7</th>\n",
       "      <td>d</td>\n",
       "      <td>b</td>\n",
       "      <td>2</td>\n",
       "      <td>5</td>\n",
       "    </tr>\n",
       "    <tr>\n",
       "      <th>8</th>\n",
       "      <td>e</td>\n",
       "      <td>c</td>\n",
       "      <td>4</td>\n",
       "      <td>5</td>\n",
       "    </tr>\n",
       "    <tr>\n",
       "      <th>9</th>\n",
       "      <td>e</td>\n",
       "      <td>c</td>\n",
       "      <td>3</td>\n",
       "      <td>8</td>\n",
       "    </tr>\n",
       "    <tr>\n",
       "      <th>10</th>\n",
       "      <td>f</td>\n",
       "      <td>c</td>\n",
       "      <td>2</td>\n",
       "      <td>1</td>\n",
       "    </tr>\n",
       "    <tr>\n",
       "      <th>11</th>\n",
       "      <td>f</td>\n",
       "      <td>c</td>\n",
       "      <td>3</td>\n",
       "      <td>4</td>\n",
       "    </tr>\n",
       "  </tbody>\n",
       "</table>\n",
       "</div>"
      ],
      "text/plain": [
       "    a  b  c  d\n",
       "6   d  b  1  6\n",
       "7   d  b  2  5\n",
       "8   e  c  4  5\n",
       "9   e  c  3  8\n",
       "10  f  c  2  1\n",
       "11  f  c  3  4"
      ]
     },
     "execution_count": 47,
     "metadata": {},
     "output_type": "execute_result"
    }
   ],
   "source": [
    " df.query('a not in b')"
   ]
  },
  {
   "cell_type": "code",
   "execution_count": 48,
   "id": "e1072be5",
   "metadata": {},
   "outputs": [
    {
     "data": {
      "text/html": [
       "<div>\n",
       "<style scoped>\n",
       "    .dataframe tbody tr th:only-of-type {\n",
       "        vertical-align: middle;\n",
       "    }\n",
       "\n",
       "    .dataframe tbody tr th {\n",
       "        vertical-align: top;\n",
       "    }\n",
       "\n",
       "    .dataframe thead th {\n",
       "        text-align: right;\n",
       "    }\n",
       "</style>\n",
       "<table border=\"1\" class=\"dataframe\">\n",
       "  <thead>\n",
       "    <tr style=\"text-align: right;\">\n",
       "      <th></th>\n",
       "      <th>a</th>\n",
       "      <th>b</th>\n",
       "      <th>c</th>\n",
       "      <th>d</th>\n",
       "    </tr>\n",
       "  </thead>\n",
       "  <tbody>\n",
       "    <tr>\n",
       "      <th>6</th>\n",
       "      <td>d</td>\n",
       "      <td>b</td>\n",
       "      <td>1</td>\n",
       "      <td>6</td>\n",
       "    </tr>\n",
       "    <tr>\n",
       "      <th>7</th>\n",
       "      <td>d</td>\n",
       "      <td>b</td>\n",
       "      <td>2</td>\n",
       "      <td>5</td>\n",
       "    </tr>\n",
       "    <tr>\n",
       "      <th>8</th>\n",
       "      <td>e</td>\n",
       "      <td>c</td>\n",
       "      <td>4</td>\n",
       "      <td>5</td>\n",
       "    </tr>\n",
       "    <tr>\n",
       "      <th>9</th>\n",
       "      <td>e</td>\n",
       "      <td>c</td>\n",
       "      <td>3</td>\n",
       "      <td>8</td>\n",
       "    </tr>\n",
       "    <tr>\n",
       "      <th>10</th>\n",
       "      <td>f</td>\n",
       "      <td>c</td>\n",
       "      <td>2</td>\n",
       "      <td>1</td>\n",
       "    </tr>\n",
       "    <tr>\n",
       "      <th>11</th>\n",
       "      <td>f</td>\n",
       "      <td>c</td>\n",
       "      <td>3</td>\n",
       "      <td>4</td>\n",
       "    </tr>\n",
       "  </tbody>\n",
       "</table>\n",
       "</div>"
      ],
      "text/plain": [
       "    a  b  c  d\n",
       "6   d  b  1  6\n",
       "7   d  b  2  5\n",
       "8   e  c  4  5\n",
       "9   e  c  3  8\n",
       "10  f  c  2  1\n",
       "11  f  c  3  4"
      ]
     },
     "execution_count": 48,
     "metadata": {},
     "output_type": "execute_result"
    }
   ],
   "source": [
    "df[~df.a.isin(df.b)]"
   ]
  },
  {
   "cell_type": "markdown",
   "id": "c56ead8c",
   "metadata": {},
   "source": [
    "Các bộ Filter có thể được kết hợp với nhau qua các toán tử logic như &, |, ~ hay or, and, != … như trong SQL. Cần chú ý rằng mỗi bộ Filter con cần được đặt trong dấu ngoặc ().\n",
    "\n",
    "Bạn có thể kết hợp “in” hay “not in” với các biểu thức khác cho các truy vấn rất ngắn gọn:"
   ]
  },
  {
   "cell_type": "code",
   "execution_count": 49,
   "id": "f2b19977",
   "metadata": {},
   "outputs": [
    {
     "data": {
      "text/html": [
       "<div>\n",
       "<style scoped>\n",
       "    .dataframe tbody tr th:only-of-type {\n",
       "        vertical-align: middle;\n",
       "    }\n",
       "\n",
       "    .dataframe tbody tr th {\n",
       "        vertical-align: top;\n",
       "    }\n",
       "\n",
       "    .dataframe thead th {\n",
       "        text-align: right;\n",
       "    }\n",
       "</style>\n",
       "<table border=\"1\" class=\"dataframe\">\n",
       "  <thead>\n",
       "    <tr style=\"text-align: right;\">\n",
       "      <th></th>\n",
       "      <th>a</th>\n",
       "      <th>b</th>\n",
       "      <th>c</th>\n",
       "      <th>d</th>\n",
       "    </tr>\n",
       "  </thead>\n",
       "  <tbody>\n",
       "    <tr>\n",
       "      <th>0</th>\n",
       "      <td>a</td>\n",
       "      <td>a</td>\n",
       "      <td>1</td>\n",
       "      <td>2</td>\n",
       "    </tr>\n",
       "    <tr>\n",
       "      <th>1</th>\n",
       "      <td>a</td>\n",
       "      <td>a</td>\n",
       "      <td>3</td>\n",
       "      <td>7</td>\n",
       "    </tr>\n",
       "    <tr>\n",
       "      <th>2</th>\n",
       "      <td>b</td>\n",
       "      <td>a</td>\n",
       "      <td>0</td>\n",
       "      <td>4</td>\n",
       "    </tr>\n",
       "    <tr>\n",
       "      <th>3</th>\n",
       "      <td>b</td>\n",
       "      <td>a</td>\n",
       "      <td>0</td>\n",
       "      <td>5</td>\n",
       "    </tr>\n",
       "    <tr>\n",
       "      <th>4</th>\n",
       "      <td>c</td>\n",
       "      <td>b</td>\n",
       "      <td>1</td>\n",
       "      <td>5</td>\n",
       "    </tr>\n",
       "  </tbody>\n",
       "</table>\n",
       "</div>"
      ],
      "text/plain": [
       "   a  b  c  d\n",
       "0  a  a  1  2\n",
       "1  a  a  3  7\n",
       "2  b  a  0  4\n",
       "3  b  a  0  5\n",
       "4  c  b  1  5"
      ]
     },
     "execution_count": 49,
     "metadata": {},
     "output_type": "execute_result"
    }
   ],
   "source": [
    "df.query('a in b and c < d')"
   ]
  },
  {
   "cell_type": "code",
   "execution_count": 50,
   "id": "ba4f7dcf",
   "metadata": {},
   "outputs": [
    {
     "data": {
      "text/html": [
       "<div>\n",
       "<style scoped>\n",
       "    .dataframe tbody tr th:only-of-type {\n",
       "        vertical-align: middle;\n",
       "    }\n",
       "\n",
       "    .dataframe tbody tr th {\n",
       "        vertical-align: top;\n",
       "    }\n",
       "\n",
       "    .dataframe thead th {\n",
       "        text-align: right;\n",
       "    }\n",
       "</style>\n",
       "<table border=\"1\" class=\"dataframe\">\n",
       "  <thead>\n",
       "    <tr style=\"text-align: right;\">\n",
       "      <th></th>\n",
       "      <th>a</th>\n",
       "      <th>b</th>\n",
       "      <th>c</th>\n",
       "      <th>d</th>\n",
       "    </tr>\n",
       "  </thead>\n",
       "  <tbody>\n",
       "    <tr>\n",
       "      <th>0</th>\n",
       "      <td>a</td>\n",
       "      <td>a</td>\n",
       "      <td>1</td>\n",
       "      <td>2</td>\n",
       "    </tr>\n",
       "    <tr>\n",
       "      <th>1</th>\n",
       "      <td>a</td>\n",
       "      <td>a</td>\n",
       "      <td>3</td>\n",
       "      <td>7</td>\n",
       "    </tr>\n",
       "    <tr>\n",
       "      <th>2</th>\n",
       "      <td>b</td>\n",
       "      <td>a</td>\n",
       "      <td>0</td>\n",
       "      <td>4</td>\n",
       "    </tr>\n",
       "    <tr>\n",
       "      <th>3</th>\n",
       "      <td>b</td>\n",
       "      <td>a</td>\n",
       "      <td>0</td>\n",
       "      <td>5</td>\n",
       "    </tr>\n",
       "    <tr>\n",
       "      <th>4</th>\n",
       "      <td>c</td>\n",
       "      <td>b</td>\n",
       "      <td>1</td>\n",
       "      <td>5</td>\n",
       "    </tr>\n",
       "  </tbody>\n",
       "</table>\n",
       "</div>"
      ],
      "text/plain": [
       "   a  b  c  d\n",
       "0  a  a  1  2\n",
       "1  a  a  3  7\n",
       "2  b  a  0  4\n",
       "3  b  a  0  5\n",
       "4  c  b  1  5"
      ]
     },
     "execution_count": 50,
     "metadata": {},
     "output_type": "execute_result"
    }
   ],
   "source": [
    "df[df.a.isin(df.b) & (df.c < df.d)]"
   ]
  },
  {
   "cell_type": "markdown",
   "id": "995bf6bc",
   "metadata": {},
   "source": [
    "#### .lockup(row_lables, col_labels)"
   ]
  },
  {
   "cell_type": "code",
   "execution_count": 55,
   "id": "9bd8c95e",
   "metadata": {},
   "outputs": [],
   "source": [
    "dflookup = pd.DataFrame(np.random.rand(5,4), columns = ['A','B','C','D'])"
   ]
  },
  {
   "cell_type": "code",
   "execution_count": 56,
   "id": "e99a7d76",
   "metadata": {},
   "outputs": [
    {
     "data": {
      "text/html": [
       "<div>\n",
       "<style scoped>\n",
       "    .dataframe tbody tr th:only-of-type {\n",
       "        vertical-align: middle;\n",
       "    }\n",
       "\n",
       "    .dataframe tbody tr th {\n",
       "        vertical-align: top;\n",
       "    }\n",
       "\n",
       "    .dataframe thead th {\n",
       "        text-align: right;\n",
       "    }\n",
       "</style>\n",
       "<table border=\"1\" class=\"dataframe\">\n",
       "  <thead>\n",
       "    <tr style=\"text-align: right;\">\n",
       "      <th></th>\n",
       "      <th>A</th>\n",
       "      <th>B</th>\n",
       "      <th>C</th>\n",
       "      <th>D</th>\n",
       "    </tr>\n",
       "  </thead>\n",
       "  <tbody>\n",
       "    <tr>\n",
       "      <th>0</th>\n",
       "      <td>0.801301</td>\n",
       "      <td>0.895562</td>\n",
       "      <td>0.755226</td>\n",
       "      <td>0.669032</td>\n",
       "    </tr>\n",
       "    <tr>\n",
       "      <th>1</th>\n",
       "      <td>0.825270</td>\n",
       "      <td>0.062641</td>\n",
       "      <td>0.780621</td>\n",
       "      <td>0.067138</td>\n",
       "    </tr>\n",
       "    <tr>\n",
       "      <th>2</th>\n",
       "      <td>0.132254</td>\n",
       "      <td>0.727103</td>\n",
       "      <td>0.251096</td>\n",
       "      <td>0.547512</td>\n",
       "    </tr>\n",
       "    <tr>\n",
       "      <th>3</th>\n",
       "      <td>0.013428</td>\n",
       "      <td>0.071927</td>\n",
       "      <td>0.137375</td>\n",
       "      <td>0.341412</td>\n",
       "    </tr>\n",
       "    <tr>\n",
       "      <th>4</th>\n",
       "      <td>0.576656</td>\n",
       "      <td>0.207708</td>\n",
       "      <td>0.923489</td>\n",
       "      <td>0.257744</td>\n",
       "    </tr>\n",
       "  </tbody>\n",
       "</table>\n",
       "</div>"
      ],
      "text/plain": [
       "          A         B         C         D\n",
       "0  0.801301  0.895562  0.755226  0.669032\n",
       "1  0.825270  0.062641  0.780621  0.067138\n",
       "2  0.132254  0.727103  0.251096  0.547512\n",
       "3  0.013428  0.071927  0.137375  0.341412\n",
       "4  0.576656  0.207708  0.923489  0.257744"
      ]
     },
     "execution_count": 56,
     "metadata": {},
     "output_type": "execute_result"
    }
   ],
   "source": [
    "dflookup"
   ]
  },
  {
   "cell_type": "code",
   "execution_count": 62,
   "id": "09b2f78e",
   "metadata": {},
   "outputs": [
    {
     "name": "stderr",
     "output_type": "stream",
     "text": [
      "C:\\Users\\ADMIN\\AppData\\Local\\Temp/ipykernel_18912/541526541.py:1: FutureWarning: The 'lookup' method is deprecated and will be removed in a future version. You can use DataFrame.melt and DataFrame.loc as a substitute.\n",
      "  dflookup.lookup([0, 2, 4], ['B','C','A'])\n"
     ]
    },
    {
     "data": {
      "text/plain": [
       "array([0.89556177, 0.25109612, 0.57665558])"
      ]
     },
     "execution_count": 62,
     "metadata": {},
     "output_type": "execute_result"
    }
   ],
   "source": [
    "dflookup.lookup([0, 2, 4], ['B','C','A'])"
   ]
  },
  {
   "cell_type": "markdown",
   "id": "7134c6f2",
   "metadata": {},
   "source": [
    "### 7. Xác định các tham số thống kê: Sum, Cumsum, Min, Max, Mean, Median, Std\n",
    "Using describe() on an entire DataFrame we can get a summary of the distribution of continuous variables:"
   ]
  },
  {
   "cell_type": "code",
   "execution_count": null,
   "id": "ed7f84db",
   "metadata": {},
   "outputs": [],
   "source": [
    "movies_df.describe()"
   ]
  },
  {
   "cell_type": "markdown",
   "id": "fb1141ad",
   "metadata": {},
   "source": [
    ".describe() can also be used on a categorical variable to get the count of rows, unique count of categories, top category, and freq of top category:"
   ]
  },
  {
   "cell_type": "code",
   "execution_count": null,
   "id": "5df3887e",
   "metadata": {},
   "outputs": [],
   "source": [
    "movies_df['genre'].describe()"
   ]
  },
  {
   "cell_type": "markdown",
   "id": "0a4b9639",
   "metadata": {},
   "source": [
    "This tells us that the genre column has 207 unique values, the top value is Action/Adventure/Sci-Fi, which shows up 50 times (freq).\n",
    "\n",
    ".value_counts() can tell us the frequency of all values in a column:"
   ]
  },
  {
   "cell_type": "code",
   "execution_count": null,
   "id": "fcefcdb4",
   "metadata": {},
   "outputs": [],
   "source": [
    "movies_df['genre'].value_counts().head(10)"
   ]
  },
  {
   "cell_type": "markdown",
   "id": "a38f8349",
   "metadata": {},
   "source": [
    "#### Cumsum\n",
    "Return cumulative sum over a DataFrame or Series axis.\n",
    "\n",
    "Returns a DataFrame or Series of the same size containing the cumulative sum."
   ]
  },
  {
   "cell_type": "code",
   "execution_count": 67,
   "id": "55e41f7e",
   "metadata": {},
   "outputs": [
    {
     "data": {
      "text/plain": [
       "0    2.0\n",
       "1    NaN\n",
       "2    5.0\n",
       "3   -1.0\n",
       "4    0.0\n",
       "dtype: float64"
      ]
     },
     "execution_count": 67,
     "metadata": {},
     "output_type": "execute_result"
    }
   ],
   "source": [
    "s = pd.Series([2, np.nan, 5, -1, 0])\n",
    "\n",
    "s"
   ]
  },
  {
   "cell_type": "code",
   "execution_count": 68,
   "id": "29352ada",
   "metadata": {},
   "outputs": [
    {
     "data": {
      "text/plain": [
       "0    2.0\n",
       "1    NaN\n",
       "2    7.0\n",
       "3    6.0\n",
       "4    6.0\n",
       "dtype: float64"
      ]
     },
     "execution_count": 68,
     "metadata": {},
     "output_type": "execute_result"
    }
   ],
   "source": [
    "s.cumsum()"
   ]
  },
  {
   "cell_type": "markdown",
   "id": "245991b2",
   "metadata": {},
   "source": [
    "To include NA values in the operation, use skipna=False"
   ]
  },
  {
   "cell_type": "code",
   "execution_count": 69,
   "id": "a7b510fa",
   "metadata": {},
   "outputs": [
    {
     "data": {
      "text/plain": [
       "0    2.0\n",
       "1    NaN\n",
       "2    NaN\n",
       "3    NaN\n",
       "4    NaN\n",
       "dtype: float64"
      ]
     },
     "execution_count": 69,
     "metadata": {},
     "output_type": "execute_result"
    }
   ],
   "source": [
    "s.cumsum(skipna=False)"
   ]
  },
  {
   "cell_type": "code",
   "execution_count": 70,
   "id": "92f1c304",
   "metadata": {},
   "outputs": [
    {
     "data": {
      "text/html": [
       "<div>\n",
       "<style scoped>\n",
       "    .dataframe tbody tr th:only-of-type {\n",
       "        vertical-align: middle;\n",
       "    }\n",
       "\n",
       "    .dataframe tbody tr th {\n",
       "        vertical-align: top;\n",
       "    }\n",
       "\n",
       "    .dataframe thead th {\n",
       "        text-align: right;\n",
       "    }\n",
       "</style>\n",
       "<table border=\"1\" class=\"dataframe\">\n",
       "  <thead>\n",
       "    <tr style=\"text-align: right;\">\n",
       "      <th></th>\n",
       "      <th>A</th>\n",
       "      <th>B</th>\n",
       "    </tr>\n",
       "  </thead>\n",
       "  <tbody>\n",
       "    <tr>\n",
       "      <th>0</th>\n",
       "      <td>2.0</td>\n",
       "      <td>1.0</td>\n",
       "    </tr>\n",
       "    <tr>\n",
       "      <th>1</th>\n",
       "      <td>3.0</td>\n",
       "      <td>NaN</td>\n",
       "    </tr>\n",
       "    <tr>\n",
       "      <th>2</th>\n",
       "      <td>1.0</td>\n",
       "      <td>0.0</td>\n",
       "    </tr>\n",
       "  </tbody>\n",
       "</table>\n",
       "</div>"
      ],
      "text/plain": [
       "     A    B\n",
       "0  2.0  1.0\n",
       "1  3.0  NaN\n",
       "2  1.0  0.0"
      ]
     },
     "execution_count": 70,
     "metadata": {},
     "output_type": "execute_result"
    }
   ],
   "source": [
    "df = pd.DataFrame([[2.0, 1.0],\n",
    "\n",
    "                   [3.0, np.nan],\n",
    "\n",
    "                   [1.0, 0.0]],\n",
    "\n",
    "                   columns=list('AB'))\n",
    "\n",
    "df"
   ]
  },
  {
   "cell_type": "markdown",
   "id": "f9e9b0b7",
   "metadata": {},
   "source": [
    "By default, iterates over rows and finds the sum in each column. This is equivalent to axis=None or axis='index'."
   ]
  },
  {
   "cell_type": "code",
   "execution_count": 71,
   "id": "b2c07209",
   "metadata": {},
   "outputs": [
    {
     "data": {
      "text/html": [
       "<div>\n",
       "<style scoped>\n",
       "    .dataframe tbody tr th:only-of-type {\n",
       "        vertical-align: middle;\n",
       "    }\n",
       "\n",
       "    .dataframe tbody tr th {\n",
       "        vertical-align: top;\n",
       "    }\n",
       "\n",
       "    .dataframe thead th {\n",
       "        text-align: right;\n",
       "    }\n",
       "</style>\n",
       "<table border=\"1\" class=\"dataframe\">\n",
       "  <thead>\n",
       "    <tr style=\"text-align: right;\">\n",
       "      <th></th>\n",
       "      <th>A</th>\n",
       "      <th>B</th>\n",
       "    </tr>\n",
       "  </thead>\n",
       "  <tbody>\n",
       "    <tr>\n",
       "      <th>0</th>\n",
       "      <td>2.0</td>\n",
       "      <td>1.0</td>\n",
       "    </tr>\n",
       "    <tr>\n",
       "      <th>1</th>\n",
       "      <td>5.0</td>\n",
       "      <td>NaN</td>\n",
       "    </tr>\n",
       "    <tr>\n",
       "      <th>2</th>\n",
       "      <td>6.0</td>\n",
       "      <td>1.0</td>\n",
       "    </tr>\n",
       "  </tbody>\n",
       "</table>\n",
       "</div>"
      ],
      "text/plain": [
       "     A    B\n",
       "0  2.0  1.0\n",
       "1  5.0  NaN\n",
       "2  6.0  1.0"
      ]
     },
     "execution_count": 71,
     "metadata": {},
     "output_type": "execute_result"
    }
   ],
   "source": [
    "df.cumsum()"
   ]
  },
  {
   "cell_type": "markdown",
   "id": "34044c10",
   "metadata": {},
   "source": [
    "To iterate over columns and find the sum in each row, use axis=1"
   ]
  },
  {
   "cell_type": "code",
   "execution_count": 72,
   "id": "1af66cb2",
   "metadata": {},
   "outputs": [
    {
     "data": {
      "text/html": [
       "<div>\n",
       "<style scoped>\n",
       "    .dataframe tbody tr th:only-of-type {\n",
       "        vertical-align: middle;\n",
       "    }\n",
       "\n",
       "    .dataframe tbody tr th {\n",
       "        vertical-align: top;\n",
       "    }\n",
       "\n",
       "    .dataframe thead th {\n",
       "        text-align: right;\n",
       "    }\n",
       "</style>\n",
       "<table border=\"1\" class=\"dataframe\">\n",
       "  <thead>\n",
       "    <tr style=\"text-align: right;\">\n",
       "      <th></th>\n",
       "      <th>A</th>\n",
       "      <th>B</th>\n",
       "    </tr>\n",
       "  </thead>\n",
       "  <tbody>\n",
       "    <tr>\n",
       "      <th>0</th>\n",
       "      <td>2.0</td>\n",
       "      <td>3.0</td>\n",
       "    </tr>\n",
       "    <tr>\n",
       "      <th>1</th>\n",
       "      <td>3.0</td>\n",
       "      <td>NaN</td>\n",
       "    </tr>\n",
       "    <tr>\n",
       "      <th>2</th>\n",
       "      <td>1.0</td>\n",
       "      <td>1.0</td>\n",
       "    </tr>\n",
       "  </tbody>\n",
       "</table>\n",
       "</div>"
      ],
      "text/plain": [
       "     A    B\n",
       "0  2.0  3.0\n",
       "1  3.0  NaN\n",
       "2  1.0  1.0"
      ]
     },
     "execution_count": 72,
     "metadata": {},
     "output_type": "execute_result"
    }
   ],
   "source": [
    "df.cumsum(axis=1)"
   ]
  },
  {
   "cell_type": "markdown",
   "id": "b76c3528",
   "metadata": {},
   "source": [
    "### 8. Giá trị duy nhất (Unique)\n",
    "Return unique values based on a hash table.\n",
    "\n",
    "Uniques are returned in order of appearance. This does NOT sort.\n",
    "\n",
    "Significantly faster than numpy.unique for long enough sequences. Includes NA values."
   ]
  },
  {
   "cell_type": "code",
   "execution_count": 63,
   "id": "c685d67b",
   "metadata": {},
   "outputs": [
    {
     "data": {
      "text/plain": [
       "array([2, 1, 3], dtype=int64)"
      ]
     },
     "execution_count": 63,
     "metadata": {},
     "output_type": "execute_result"
    }
   ],
   "source": [
    "pd.unique(pd.Series([2, 1, 3, 3]))"
   ]
  },
  {
   "cell_type": "code",
   "execution_count": 66,
   "id": "43170908",
   "metadata": {},
   "outputs": [
    {
     "data": {
      "text/plain": [
       "['b', 'a', 'c']\n",
       "Categories (3, object): ['a' < 'b' < 'c']"
      ]
     },
     "execution_count": 66,
     "metadata": {},
     "output_type": "execute_result"
    }
   ],
   "source": [
    "del list\n",
    "pd.unique(\n",
    "    pd.Series(\n",
    "        pd.Categorical(list(\"baabc\"), categories=list(\"abc\"), ordered=True)\n",
    "    )\n",
    ")"
   ]
  },
  {
   "cell_type": "code",
   "execution_count": 74,
   "id": "4eebe90b",
   "metadata": {},
   "outputs": [
    {
     "data": {
      "text/plain": [
       "array([('a', 'b'), ('b', 'a'), ('a', 'c')], dtype=object)"
      ]
     },
     "execution_count": 74,
     "metadata": {},
     "output_type": "execute_result"
    }
   ],
   "source": [
    "pd.unique([(\"a\", \"b\"), (\"b\", \"a\"), (\"a\", \"c\"), (\"b\", \"a\")])"
   ]
  },
  {
   "cell_type": "code",
   "execution_count": 75,
   "id": "063b0122",
   "metadata": {},
   "outputs": [
    {
     "data": {
      "text/plain": [
       "<DatetimeArray>\n",
       "['2016-01-01 00:00:00-05:00']\n",
       "Length: 1, dtype: datetime64[ns, US/Eastern]"
      ]
     },
     "execution_count": 75,
     "metadata": {},
     "output_type": "execute_result"
    }
   ],
   "source": [
    "pd.unique(\n",
    "    pd.Series(\n",
    "        [\n",
    "            pd.Timestamp(\"20160101\", tz=\"US/Eastern\"),\n",
    "            pd.Timestamp(\"20160101\", tz=\"US/Eastern\"),\n",
    "        ]\n",
    "    )\n",
    ")"
   ]
  },
  {
   "cell_type": "code",
   "execution_count": null,
   "id": "3608c1dd",
   "metadata": {},
   "outputs": [],
   "source": []
  }
 ],
 "metadata": {
  "kernelspec": {
   "display_name": "Python 3 (ipykernel)",
   "language": "python",
   "name": "python3"
  },
  "language_info": {
   "codemirror_mode": {
    "name": "ipython",
    "version": 3
   },
   "file_extension": ".py",
   "mimetype": "text/x-python",
   "name": "python",
   "nbconvert_exporter": "python",
   "pygments_lexer": "ipython3",
   "version": "3.8.5"
  }
 },
 "nbformat": 4,
 "nbformat_minor": 5
}
