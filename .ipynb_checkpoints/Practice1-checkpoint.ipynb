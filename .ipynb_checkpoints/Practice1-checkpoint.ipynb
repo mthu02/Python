{
 "cells": [
  {
   "cell_type": "markdown",
   "metadata": {},
   "source": [
    "\n",
    "## <img src ='Pic\\logo.jpg' width='700px'>\n",
    "\n",
    "\n",
    "<div align=\"center\">\n",
    "\n",
    "# KHÓA HỌC: LẬP TRÌNH PYTHON CƠ BẢN\n",
    "\n",
    "</div>\n",
    "\n",
    "\n",
    "---\n",
    "Practice1: Lập trình Python cơ bản\n",
    "---\n",
    "\n",
    "1. Họ tên học viên: Ngô Thị Minh Thư\n",
    "2. Email: ngothiminhthu02@gmail.com"
   ]
  },
  {
   "cell_type": "markdown",
   "metadata": {},
   "source": [
    "## TH1. Thực hành với các toán tử số học"
   ]
  },
  {
   "cell_type": "markdown",
   "metadata": {},
   "source": [
    "**1.1.** Thực hiện tính tổng, hiệu, tích, thương của hai số nguyên và hiển thị kết quả"
   ]
  },
  {
   "cell_type": "code",
   "execution_count": 4,
   "metadata": {},
   "outputs": [
    {
     "name": "stdout",
     "output_type": "stream",
     "text": [
      "Tổng của hai số là: 7\n",
      "Hiệu của hai số là: -5\n",
      "Thương của hai số là: 0.17\n"
     ]
    }
   ],
   "source": [
    "num1 = 1\n",
    "num2 = 6\n",
    "\n",
    "#{Học viên viết code ở đây!}\n",
    "tong = num1 + num2\n",
    "hieu = num1 - num2\n",
    "thuong = num1 / num2\n",
    "\n",
    "print(\"Tổng của hai số là:\", tong)\n",
    "print(\"Hiệu của hai số là:\", hieu)\n",
    "print(\"Thương của hai số là: %2.2f\" % thuong)"
   ]
  },
  {
   "cell_type": "markdown",
   "metadata": {},
   "source": [
    "**1.2.** Thực hiện nhập hai số từ bàn phím. Tính tổng, hiệu, tích, thương và hiển thị kết quả"
   ]
  },
  {
   "cell_type": "code",
   "execution_count": 6,
   "metadata": {},
   "outputs": [
    {
     "name": "stdout",
     "output_type": "stream",
     "text": [
      "Nhập số thứ nhất: 1\n",
      "Nhập số thứ hai: 6\n",
      "Tổng của hai số là: 7.0\n",
      "Hiệu của hai số là: -5.0\n",
      "Thương của hai số là: 0.17\n"
     ]
    }
   ],
   "source": [
    "num1 = float(input('Nhập số thứ nhất: '))\n",
    "num2 = float(input('Nhập số thứ hai: '))\n",
    "\n",
    "#{Học viên viết code ở đây!}\n",
    "tong = num1 + num2\n",
    "hieu = num1 - num2\n",
    "thuong = num1 / num2\n",
    "\n",
    "print(\"Tổng của hai số là:\", tong)\n",
    "print(\"Hiệu của hai số là:\", hieu)\n",
    "print(\"Thương của hai số là: %2.2f\" % thuong)"
   ]
  },
  {
   "cell_type": "markdown",
   "metadata": {},
   "source": [
    "## TH 2: Chia kẹo cho học sinh lớp 1\n",
    "----\n",
    "Cô có n cái kẹo, có m học sinh trong lớp. Hãy giúp cô chia đều số kẹo cho tất cả học sinh.\n",
    "\n",
    "**Yêu cầu:**\n",
    "* Nhập vào số kẹo của cô – N\n",
    "* Nhập vào số học sinh trong lớp – M\n",
    "\n",
    "\n",
    "Cho biết:\n",
    "1. Mỗi học sinh được nhận bao nhiêu cái kẹo?\n",
    "2. Cô còn lại bao nhiêu cái kẹo?"
   ]
  },
  {
   "cell_type": "code",
   "execution_count": 10,
   "metadata": {},
   "outputs": [
    {
     "name": "stdout",
     "output_type": "stream",
     "text": [
      "Nhập số kẹo của cô: 2\n",
      "Nhập số học sinh trong lớp: 3\n",
      "Cô nên mua thêm kẹo!\n"
     ]
    }
   ],
   "source": [
    "#{học viên viết code ở đây!}\n",
    "n = int(input('Nhập số kẹo của cô: '))\n",
    "m = int(input('Nhập số học sinh trong lớp: '))\n",
    "\n",
    "k = int((n - n%m)/m)\n",
    "\n",
    "if k > 0:\n",
    "    print(\"Số kẹo mỗi học sinh nhận được: \", k)\n",
    "    print(\"Số kẹo cô còn lại: \", n - k*m)\n",
    "else:\n",
    "    print(\"Cô nên mua thêm kẹo!\")"
   ]
  },
  {
   "cell_type": "markdown",
   "metadata": {},
   "source": [
    "# TH 3: Tính tuổi\n",
    "---\n",
    "Nhập vào tên và năm sinh của một người, tính tuổi của người đó và hiển thị ra màn hình thông báo \n",
    "\n",
    "Yêu cầu:\n",
    "\n",
    "* Nhập vào họ tên: mai phương thúy\n",
    "* Nhập vào năm sinh: 2000\n",
    "\n",
    "Hiển thị thông báo kết quả:\n",
    "\t **Bạn “MAI PHƯƠNG THÚY” năm nay 21 tuổi!**"
   ]
  },
  {
   "cell_type": "code",
   "execution_count": 15,
   "metadata": {},
   "outputs": [
    {
     "name": "stdout",
     "output_type": "stream",
     "text": [
      "Nhập vào họ tên: hee\n",
      "Nhập vào năm sinh: 2000\n",
      "Bạn HEE năm nay 22 tuổi!\n"
     ]
    }
   ],
   "source": [
    "#{học viên viết code ở đây!}\n",
    "from datetime import date\n",
    "current_year = date.today().year\n",
    "\n",
    "n = input('Nhập vào họ tên: ')\n",
    "m = int(input('Nhập vào năm sinh: '))\n",
    "\n",
    "k = current_year - m\n",
    "\n",
    "if k > 0:\n",
    "    print(\"Bạn\", n.upper(), \"năm nay\", k, \"tuổi!\")\n",
    "else:\n",
    "    print(\"Bạn\", n, \"chưa ra đời!\")\n",
    "\n"
   ]
  },
  {
   "cell_type": "markdown",
   "metadata": {},
   "source": [
    "# TH 4: Cho biết số thỏ trong rừng!\n",
    "---\n",
    "Ban đầu trong rừng có một cặp thỏ, biết rằng cứ sau 1 tháng thì số lượng thỏ trong rừng tăng lên gấp đôi. Hỏi sau x tháng thì trong rừng có bao nhiêu con thỏ (Giả thiết các con thỏ không chết)\n",
    "\n",
    "Yêu cầu: \n",
    "* Nhập vào số tháng x: 3\n",
    "* Hiển thị thông báo kết quả:\n",
    "\t **Trong rừng có: 16 con thỏ**"
   ]
  },
  {
   "cell_type": "code",
   "execution_count": 17,
   "metadata": {},
   "outputs": [
    {
     "name": "stdout",
     "output_type": "stream",
     "text": [
      "Nhập vào số tháng:3\n",
      "Trong rừng có:  16 con thỏ\n"
     ]
    }
   ],
   "source": [
    "#{học viên viết code ở đây!}\n",
    "x = int(input(\"Nhập vào số tháng:\"))\n",
    "print(\"Trong rừng có: \",2**(x+1), \"con thỏ\")"
   ]
  },
  {
   "cell_type": "markdown",
   "metadata": {},
   "source": [
    "## TH 5: Chuỗi văn bản\n",
    "---\n",
    "\n",
    "“Nước Việt Nam là một, dân tộc Việt Nam là một. Sông có thể cạn núi có thể mòn, song chân lý ấy không bao giờ thay đổi. (HỒ CHÍ MINH, 1890 – 1969)”\n",
    "\n",
    "Yêu cầu: \n",
    "1. Cho biết số ký tự có trong đoạn văn trên.\n",
    "2. Cho biết trong đoạn có chứa từ nào sau đây không (Không phân biệt chữ hoa, chữ thường)?\n",
    "    * “hồ chí minh”\n",
    "    * “non sông”\n",
    "3. Tách đoạn văn thành các câu bởi dấu .\n",
    "4. Cho biết trong đoạn văn trên có ký tự nào khác ký tự chữ và số hay không?\n",
    "5. Thay thế các các từ ‘Việt Nam’ bằng ‘VIỆT NAM’ trong đoạn văn trên."
   ]
  },
  {
   "cell_type": "code",
   "execution_count": 21,
   "metadata": {},
   "outputs": [
    {
     "name": "stdout",
     "output_type": "stream",
     "text": [
      "Nước Việt Nam là một, dân tộc Việt Nam là một.Sông có thể cạn núi có thể mòn, song chân lý ấy không bao giờ thay đổi.(HỒ CHÍ MINH, 1890 – 1969)\n"
     ]
    }
   ],
   "source": [
    "#Khởi tạo chuỗi ký tự\n",
    "st = '''Nước Việt Nam là một, dân tộc Việt Nam là một.\\\n",
    "Sông có thể cạn núi có thể mòn, song chân lý ấy không bao giờ thay đổi.\\\n",
    "(HỒ CHÍ MINH, 1890 – 1969)'''\n",
    "\n",
    "print(st)"
   ]
  },
  {
   "cell_type": "code",
   "execution_count": 41,
   "metadata": {},
   "outputs": [
    {
     "name": "stdout",
     "output_type": "stream",
     "text": [
      "Số ký tự có trong đoạn văn trên: 143\n"
     ]
    }
   ],
   "source": [
    "print(\"Số ký tự có trong đoạn văn trên:\", len(st))"
   ]
  },
  {
   "cell_type": "code",
   "execution_count": 39,
   "metadata": {},
   "outputs": [
    {
     "name": "stdout",
     "output_type": "stream",
     "text": [
      "['HỒ CHÍ MINH']\n",
      "[]\n"
     ]
    }
   ],
   "source": [
    "#{học viên viết code ở đây!}\n",
    "import re\n",
    "hcm = re.findall(r\"hồ chí minh\", st, re.IGNORECASE)\n",
    "ns = re.findall(r\"non sông\", st, re.IGNORECASE)\n",
    "#print((re.split(r'\\s','we are splitting the words')))\n",
    "print(hcm)\n",
    "print(ns)"
   ]
  },
  {
   "cell_type": "code",
   "execution_count": 43,
   "metadata": {},
   "outputs": [
    {
     "data": {
      "text/plain": [
       "['Nước VIỆT NAM là một, dân tộc VIỆT NAM là một',\n",
       " 'Sông có thể cạn núi có thể mòn, song chân lý ấy không bao giờ thay đổi',\n",
       " '(HỒ CHÍ MINH, 1890 – 1969)']"
      ]
     },
     "execution_count": 43,
     "metadata": {},
     "output_type": "execute_result"
    }
   ],
   "source": [
    "st.split(\".\")"
   ]
  },
  {
   "cell_type": "code",
   "execution_count": 63,
   "metadata": {},
   "outputs": [
    {
     "name": "stdout",
     "output_type": "stream",
     "text": [
      "[' ', ' ', ' ', ' ', ',', ' ', ' ', ' ', ' ', ' ', ' ', '.', ' ', ' ', ' ', ' ', ' ', ' ', ' ', ',', ' ', ' ', ' ', ' ', ' ', ' ', ' ', ' ', ' ', '.', '(', ' ', ' ', ',', ' ', ' ', '–', ' ', ')']\n"
     ]
    }
   ],
   "source": [
    "ki_tu_dac_biet = re.findall(r'\\W',st)\n",
    "print(ki_tu_dac_biet)"
   ]
  },
  {
   "cell_type": "code",
   "execution_count": 34,
   "metadata": {},
   "outputs": [
    {
     "name": "stdout",
     "output_type": "stream",
     "text": [
      "Nước VIỆT NAM là một, dân tộc VIỆT NAM là một.Sông có thể cạn núi có thể mòn, song chân lý ấy không bao giờ thay đổi.(HỒ CHÍ MINH, 1890 – 1969)\n"
     ]
    }
   ],
   "source": [
    "# Thay thế các các từ ‘Việt Nam’ bằng ‘VIỆT NAM’ trong đoạn văn trên.\n",
    "st = re.sub(r\"Việt Nam\", \"VIỆT NAM\", st)\n",
    "#st = st.replace('Việt Nam', 'VIỆT NAM')\n",
    "print(st)"
   ]
  },
  {
   "cell_type": "markdown",
   "metadata": {},
   "source": [
    "## TH 6: Thống kê điểm Học viên\n",
    "---\n",
    "\n",
    "Khởi tạo một danh sách gồm các điểm thi môn “Python for Analysis” của lớp AIV_EVNICT (Điểm chữ: A, B, C, D, F)\n",
    "\n",
    "**Yêu cầu:** \n",
    "1. Cho biết số sinh viên trong lớp\n",
    "2. Có bao nhiêu sinh viên phải học lại môn này (điểm F).\n",
    "3. Có bao nhiêu sinh viên có điểm từ B trở lên.\n",
    "4. Sinh viên đầu tiên và cuối cùng trong lớp đã nghỉ học, tạo một bảng điểm mới và loại bỏ điểm của các sinh viên này ra "
   ]
  },
  {
   "cell_type": "code",
   "execution_count": 77,
   "metadata": {},
   "outputs": [
    {
     "name": "stdout",
     "output_type": "stream",
     "text": [
      "10\n",
      "3\n",
      "['B', 'C', 'D', 'F', 'D', 'F', 'A', 'B']\n"
     ]
    }
   ],
   "source": [
    "#{học viên viết code ở đây!}\n",
    "diem = ['A', 'B', 'C', 'D', 'F', 'D', 'F', 'A', 'B', 'F']\n",
    "so_sv = len(diem)\n",
    "so_diem_B = diem.count('F')\n",
    "del diem[0]\n",
    "del diem[-1]\n",
    "\n",
    "print(so_sv)\n",
    "print(so_diem_B)\n",
    "print(diem)\n",
    "        "
   ]
  },
  {
   "cell_type": "code",
   "execution_count": null,
   "metadata": {},
   "outputs": [],
   "source": []
  },
  {
   "cell_type": "code",
   "execution_count": null,
   "metadata": {},
   "outputs": [],
   "source": []
  }
 ],
 "metadata": {
  "kernelspec": {
   "display_name": "Python 3 (ipykernel)",
   "language": "python",
   "name": "python3"
  },
  "language_info": {
   "codemirror_mode": {
    "name": "ipython",
    "version": 3
   },
   "file_extension": ".py",
   "mimetype": "text/x-python",
   "name": "python",
   "nbconvert_exporter": "python",
   "pygments_lexer": "ipython3",
   "version": "3.8.5"
  }
 },
 "nbformat": 4,
 "nbformat_minor": 2
}
