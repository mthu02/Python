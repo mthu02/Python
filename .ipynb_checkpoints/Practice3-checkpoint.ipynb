{
 "cells": [
  {
   "cell_type": "markdown",
   "metadata": {},
   "source": [
    "## <img src ='Pic\\logo.jpg' width='700px'>\n",
    "\n",
    "\n",
    "<div align=\"center\">\n",
    "\n",
    "# KHÓA HỌC: LẬP TRÌNH PYTHON CƠ BẢN\n",
    "\n",
    "</div>\n",
    "\n",
    "\n",
    "---\n",
    "Practice3: Lập trình Python cơ bản\n",
    "---\n",
    "* Học viên: Ngô Thị Minh Thư\n",
    "* Email: ngothiminhthu02@gmail.com\n"
   ]
  },
  {
   "cell_type": "markdown",
   "metadata": {},
   "source": [
    "## BÀI 3.1: Viết hàm cho các bài đã thực hiện\n",
    "---\n",
    "1. Viết hàm greeting(): Trả về câu chào với tham số truyền vào là chuỗi họ tên và năm sinh (Xem lại bài tập số 2)\n",
    "2. Viết hàm rabbit_count(): tính số thỏ trong rừng khi truyền vào số tháng (Xem lại bài tập số 3)\n",
    "3. Viết hàm count_mark(): trả về số sinh viên học lại và tổng số sinh viên trong lớp với tham số truyền vào là một danh sách bảng điểm (Xem lại bài tập số 5 ý 1, 2)\n",
    "4. Viết hàm bmi_show(): Trả về nhận xét dựa vào chỉ số BMI đã tính với 2 tham số truyền vào là chiều cao, cân nặng (Xem lại bài tập số 7)\n",
    "5. Viết hàm cal_point(): Trả về điểm trung bình hệ 10 và hệ 4 của một học sinh khi truyền vào danh sách điểm (Xem lại bài tập số 10 ý 2)\n",
    "6. Viết hàm list_prime(): trả danh sách các số nguyên tố trong khoảng tử 1 đến n với tham số truyền vào là n (Xem lại bài tập số 12)\n"
   ]
  },
  {
   "cell_type": "code",
   "execution_count": 8,
   "metadata": {},
   "outputs": [],
   "source": [
    "#{HỌC VIÊN VIẾT CODE Ở ĐÂY}\n",
    "import numpy as np\n",
    "#1\n",
    "def greeting(hoten, namsinh):\n",
    "    print('Hello,', hoten + '!')\n",
    "    \n",
    "#2\n",
    "def rabbit_count(n):\n",
    "    return 2**(n+1)\n",
    "#3\n",
    "def count_mark(diem):\n",
    "    so_sv_hoc_lai = diem.count('F')\n",
    "    so_sv = len(diem)\n",
    "    return so_sv_hoc_lai, so_sv\n",
    "\n",
    "#4\n",
    "def bmi_show(h,w):\n",
    "    bmi = w / (h**2)\n",
    "    if bmi < 18.5:\n",
    "        print(\"Underweight!\")\n",
    "    elif bmi >= 18.5 and bmi <= 24.9:\n",
    "        print(\"NormalWeight!\")\n",
    "    elif bmi >= 30:\n",
    "        print(\"Obese!\")\n",
    "    else:\n",
    "        print(\"Overweight!\")\n",
    "    return\n",
    "\n",
    "#5\n",
    "def cal_point(diem_he_10):\n",
    "    diem_he_4 = [i*4/10 for i in diem_he_10]\n",
    "    return np.mean(diem_he_10), np.mean(diem_he_4)\n",
    "\n",
    "#6\n",
    "import math\n",
    "def isPrime(n):\n",
    "    if n == 1 or n == 2:\n",
    "        return True\n",
    "    for i in range(2, int(math.sqrt(n))+1):\n",
    "        if n%i == 0:\n",
    "            return False\n",
    "    return True\n",
    "def list_prime(n):\n",
    "    a = []\n",
    "    for i in range(1, n+1):\n",
    "        if (isPrime(i)):\n",
    "            a.append(i)\n",
    "    return a"
   ]
  },
  {
   "cell_type": "markdown",
   "metadata": {},
   "source": [
    "## BÀI 3.2: Xây dựng lớp Person:\n",
    "---\n",
    "1. Gồm các Thuộc tính: \n",
    "họ tên (name), năm sinh (year), chiều cao height), cân nặng (weight)\n",
    "2. Gồm các Phương thức: \n",
    "    * Geeting(): Hiển thị thông tin của Person\n",
    "    * BMI(): Tính toán theo chỉ số BMI của Person\n"
   ]
  },
  {
   "cell_type": "code",
   "execution_count": 15,
   "metadata": {},
   "outputs": [],
   "source": [
    "#{HỌC VIÊN VIẾT CODE Ở ĐÂY}\n",
    "from datetime import date\n",
    "class Person:\n",
    "    def __init__(self, name, year, height, weight):\n",
    "        self.name = name\n",
    "        self.year = year\n",
    "        self.height = height\n",
    "        self.weight = weight\n",
    " \n",
    "    def Greeting(self):\n",
    "        print('Hello, my name is', self.name,\"and I'm\", date.today().year - self.year, \"years old.\")\n",
    "    def BMI(self):\n",
    "        bmi = self.weight / (self.height**2)\n",
    "        if bmi < 18.5:\n",
    "            print(\"Underweight!\")\n",
    "        elif bmi >= 18.5 and bmi <= 24.9:\n",
    "            print(\"NormalWeight!\")\n",
    "        elif bmi >= 30:\n",
    "            print(\"Obese!\")\n",
    "        else:\n",
    "            print(\"Overweight!\")\n",
    "        return\n",
    "\n",
    "\n"
   ]
  },
  {
   "cell_type": "code",
   "execution_count": 16,
   "metadata": {},
   "outputs": [],
   "source": [
    "mthu = Person(\"Thu\", 2000, 1.60, 52)"
   ]
  },
  {
   "cell_type": "code",
   "execution_count": 17,
   "metadata": {},
   "outputs": [
    {
     "name": "stdout",
     "output_type": "stream",
     "text": [
      "Hello, my name is Thu and I'm 22 years old.\n"
     ]
    }
   ],
   "source": [
    "mthu.Greeting()"
   ]
  },
  {
   "cell_type": "code",
   "execution_count": 18,
   "metadata": {},
   "outputs": [
    {
     "name": "stdout",
     "output_type": "stream",
     "text": [
      "NormalWeight!\n"
     ]
    }
   ],
   "source": [
    "mthu.BMI()"
   ]
  },
  {
   "cell_type": "markdown",
   "metadata": {},
   "source": [
    "## BÀI 3.3: Đọc/ghi file\n",
    "---\n",
    "Đọc dữ liệu trong file dayso1_bai17.txt:\n",
    "1. Tìm phần tử lớn nhất và nhỏ nhất trong dãy, sau đó thực hiện đổi chỗ phần tử lớn nhất xuất hiện đầu tiên trong dãy cho phần tử nhỏ nhất xuất hiện đầu tiên trong dãy.\n",
    "2. Lưu dãy mới đã đổi chỗ sang file dayso2_bai17.txt\n",
    "\n",
    "*Xem hình minh họa trong file slide bài giảng*"
   ]
  },
  {
   "cell_type": "code",
   "execution_count": 72,
   "metadata": {},
   "outputs": [],
   "source": [
    "from random import randint\n",
    "with open(\"dayso1_bai17.txt\", \"w\") as file:\n",
    "    file.writelines(f\"{randint(1, 100)}\\n\" for _ in range(50))"
   ]
  },
  {
   "cell_type": "code",
   "execution_count": 65,
   "metadata": {},
   "outputs": [],
   "source": [
    "def swapPositions(list, pos1, pos2):     \n",
    "    list[pos1], list[pos2] = list[pos2], list[pos1]\n",
    "    return list"
   ]
  },
  {
   "cell_type": "code",
   "execution_count": 66,
   "metadata": {},
   "outputs": [],
   "source": [
    "def findFirstPosition(a, value):\n",
    "    for i in range(len(a)):\n",
    "        if a[i] == value:\n",
    "            return i  "
   ]
  },
  {
   "cell_type": "code",
   "execution_count": 80,
   "metadata": {},
   "outputs": [
    {
     "name": "stdout",
     "output_type": "stream",
     "text": [
      "[87, 95, 69, 99, 6, 43, 49, 76, 50, 21, 45, 71, 81, 35, 100, 2, 9, 85, 5, 70, 40, 2, 8, 77, 31, 56, 21, 1, 34, 58, 92, 84, 14, 21, 34, 84, 57, 12, 55, 67, 97, 50, 39, 15, 9, 58, 74, 61, 7, 39]\n"
     ]
    }
   ],
   "source": [
    "#{HỌC VIÊN VIẾT CODE Ở ĐÂY}\n",
    "f = open('dayso1_bai17.txt',\"r\")\n",
    "r = f.read()\n",
    "a = list(map(int,r.split(\"\\n\")[:-1]))\n",
    "print(a)"
   ]
  },
  {
   "cell_type": "code",
   "execution_count": 82,
   "metadata": {},
   "outputs": [
    {
     "name": "stdout",
     "output_type": "stream",
     "text": [
      "100\n",
      "1\n"
     ]
    }
   ],
   "source": [
    "#phần tử lớn nhất\n",
    "mx = max(a)\n",
    "\n",
    "#phần tử nhỏ nhất \n",
    "mn = min(a)\n",
    "print(mx)\n",
    "print(mn)"
   ]
  },
  {
   "cell_type": "code",
   "execution_count": 83,
   "metadata": {},
   "outputs": [],
   "source": [
    "argmx = findFirstPosition(a, mx)\n",
    "argmn = findFirstPosition(a, mn)"
   ]
  },
  {
   "cell_type": "code",
   "execution_count": 84,
   "metadata": {},
   "outputs": [
    {
     "data": {
      "text/plain": [
       "[87,\n",
       " 95,\n",
       " 69,\n",
       " 99,\n",
       " 6,\n",
       " 43,\n",
       " 49,\n",
       " 76,\n",
       " 50,\n",
       " 21,\n",
       " 45,\n",
       " 71,\n",
       " 81,\n",
       " 35,\n",
       " 1,\n",
       " 2,\n",
       " 9,\n",
       " 85,\n",
       " 5,\n",
       " 70,\n",
       " 40,\n",
       " 2,\n",
       " 8,\n",
       " 77,\n",
       " 31,\n",
       " 56,\n",
       " 21,\n",
       " 100,\n",
       " 34,\n",
       " 58,\n",
       " 92,\n",
       " 84,\n",
       " 14,\n",
       " 21,\n",
       " 34,\n",
       " 84,\n",
       " 57,\n",
       " 12,\n",
       " 55,\n",
       " 67,\n",
       " 97,\n",
       " 50,\n",
       " 39,\n",
       " 15,\n",
       " 9,\n",
       " 58,\n",
       " 74,\n",
       " 61,\n",
       " 7,\n",
       " 39]"
      ]
     },
     "execution_count": 84,
     "metadata": {},
     "output_type": "execute_result"
    }
   ],
   "source": [
    "swapPositions(a, argmx, argmn)"
   ]
  },
  {
   "cell_type": "code",
   "execution_count": 85,
   "metadata": {},
   "outputs": [],
   "source": [
    "with open('dayso2_bai17.txt','w') as f:\n",
    "    f.writelines(f\"{num}\\n\" for num in a)"
   ]
  },
  {
   "cell_type": "code",
   "execution_count": null,
   "metadata": {},
   "outputs": [],
   "source": []
  }
 ],
 "metadata": {
  "kernelspec": {
   "display_name": "Python 3 (ipykernel)",
   "language": "python",
   "name": "python3"
  },
  "language_info": {
   "codemirror_mode": {
    "name": "ipython",
    "version": 3
   },
   "file_extension": ".py",
   "mimetype": "text/x-python",
   "name": "python",
   "nbconvert_exporter": "python",
   "pygments_lexer": "ipython3",
   "version": "3.8.5"
  }
 },
 "nbformat": 4,
 "nbformat_minor": 2
}
