{
 "cells": [
  {
   "cell_type": "markdown",
   "metadata": {},
   "source": [
    "## <img src ='Pic\\logo.jpg' width='700px'>\n",
    "\n",
    "\n",
    "<div align=\"center\">\n",
    "\n",
    "# KHÓA HỌC: LẬP TRÌNH PYTHON CƠ BẢN\n",
    "\n",
    "</div>\n",
    "\n",
    "\n",
    "---\n",
    "\n",
    "Practice2: Lập trình Python cơ bản\n",
    "---\n",
    "* Học viên: Ngô Thị Minh Thư\n",
    "* Email: ngothiminhthu02@gmail.com"
   ]
  },
  {
   "cell_type": "markdown",
   "metadata": {},
   "source": [
    "## Bài 2.1: Xác định nguyên âm|phụ âm\n",
    "---\n",
    "Nhập vào một ký tự chữ cái bất kỳ(không phân biệt chữ hoa-chữ thường), cho biết nó là nguyên âm hay phụ âm trong tiếng anh. \n",
    "* 5 chữ cái nguyên âm: **U, E, O, A, I**\n",
    "* 21 Chữ cái phụ âm: **B, C, D, F, G, H, J K, L, M, N, P, Q, R, S, T, V, W, X, Y, Z**\n"
   ]
  },
  {
   "cell_type": "code",
   "execution_count": 4,
   "metadata": {},
   "outputs": [
    {
     "name": "stdout",
     "output_type": "stream",
     "text": [
      "Nhập vào một chữ cái bất kỳ (a-z):A\n",
      "A Là nguyên âm!\n"
     ]
    }
   ],
   "source": [
    "#{HỌC VIÊN VIẾT CODE Ở ĐÂY}\n",
    "c = input(\"Nhập vào một chữ cái bất kỳ (a-z):\")\n",
    "na = ['U', 'E', 'O', 'A', 'I']\n",
    "if c.upper() in na:\n",
    "    print(c, \"Là nguyên âm!\")\n",
    "else:\n",
    "    print(c, \"Là phụ âm!\")"
   ]
  },
  {
   "cell_type": "markdown",
   "metadata": {},
   "source": [
    "## Bài 2.2: Tính chỉ số BMI\n",
    "---\n",
    "Nhập vào chiều cao (m) và cân nặng (kg) rồi tính chỉ số BMI của người đó theo công thức:\n",
    "\n",
    "* BMI = Weight(Kg) / Height(m) ^2 \n",
    "\n",
    "Dựa vào chỉ số BMI tính được đưa ra nhận xét về cơ thể của người đó theo các mức:\n",
    "* Underweight: BMI<18.5\n",
    "* NormalWeight: 18.5 <= BMI <= 24.9\n",
    "* Overweight: 25 <= BMI <=29.9\n",
    "* Obese: BMI>=30\n"
   ]
  },
  {
   "cell_type": "code",
   "execution_count": 6,
   "metadata": {},
   "outputs": [
    {
     "name": "stdout",
     "output_type": "stream",
     "text": [
      "Nhập vào chiều cao:1.6\n",
      "Nhập vào cân nặng:56\n",
      "NormalWeight!\n"
     ]
    }
   ],
   "source": [
    "#{HỌC VIÊN VIẾT CODE Ở ĐÂY}\n",
    "h = float(input(\"Nhập vào chiều cao:\"))\n",
    "w = float(input(\"Nhập vào cân nặng:\"))\n",
    "\n",
    "bmi = w / (h**2)\n",
    "\n",
    "if bmi < 18.5:\n",
    "    print(\"Underweight!\")\n",
    "elif bmi >= 18.5 and bmi <= 24.9:\n",
    "    print(\"NormalWeight!\")\n",
    "elif bmi >= 30:\n",
    "    print(\"Obese!\")\n",
    "else:\n",
    "    print(\"Overweight!\")\n",
    "\n"
   ]
  },
  {
   "cell_type": "markdown",
   "metadata": {},
   "source": [
    "## Bài 2.3: Xác định mùa trong năm!\n",
    "---\n",
    "Nhập vào tháng sinh của bạn và cho biết bạn sinh vào mùa nào?\n",
    "\n",
    "**Yêu cầu:**\n",
    "* Nếu 1, 2, 3: Bạn sinh vào Mùa xuân\n",
    "* Nếu 4, 5, 6: Bạn sinh vào Mùa hạ\n",
    "* Nếu 7, 8, 9: Bạn sinh vào Mùa thu\n",
    "* Nếu 10, 11, 12: Bạn sinh vào Mùa đông\n",
    "* <1 hoặc >12: Tháng sinh nhập vào không đúng\n"
   ]
  },
  {
   "cell_type": "code",
   "execution_count": 7,
   "metadata": {},
   "outputs": [
    {
     "name": "stdout",
     "output_type": "stream",
     "text": [
      "Nhập vào tháng sinh của bạn:13\n",
      "Tháng sinh nhập vào không đúng\n"
     ]
    }
   ],
   "source": [
    "#{HỌC VIÊN VIẾT CODE Ở ĐÂY!}\n",
    "h = int(input(\"Nhập vào tháng sinh của bạn:\"))\n",
    "mua_xuan = [1, 2, 3]\n",
    "mua_ha = [4,5,6]\n",
    "mua_thu = [7,8,9]\n",
    "mua_dong = [10,11,12]\n",
    "if h in mua_xuan:\n",
    "    print(\"Bạn sinh vào Mùa xuân\")\n",
    "elif h in mua_xuan:\n",
    "    print(\"Bạn sinh vào Mùa hạ\")\n",
    "elif h in mua_xuan:\n",
    "    print(\"Bạn sinh vào Mùa thu\")\n",
    "elif h in mua_xuan:\n",
    "    print(\"Bạn sinh vào Mùa đông\")\n",
    "else:\n",
    "    print(\"Tháng sinh nhập vào không đúng\")\n",
    "\n"
   ]
  },
  {
   "cell_type": "markdown",
   "metadata": {},
   "source": [
    "## Bài 2.4: Hiển thị bảng cửu chương!\n",
    "---\n",
    "Nhập vào bảng cửu chương muốn in (1 – 10), hiển thị bảng cửu chương tương ứng với số vừa nhập. (Lưu ý: Thực hiện kiểm tra giá trị nhập, chỉ thỏa mãn khi giá trị nhập vào trong khoảng [1,10] \n",
    "\n",
    "*Xem minh họa bài tập trong file bài tập!*"
   ]
  },
  {
   "cell_type": "code",
   "execution_count": 11,
   "metadata": {},
   "outputs": [],
   "source": [
    "#{HỌC VIÊN VIẾT CODE Ở ĐÂY!}\n",
    "\n",
    "def bangcc(n):\n",
    "    print(\"Bảng cửu chương\", n)\n",
    "    for i in range(1,11):\n",
    "        print(n, \"x\", i, \"=\", n*i)"
   ]
  },
  {
   "cell_type": "code",
   "execution_count": 13,
   "metadata": {},
   "outputs": [
    {
     "name": "stdout",
     "output_type": "stream",
     "text": [
      "Nhập vào bảng cửu chương muốn in (1 – 10): 9\n",
      "Bảng cửu chương 9\n",
      "9 x 1 = 9\n",
      "9 x 2 = 18\n",
      "9 x 3 = 27\n",
      "9 x 4 = 36\n",
      "9 x 5 = 45\n",
      "9 x 6 = 54\n",
      "9 x 7 = 63\n",
      "9 x 8 = 72\n",
      "9 x 9 = 81\n",
      "9 x 10 = 90\n"
     ]
    }
   ],
   "source": [
    "h = int(input(\"Nhập vào bảng cửu chương muốn in (1 – 10): \"))\n",
    "if h < 1 and h > 10:\n",
    "    print(\"Bảng cửu chương bạn nhập vào không đúng!\")\n",
    "else:\n",
    "    bangcc(h)"
   ]
  },
  {
   "cell_type": "markdown",
   "metadata": {},
   "source": [
    "## Bài 2.5: Tính điểm học tập của bạn!\n",
    "---\n",
    "Khởi tạo một danh sách bao gồm các phần tử là điểm của bạn (hệ 10). Hãy thực hiện:\n",
    "1. Tạo một danh sách là các điểm chữ tương ứng với điểm hệ 10 ở trên.\n",
    "2. Tính điểm trung bình Hệ 10 và Hệ 4\n",
    "\n",
    "*Tham khảo minh họa trong slide bài tập bảng chuyển đổi từ điểm số (Hệ 10) sang điểm số (hệ 4) và điểm chữ*  \n"
   ]
  },
  {
   "cell_type": "code",
   "execution_count": null,
   "metadata": {},
   "outputs": [],
   "source": [
    "#{HỌC VIÊN VIẾT CODE Ở ĐÂY!}\n",
    "diem_he_10 = [4, 5 , 6, 7.8, 8.9, 5.4]\n",
    "diem_chu = []\n",
    "\n",
    "\n"
   ]
  },
  {
   "cell_type": "markdown",
   "metadata": {},
   "source": [
    "## Bài 2.6: Kiểm tra N có là số nguyên tố?\n",
    "---\n",
    "Nhập vào số tự nhiên N, cho biết N có phải là số nguyên tố hay không? (Số nguyên tố là số lớn hơn 1, chỉ chia hết cho 1 và chính nó)\n"
   ]
  },
  {
   "cell_type": "code",
   "execution_count": null,
   "metadata": {},
   "outputs": [],
   "source": [
    "# Kiểm tra với các giá trị sau\n",
    "\n",
    "#N0 = 2, 4        --> ???\n",
    "#N1 = 98711653011 --> ??\n",
    "#N2 = 87178291199 --> ??\n"
   ]
  },
  {
   "cell_type": "code",
   "execution_count": 56,
   "metadata": {},
   "outputs": [],
   "source": [
    "#{HỌC VIÊN VIẾT CODE Ở ĐÂY!}\n",
    "import math\n",
    "def isPrime(n):\n",
    "    if n == 1 or n == 2:\n",
    "        return True\n",
    "    for i in range(2, int(math.sqrt(n))+1):\n",
    "        if n%i == 0:\n",
    "            return False\n",
    "    return True"
   ]
  },
  {
   "cell_type": "code",
   "execution_count": 58,
   "metadata": {},
   "outputs": [
    {
     "name": "stdout",
     "output_type": "stream",
     "text": [
      "Nhập vào số tự nhiên N: 2\n",
      "2 Là số nguyên tố!\n"
     ]
    }
   ],
   "source": [
    "n = int(input(\"Nhập vào số tự nhiên N: \"))\n",
    "if (isPrime(n)):\n",
    "    print(n, \"Là số nguyên tố!\")\n",
    "else:\n",
    "    print(n, \"Không là số nguyên tố!\")"
   ]
  },
  {
   "cell_type": "markdown",
   "metadata": {},
   "source": [
    "## Bài 2.7: dãy số nguyên tố\n",
    "---\n",
    "Nhập vào một số N, hiển thị các số nguyên tố từ 2 tới N:\n"
   ]
  },
  {
   "cell_type": "code",
   "execution_count": 61,
   "metadata": {},
   "outputs": [
    {
     "name": "stdout",
     "output_type": "stream",
     "text": [
      "Nhập vào số tự nhiên N:7\n",
      "1\n",
      "2\n",
      "3\n",
      "5\n",
      "7\n"
     ]
    }
   ],
   "source": [
    "#{HỌC VIÊN VIẾT CODE Ở ĐÂY!}\n",
    "n = int(input(\"Nhập vào số tự nhiên N:\"))\n",
    "for i in range(1, n+1):\n",
    "    if (isPrime(i)):\n",
    "        print(i)"
   ]
  },
  {
   "cell_type": "markdown",
   "metadata": {},
   "source": [
    "## Bài 2.8: Đổi số từ thập phân sang nhị phân\n",
    "---\n",
    "Nhập vào một số tự nhiên N (N>0), chuyển đổi số N sang hệ nhị phân.\n",
    "\n",
    "*Tham khảo minh họa trong slide bài tập!*"
   ]
  },
  {
   "cell_type": "code",
   "execution_count": 64,
   "metadata": {},
   "outputs": [],
   "source": [
    "#{HỌC VIÊN VIẾT CODE Ở ĐÂY!}\n",
    "def DecimalToBinary(num):\n",
    "     \n",
    "    if num >= 1:\n",
    "        DecimalToBinary(num // 2)\n",
    "    print(num % 2, end = '')"
   ]
  },
  {
   "cell_type": "code",
   "execution_count": 66,
   "metadata": {},
   "outputs": [
    {
     "name": "stdout",
     "output_type": "stream",
     "text": [
      "Nhập vào số tự nhiên N:10\n",
      "01010"
     ]
    }
   ],
   "source": [
    "n = int(input(\"Nhập vào số tự nhiên N:\"))\n",
    "DecimalToBinary(n)"
   ]
  },
  {
   "cell_type": "markdown",
   "metadata": {},
   "source": [
    "## Bài 2.9: Tìm số Max – Min - Mean\n",
    "---\n",
    "Khởi tạo một dãy số là chiều cao của sinh viên trong một lớp (m). Thực hiện:\n",
    "1. Hiển thị chiều cao của sinh viên cao nhất – thấp nhất trong lớp\n",
    "2. Tính chiều cao trung bình của sinh viên trong lớp.\n",
    "3. Số lượng sinh viên trong lớp có chiều cao lớn hơn hoặc bằng chiều cao trung bình của lớp\n"
   ]
  },
  {
   "cell_type": "code",
   "execution_count": 75,
   "metadata": {},
   "outputs": [
    {
     "name": "stdout",
     "output_type": "stream",
     "text": [
      "Chiều cao của sinh viên cao nhất:  1.9721922653624702\n",
      "Chiều cao của sinh viên thấp nhất:  1.010894835997278\n",
      "Chiều cao trung bình của sinh viên:  1.4653682420995924\n",
      "Số lượng sinh viên trong lớp có chiều cao lớn hơn hoặc bằng chiều cao trung bình của lớp:  25\n"
     ]
    }
   ],
   "source": [
    "#{HỌC VIÊN VIẾT CODE Ở ĐÂY!}\n",
    "import numpy as np\n",
    "chieu_cao = np.random.uniform(low=1.0, high=2.0, size=(50,))\n",
    "\n",
    "print(\"Chiều cao của sinh viên cao nhất: \", max(chieu_cao))\n",
    "print(\"Chiều cao của sinh viên thấp nhất: \", min(chieu_cao))\n",
    "tb = np.mean(chieu_cao)\n",
    "print(\"Chiều cao trung bình của sinh viên: \", tb)\n",
    "count = sum(map(lambda x : x>tb, chieu_cao))\n",
    "print('Số lượng sinh viên trong lớp có chiều cao lớn hơn hoặc bằng chiều cao trung bình của lớp: ', count)\n"
   ]
  },
  {
   "cell_type": "code",
   "execution_count": null,
   "metadata": {},
   "outputs": [],
   "source": []
  },
  {
   "cell_type": "code",
   "execution_count": null,
   "metadata": {},
   "outputs": [],
   "source": []
  }
 ],
 "metadata": {
  "kernelspec": {
   "display_name": "Python 3 (ipykernel)",
   "language": "python",
   "name": "python3"
  },
  "language_info": {
   "codemirror_mode": {
    "name": "ipython",
    "version": 3
   },
   "file_extension": ".py",
   "mimetype": "text/x-python",
   "name": "python",
   "nbconvert_exporter": "python",
   "pygments_lexer": "ipython3",
   "version": "3.8.5"
  }
 },
 "nbformat": 4,
 "nbformat_minor": 2
}
