{
 "cells": [
  {
   "cell_type": "markdown",
   "metadata": {
    "colab_type": "text",
    "id": "wDtyCjZ4yc-W"
   },
   "source": [
    "## <img src ='Pic\\logo.jpg' width='700px'>\n",
    "\n",
    "\n",
    "<div align=\"center\">\n",
    "\n",
    "# KHÓA HỌC: LẬP TRÌNH PYTHON CƠ BẢN\n",
    "\n",
    "</div>\n",
    "\n",
    "-----\n",
    "Practice 5 - Làm việc với Thư viện NumPy - Phần 02\n",
    "----\n",
    "Họ tên học viên: Ngô Thị Minh Thư\n",
    "\n",
    "Email: ngothiminhthu02@gmail.com"
   ]
  },
  {
   "cell_type": "markdown",
   "metadata": {},
   "source": [
    "## THỰC HÀNH SỐ 1:\n",
    "---\n",
    "**Yêu cầu: Tạo một vector gồm 30 phần tử, có giá trị tăng dần từ 1 đến 30**\n",
    "\n",
    "Chỉ sử dụng các phương thức reshape, ravel, split…tách Vector a ở trên thành 3 vector con bao gồm:\n",
    "\n",
    "1. a_lẻ: chứa các phần tử là số lẻ; \n",
    "2. a_chan: chứa các phần tử là số chẵn.\n",
    "3. a_3: chứa các phần tử chia hết cho 3"
   ]
  },
  {
   "cell_type": "code",
   "execution_count": 2,
   "metadata": {},
   "outputs": [],
   "source": [
    "#{HỌC VIÊN VIẾT CODE VÀO ĐÂY}\n",
    "import numpy as np\n",
    "v = np.arange(1,30)\n",
    "a_le = v[v%2==1]\n",
    "a_chan = v[v%2==0]\n",
    "a_3 = v[v%3==0]"
   ]
  },
  {
   "cell_type": "code",
   "execution_count": 3,
   "metadata": {},
   "outputs": [
    {
     "name": "stdout",
     "output_type": "stream",
     "text": [
      "[ 1  3  5  7  9 11 13 15 17 19 21 23 25 27 29]\n",
      "[ 2  4  6  8 10 12 14 16 18 20 22 24 26 28]\n",
      "[ 3  6  9 12 15 18 21 24 27]\n"
     ]
    }
   ],
   "source": [
    "print(a_le)\n",
    "print(a_chan)\n",
    "print(a_3)"
   ]
  },
  {
   "cell_type": "markdown",
   "metadata": {},
   "source": [
    "# THỰC HÀNH SỐ 2:\n",
    "---\n",
    "\n",
    "**Yêu cầu 2.1: Đọc dữ liệu từ file Data_Excercise/Data_BMI.txt vào 2 vector tương ứng**\n",
    "1. v_height: chứa dữ liệu chiều cao\n",
    "2. v_Weight: Chứa dữ liệu cân nặng\n"
   ]
  },
  {
   "cell_type": "code",
   "execution_count": 9,
   "metadata": {},
   "outputs": [],
   "source": [
    "#{HỌC VIÊN VIÊT CODE VÀO ĐÂY}\n",
    "data = np.loadtxt(\"Data_BMI.txt\",dtype = None, encoding = None, delimiter=\"\\t\")\n",
    "v_height = data[:,0]\n",
    "v_weight = data[:,1]"
   ]
  },
  {
   "cell_type": "code",
   "execution_count": 10,
   "metadata": {},
   "outputs": [
    {
     "data": {
      "text/plain": [
       "array([174., 189., 185., 195., 149., 189., 147., 154., 174., 169., 195.,\n",
       "       159., 192., 155., 191., 153., 157., 140., 144., 172., 157., 153.,\n",
       "       169., 185., 172., 151., 190., 187., 163., 179., 153., 178., 195.,\n",
       "       160., 157., 189., 197., 144., 171., 185., 175., 149., 157., 161.,\n",
       "       182., 185., 188., 181., 161., 140., 168., 176., 163., 172., 196.,\n",
       "       187., 172., 178., 164., 143., 191., 141., 193., 190., 175., 179.,\n",
       "       172., 168., 164., 194., 153., 178., 141., 180., 185., 197., 165.,\n",
       "       168., 176., 181., 164., 166., 190., 186., 168., 198., 175., 145.,\n",
       "       159., 185., 178., 183., 194., 177., 197., 170., 142., 160., 195.,\n",
       "       190.])"
      ]
     },
     "execution_count": 10,
     "metadata": {},
     "output_type": "execute_result"
    }
   ],
   "source": [
    "v_height"
   ]
  },
  {
   "cell_type": "code",
   "execution_count": 11,
   "metadata": {},
   "outputs": [
    {
     "data": {
      "text/plain": [
       "array([ 96.,  87., 110., 104.,  61., 104.,  92., 111.,  90., 103.,  81.,\n",
       "        80., 101.,  51.,  79., 107., 110., 129., 145., 139., 110., 149.,\n",
       "        97., 139.,  67.,  64.,  95.,  62., 159., 152., 121.,  52.,  65.,\n",
       "       131., 153., 132., 114.,  80., 152.,  81., 120., 108.,  56., 118.,\n",
       "       126.,  76., 122., 111.,  72., 152., 135.,  54., 110., 105., 116.,\n",
       "        89.,  92., 127.,  70.,  88.,  54., 143.,  54.,  83., 135., 158.,\n",
       "        96.,  59.,  82., 136.,  51., 117.,  80.,  75., 100., 154., 104.,\n",
       "        90., 122.,  51.,  75., 140., 105., 118., 123.,  50., 141., 117.,\n",
       "       104., 140., 154.,  96., 111.,  61., 119., 156.,  69., 139.,  69.,\n",
       "        50.])"
      ]
     },
     "execution_count": 11,
     "metadata": {},
     "output_type": "execute_result"
    }
   ],
   "source": [
    "v_weight"
   ]
  },
  {
   "cell_type": "markdown",
   "metadata": {},
   "source": [
    "**Yêu cầu 2.2: Tạo vector v_height_m2 từ vector v_height theo yêu cầu sau:**\n",
    "1. Chuyển đổi đơn vị của các phần tử từ cm sang m\n",
    "2. Tính bình phương giá trị các phần tử"
   ]
  },
  {
   "cell_type": "code",
   "execution_count": 13,
   "metadata": {},
   "outputs": [],
   "source": [
    "#{HỌC VIÊN VIÊT CODE VÀO ĐÂY}\n",
    "v_height_m2 = (v_height/100)**2"
   ]
  },
  {
   "cell_type": "code",
   "execution_count": 14,
   "metadata": {},
   "outputs": [
    {
     "data": {
      "text/plain": [
       "array([3.0276, 3.5721, 3.4225, 3.8025, 2.2201, 3.5721, 2.1609, 2.3716,\n",
       "       3.0276, 2.8561, 3.8025, 2.5281, 3.6864, 2.4025, 3.6481, 2.3409,\n",
       "       2.4649, 1.96  , 2.0736, 2.9584, 2.4649, 2.3409, 2.8561, 3.4225,\n",
       "       2.9584, 2.2801, 3.61  , 3.4969, 2.6569, 3.2041, 2.3409, 3.1684,\n",
       "       3.8025, 2.56  , 2.4649, 3.5721, 3.8809, 2.0736, 2.9241, 3.4225,\n",
       "       3.0625, 2.2201, 2.4649, 2.5921, 3.3124, 3.4225, 3.5344, 3.2761,\n",
       "       2.5921, 1.96  , 2.8224, 3.0976, 2.6569, 2.9584, 3.8416, 3.4969,\n",
       "       2.9584, 3.1684, 2.6896, 2.0449, 3.6481, 1.9881, 3.7249, 3.61  ,\n",
       "       3.0625, 3.2041, 2.9584, 2.8224, 2.6896, 3.7636, 2.3409, 3.1684,\n",
       "       1.9881, 3.24  , 3.4225, 3.8809, 2.7225, 2.8224, 3.0976, 3.2761,\n",
       "       2.6896, 2.7556, 3.61  , 3.4596, 2.8224, 3.9204, 3.0625, 2.1025,\n",
       "       2.5281, 3.4225, 3.1684, 3.3489, 3.7636, 3.1329, 3.8809, 2.89  ,\n",
       "       2.0164, 2.56  , 3.8025, 3.61  ])"
      ]
     },
     "execution_count": 14,
     "metadata": {},
     "output_type": "execute_result"
    }
   ],
   "source": [
    "v_height_m2"
   ]
  },
  {
   "cell_type": "markdown",
   "metadata": {},
   "source": [
    "**Yêu cầu 2.3: Tính chỉ số BMI của 100 người ngày theo công thức bên dưới, chỉ số BMI được làm tròn tới 1 số sau dấu “,”. Lưu kết quả vào vector v_bmi**"
   ]
  },
  {
   "cell_type": "code",
   "execution_count": 23,
   "metadata": {},
   "outputs": [],
   "source": [
    "#{HỌC VIÊN VIÊT CODE VÀO ĐÂY}\n",
    "v_bmi = np.round(v_weight/v_height_m2, 1)[:100]"
   ]
  },
  {
   "cell_type": "code",
   "execution_count": 24,
   "metadata": {},
   "outputs": [
    {
     "data": {
      "text/plain": [
       "array([31.7, 24.4, 32.1, 27.4, 27.5, 29.1, 42.6, 46.8, 29.7, 36.1, 21.3,\n",
       "       31.6, 27.4, 21.2, 21.7, 45.7, 44.6, 65.8, 69.9, 47. , 44.6, 63.7,\n",
       "       34. , 40.6, 22.6, 28.1, 26.3, 17.7, 59.8, 47.4, 51.7, 16.4, 17.1,\n",
       "       51.2, 62.1, 37. , 29.4, 38.6, 52. , 23.7, 39.2, 48.6, 22.7, 45.5,\n",
       "       38. , 22.2, 34.5, 33.9, 27.8, 77.6, 47.8, 17.4, 41.4, 35.5, 30.2,\n",
       "       25.5, 31.1, 40.1, 26. , 43. , 14.8, 71.9, 14.5, 23. , 44.1, 49.3,\n",
       "       32.4, 20.9, 30.5, 36.1, 21.8, 36.9, 40.2, 23.1, 29.2, 39.7, 38.2,\n",
       "       31.9, 39.4, 15.6, 27.9, 50.8, 29.1, 34.1, 43.6, 12.8, 46. , 55.6,\n",
       "       41.1, 40.9, 48.6, 28.7, 29.5, 19.5, 30.7, 54. , 34.2, 54.3, 18.1,\n",
       "       13.9])"
      ]
     },
     "execution_count": 24,
     "metadata": {},
     "output_type": "execute_result"
    }
   ],
   "source": [
    "v_bmi"
   ]
  },
  {
   "cell_type": "markdown",
   "metadata": {},
   "source": [
    "**Yêu cầu 2.4: Sắp xếp thứ tự các phần tử trong vector v_bmi theo chiều tăng dần, giảm dần**"
   ]
  },
  {
   "cell_type": "code",
   "execution_count": 35,
   "metadata": {},
   "outputs": [],
   "source": [
    "#{HỌC VIÊN VIÊT CODE VÀO ĐÂY}\n",
    "v_bmi_asc = np.sort(v_bmi)\n",
    "v_bmi_desc = np.sort(v_bmi)[::-1]"
   ]
  },
  {
   "cell_type": "code",
   "execution_count": 36,
   "metadata": {},
   "outputs": [
    {
     "name": "stdout",
     "output_type": "stream",
     "text": [
      "[12.8 13.9 14.5 14.8 15.6 16.4 17.1 17.4 17.7 18.1 19.5 20.9 21.2 21.3\n",
      " 21.7 21.8 22.2 22.6 22.7 23.  23.1 23.7 24.4 25.5 26.  26.3 27.4 27.4\n",
      " 27.5 27.8 27.9 28.1 28.7 29.1 29.1 29.2 29.4 29.5 29.7 30.2 30.5 30.7\n",
      " 31.1 31.6 31.7 31.9 32.1 32.4 33.9 34.  34.1 34.2 34.5 35.5 36.1 36.1\n",
      " 36.9 37.  38.  38.2 38.6 39.2 39.4 39.7 40.1 40.2 40.6 40.9 41.1 41.4\n",
      " 42.6 43.  43.6 44.1 44.6 44.6 45.5 45.7 46.  46.8 47.  47.4 47.8 48.6\n",
      " 48.6 49.3 50.8 51.2 51.7 52.  54.  54.3 55.6 59.8 62.1 63.7 65.8 69.9\n",
      " 71.9 77.6]\n",
      "[77.6 71.9 69.9 65.8 63.7 62.1 59.8 55.6 54.3 54.  52.  51.7 51.2 50.8\n",
      " 49.3 48.6 48.6 47.8 47.4 47.  46.8 46.  45.7 45.5 44.6 44.6 44.1 43.6\n",
      " 43.  42.6 41.4 41.1 40.9 40.6 40.2 40.1 39.7 39.4 39.2 38.6 38.2 38.\n",
      " 37.  36.9 36.1 36.1 35.5 34.5 34.2 34.1 34.  33.9 32.4 32.1 31.9 31.7\n",
      " 31.6 31.1 30.7 30.5 30.2 29.7 29.5 29.4 29.2 29.1 29.1 28.7 28.1 27.9\n",
      " 27.8 27.5 27.4 27.4 26.3 26.  25.5 24.4 23.7 23.1 23.  22.7 22.6 22.2\n",
      " 21.8 21.7 21.3 21.2 20.9 19.5 18.1 17.7 17.4 17.1 16.4 15.6 14.8 14.5\n",
      " 13.9 12.8]\n"
     ]
    }
   ],
   "source": [
    "print(v_bmi_asc)\n",
    "print(v_bmi_desc)"
   ]
  },
  {
   "cell_type": "markdown",
   "metadata": {},
   "source": [
    "**Yêu cầu 2.5: Thống kê số lượng người theo từng mức dựa vào phân loại theo hình**"
   ]
  },
  {
   "cell_type": "code",
   "execution_count": 49,
   "metadata": {},
   "outputs": [],
   "source": [
    "#{HỌC VIÊN VIÊT CODE VÀO ĐÂY}\n",
    "total = np.size(v_bmi)\n",
    "uw = v_bmi[v_bmi<18.5].size\n",
    "nm = v_bmi[(v_bmi>= 18.5) & (v_bmi<=24.9)].size\n",
    "ov = v_bmi[(v_bmi >=25) & (v_bmi<=29.9)].size\n",
    "ob = v_bmi[(v_bmi>=30) & (v_bmi <=34.9)].size\n",
    "eob = v_bmi[v_bmi >= 35].size\n"
   ]
  },
  {
   "cell_type": "code",
   "execution_count": 50,
   "metadata": {},
   "outputs": [
    {
     "name": "stdout",
     "output_type": "stream",
     "text": [
      "100\n",
      "10\n",
      "13\n",
      "16\n",
      "14\n",
      "47\n"
     ]
    }
   ],
   "source": [
    "print(total)\n",
    "print(uw)\n",
    "print(nm)\n",
    "print(ov)\n",
    "print(ob)\n",
    "print(eob)"
   ]
  },
  {
   "cell_type": "markdown",
   "metadata": {},
   "source": [
    "## THỰC HÀNH SỐ 3:\n",
    "---\n",
    "**Yêu cầu 3.1: Sử dụng vector_weigth trong bài thực hành 2 chuyển về ma trận kích thước 10 x 10**"
   ]
  },
  {
   "cell_type": "code",
   "execution_count": 53,
   "metadata": {},
   "outputs": [
    {
     "data": {
      "text/plain": [
       "array([ 96.,  87., 110., 104.,  61., 104.,  92., 111.,  90., 103.,  81.,\n",
       "        80., 101.,  51.,  79., 107., 110., 129., 145., 139., 110., 149.,\n",
       "        97., 139.,  67.,  64.,  95.,  62., 159., 152., 121.,  52.,  65.,\n",
       "       131., 153., 132., 114.,  80., 152.,  81., 120., 108.,  56., 118.,\n",
       "       126.,  76., 122., 111.,  72., 152., 135.,  54., 110., 105., 116.,\n",
       "        89.,  92., 127.,  70.,  88.,  54., 143.,  54.,  83., 135., 158.,\n",
       "        96.,  59.,  82., 136.,  51., 117.,  80.,  75., 100., 154., 104.,\n",
       "        90., 122.,  51.,  75., 140., 105., 118., 123.,  50., 141., 117.,\n",
       "       104., 140., 154.,  96., 111.,  61., 119., 156.,  69., 139.,  69.,\n",
       "        50.])"
      ]
     },
     "execution_count": 53,
     "metadata": {},
     "output_type": "execute_result"
    }
   ],
   "source": [
    "#{HỌC VIÊN VIÊT CODE VÀO ĐÂY}\n",
    "v_weight"
   ]
  },
  {
   "cell_type": "code",
   "execution_count": 55,
   "metadata": {},
   "outputs": [
    {
     "data": {
      "text/plain": [
       "array([[ 96.,  87., 110., 104.,  61., 104.,  92., 111.,  90., 103.],\n",
       "       [ 81.,  80., 101.,  51.,  79., 107., 110., 129., 145., 139.],\n",
       "       [110., 149.,  97., 139.,  67.,  64.,  95.,  62., 159., 152.],\n",
       "       [121.,  52.,  65., 131., 153., 132., 114.,  80., 152.,  81.],\n",
       "       [120., 108.,  56., 118., 126.,  76., 122., 111.,  72., 152.],\n",
       "       [135.,  54., 110., 105., 116.,  89.,  92., 127.,  70.,  88.],\n",
       "       [ 54., 143.,  54.,  83., 135., 158.,  96.,  59.,  82., 136.],\n",
       "       [ 51., 117.,  80.,  75., 100., 154., 104.,  90., 122.,  51.],\n",
       "       [ 75., 140., 105., 118., 123.,  50., 141., 117., 104., 140.],\n",
       "       [154.,  96., 111.,  61., 119., 156.,  69., 139.,  69.,  50.]])"
      ]
     },
     "execution_count": 55,
     "metadata": {},
     "output_type": "execute_result"
    }
   ],
   "source": [
    "vector_weight = np.reshape(v_weight, (10,10))\n",
    "vector_weight"
   ]
  },
  {
   "cell_type": "markdown",
   "metadata": {},
   "source": [
    "**Yêu cầu 3.2: Cho biết ma trận weight có tồn tại ma trân nghịch đảo không? Nếu có hãy xác định ma trận weight-1 ?**"
   ]
  },
  {
   "cell_type": "code",
   "execution_count": 56,
   "metadata": {},
   "outputs": [
    {
     "data": {
      "text/plain": [
       "-1.241241152184681e+18"
      ]
     },
     "execution_count": 56,
     "metadata": {},
     "output_type": "execute_result"
    }
   ],
   "source": [
    "#{HỌC VIÊN VIÊT CODE VÀO ĐÂY}\n",
    "det = np.linalg.det(vector_weight)\n",
    "det"
   ]
  },
  {
   "cell_type": "code",
   "execution_count": 65,
   "metadata": {},
   "outputs": [],
   "source": [
    "weight = np.linalg.inv(vector_weight)"
   ]
  },
  {
   "cell_type": "code",
   "execution_count": 66,
   "metadata": {},
   "outputs": [
    {
     "data": {
      "text/plain": [
       "array([[ 0.20672933, -0.01828619, -0.08121229,  0.15165329, -0.05867193,\n",
       "        -0.32128926,  0.00328234, -0.21117582,  0.1531515 ,  0.14765915],\n",
       "       [-0.03378959, -0.00092993,  0.01637303, -0.02576189,  0.01204942,\n",
       "         0.03860094, -0.00254169,  0.0334947 , -0.01916893, -0.01399406],\n",
       "       [ 0.16001186, -0.01361912, -0.06334124,  0.11206935, -0.06692393,\n",
       "        -0.2278292 ,  0.01233269, -0.16357827,  0.12566149,  0.10512262],\n",
       "       [-0.20060155,  0.0096163 ,  0.08597968, -0.14951455,  0.06703284,\n",
       "         0.32178178, -0.00847147,  0.21237844, -0.160284  , -0.14756298],\n",
       "       [-0.1151341 ,  0.00896286,  0.04087891, -0.07066568,  0.02398925,\n",
       "         0.16297821,  0.00236627,  0.09744888, -0.06997591, -0.06720453],\n",
       "       [ 0.04172982, -0.00327195, -0.01645048,  0.02463278, -0.00963244,\n",
       "        -0.05248791,  0.0053399 , -0.03159687,  0.01832677,  0.02128759],\n",
       "       [ 0.46636016, -0.03988045, -0.19342132,  0.33291136, -0.13479078,\n",
       "        -0.70496996,  0.01080126, -0.45280827,  0.34838493,  0.30636839],\n",
       "       [-0.35820439,  0.03342262,  0.14250743, -0.26148364,  0.11928475,\n",
       "         0.5420641 , -0.01976057,  0.36295382, -0.27052793, -0.24027735],\n",
       "       [-0.11663945,  0.01450792,  0.04922918, -0.07563266,  0.03173362,\n",
       "         0.16437771, -0.00762818,  0.1113903 , -0.08306723, -0.07324272],\n",
       "       [-0.02532702,  0.00758554,  0.01126819, -0.02080555,  0.00793174,\n",
       "         0.04361741,  0.00599041,  0.01895287, -0.02303197, -0.0214799 ]])"
      ]
     },
     "execution_count": 66,
     "metadata": {},
     "output_type": "execute_result"
    }
   ],
   "source": [
    "weight"
   ]
  },
  {
   "cell_type": "markdown",
   "metadata": {},
   "source": [
    "**Yêu cầu 3.3: Tạo vector_diagonal chứa các phần tử trên đường chéo chính của ma trận weight, tính trace của ma trận weight.**"
   ]
  },
  {
   "cell_type": "code",
   "execution_count": 96,
   "metadata": {},
   "outputs": [
    {
     "data": {
      "text/plain": [
       "array([ 96.,  80.,  97., 131., 126.,  89.,  96.,  90., 104.,  50.])"
      ]
     },
     "execution_count": 96,
     "metadata": {},
     "output_type": "execute_result"
    }
   ],
   "source": [
    "#{HỌC VIÊN VIÊT CODE VÀO ĐÂY}\n",
    "vector_diagonal = vector_weight.diagonal()\n",
    "vector_diagonal\n",
    "\n",
    "\n"
   ]
  },
  {
   "cell_type": "code",
   "execution_count": 97,
   "metadata": {},
   "outputs": [
    {
     "data": {
      "text/plain": [
       "959.0"
      ]
     },
     "execution_count": 97,
     "metadata": {},
     "output_type": "execute_result"
    }
   ],
   "source": [
    "trace = np.sum(vector_diagonal)\n",
    "trace"
   ]
  },
  {
   "cell_type": "markdown",
   "metadata": {},
   "source": [
    "**Yêu cầu 3.4: Tìm giá trị lớn nhất của ma trận đường chéo trên và ma trận đường chéo dưới không bao gồm các phần tử trên đường chéo chính**"
   ]
  },
  {
   "cell_type": "code",
   "execution_count": 98,
   "metadata": {},
   "outputs": [
    {
     "data": {
      "text/plain": [
       "159.0"
      ]
     },
     "execution_count": 98,
     "metadata": {},
     "output_type": "execute_result"
    }
   ],
   "source": [
    "#{HỌC VIÊN VIÊT CODE VÀO ĐÂY}\n",
    "max_tren = np.max(np.triu(vector_weight, 1))\n",
    "max_tren\n"
   ]
  },
  {
   "cell_type": "code",
   "execution_count": 99,
   "metadata": {},
   "outputs": [
    {
     "data": {
      "text/plain": [
       "158.0"
      ]
     },
     "execution_count": 99,
     "metadata": {},
     "output_type": "execute_result"
    }
   ],
   "source": [
    "max_duoi = np.max(np.tril(vector_weight, 1))\n",
    "max_duoi "
   ]
  },
  {
   "cell_type": "markdown",
   "metadata": {},
   "source": [
    "# THỰC HÀNH SỐ 4\n",
    "---\n",
    "**Yêu cầu 4.1: Chuyển vector_height, vector_weigth trong bài thực hành 2 về ma trận height, weight kích thước 10 x 10.**\n",
    "\n",
    "Thực hiện các phép toán: So sánh; Cộng; Trừ; Nhân hai ma trận height và weighT"
   ]
  },
  {
   "cell_type": "code",
   "execution_count": 100,
   "metadata": {},
   "outputs": [
    {
     "data": {
      "text/plain": [
       "array([[16704., 15309., 20350., 23595., 17880., 25515.,  7938.,  7854.,\n",
       "        13050., 26026.],\n",
       "       [16965., 12720., 28608.,  8060., 20628.,  8262., 22451., 16380.,\n",
       "        20160., 16512.],\n",
       "       [17270., 15453., 16393., 12025.,  9632., 16610., 10260., 14960.,\n",
       "        17115., 19869.],\n",
       "       [15912.,  9078., 27105., 20960., 18526., 19845., 16351., 10800.,\n",
       "        20178., 11285.],\n",
       "       [10675., 11771., 10519., 24633., 22932., 21460., 25380., 18100.,\n",
       "        19803., 16660.],\n",
       "       [17472., 18832., 10432., 22704., 14896., 16643., 27176., 27412.,\n",
       "         8200., 22308.],\n",
       "       [17572., 15510., 18335., 21660., 21350., 16468., 16512., 17472.,\n",
       "        23124., 13386.],\n",
       "       [16983., 22962.,  8742., 14400., 20535., 25019.,  9735., 15120.,\n",
       "        20592., 25159.],\n",
       "       [14760., 24070., 30210., 28272., 12096., 13860., 14350., 17690.,\n",
       "        16536., 12765.],\n",
       "       [18334., 25437., 29488., 14337., 29944., 14960., 19312.,  8160.,\n",
       "        27300.,  9500.]])"
      ]
     },
     "execution_count": 100,
     "metadata": {},
     "output_type": "execute_result"
    }
   ],
   "source": [
    "#{HỌC VIÊN VIÊT CODE VÀO ĐÂY}\n",
    "vector_height = np.reshape(v_height,(10,10))\n",
    "vector_weigth = np.reshape(v_weight, (10,10))\n",
    "vector_height + vector_weigth.T\n",
    "vector_height - vector_weigth.T\n",
    "vector_height * vector_weigth.T"
   ]
  },
  {
   "cell_type": "markdown",
   "metadata": {},
   "source": [
    "## THỰC HÀNH SỐ 5\n",
    "---\n",
    "**Yêu cầu: Học viên tìm ma trận nghịch đảo và hạng của ma trận Height, Weight trong bài thực hành số 4:**\n"
   ]
  },
  {
   "cell_type": "code",
   "execution_count": 101,
   "metadata": {},
   "outputs": [
    {
     "data": {
      "text/plain": [
       "array([[ 0.01603724,  0.02092798,  0.0005634 , -0.01423585,  0.03551657,\n",
       "        -0.04363049, -0.01948489,  0.00700362,  0.00206303, -0.00199753],\n",
       "       [ 0.01145501,  0.01012574, -0.00177983,  0.01702373, -0.02926175,\n",
       "         0.02637695,  0.00593858,  0.00934035, -0.03106974, -0.01725456],\n",
       "       [-0.00829272, -0.01629126, -0.01300203,  0.02597273, -0.04412866,\n",
       "         0.0594086 ,  0.04409162, -0.02043952, -0.02539402, -0.00393563],\n",
       "       [ 0.01044593,  0.00900932,  0.03553735, -0.06072899,  0.06619758,\n",
       "        -0.08123257, -0.08346583, -0.01149921,  0.0943043 ,  0.02491969],\n",
       "       [-0.01611873,  0.00544315,  0.00754171, -0.02223981,  0.0163093 ,\n",
       "        -0.01285604, -0.02944805, -0.00336405,  0.03903407,  0.0168835 ],\n",
       "       [-0.00650082, -0.0159626 , -0.03003311,  0.02587248, -0.03728232,\n",
       "         0.0528001 ,  0.05303036,  0.00676435, -0.03283975, -0.01754762],\n",
       "       [ 0.00220234,  0.01502042,  0.02576185, -0.02610571,  0.06230938,\n",
       "        -0.07197318, -0.06776956, -0.00413956,  0.05602876,  0.01243454],\n",
       "       [-0.00569104, -0.02511792, -0.02964712,  0.06285506, -0.10510555,\n",
       "         0.12963117,  0.12020125,  0.00671117, -0.11756002, -0.04024696],\n",
       "       [ 0.00517095, -0.00124652,  0.01939913, -0.03702511,  0.08762944,\n",
       "        -0.09656025, -0.07597418, -0.00918086,  0.06316968,  0.04722127],\n",
       "       [-0.00695268, -0.00127346, -0.01378871,  0.0314841 , -0.05324623,\n",
       "         0.04030115,  0.05575462,  0.02032513, -0.05272843, -0.02111273]])"
      ]
     },
     "execution_count": 101,
     "metadata": {},
     "output_type": "execute_result"
    }
   ],
   "source": [
    "#{HỌC VIÊN VIÊT CODE VÀO ĐÂY}\n",
    "np.linalg.inv(vector_height)"
   ]
  },
  {
   "cell_type": "code",
   "execution_count": 102,
   "metadata": {},
   "outputs": [
    {
     "data": {
      "text/plain": [
       "array([[ 0.20672933, -0.01828619, -0.08121229,  0.15165329, -0.05867193,\n",
       "        -0.32128926,  0.00328234, -0.21117582,  0.1531515 ,  0.14765915],\n",
       "       [-0.03378959, -0.00092993,  0.01637303, -0.02576189,  0.01204942,\n",
       "         0.03860094, -0.00254169,  0.0334947 , -0.01916893, -0.01399406],\n",
       "       [ 0.16001186, -0.01361912, -0.06334124,  0.11206935, -0.06692393,\n",
       "        -0.2278292 ,  0.01233269, -0.16357827,  0.12566149,  0.10512262],\n",
       "       [-0.20060155,  0.0096163 ,  0.08597968, -0.14951455,  0.06703284,\n",
       "         0.32178178, -0.00847147,  0.21237844, -0.160284  , -0.14756298],\n",
       "       [-0.1151341 ,  0.00896286,  0.04087891, -0.07066568,  0.02398925,\n",
       "         0.16297821,  0.00236627,  0.09744888, -0.06997591, -0.06720453],\n",
       "       [ 0.04172982, -0.00327195, -0.01645048,  0.02463278, -0.00963244,\n",
       "        -0.05248791,  0.0053399 , -0.03159687,  0.01832677,  0.02128759],\n",
       "       [ 0.46636016, -0.03988045, -0.19342132,  0.33291136, -0.13479078,\n",
       "        -0.70496996,  0.01080126, -0.45280827,  0.34838493,  0.30636839],\n",
       "       [-0.35820439,  0.03342262,  0.14250743, -0.26148364,  0.11928475,\n",
       "         0.5420641 , -0.01976057,  0.36295382, -0.27052793, -0.24027735],\n",
       "       [-0.11663945,  0.01450792,  0.04922918, -0.07563266,  0.03173362,\n",
       "         0.16437771, -0.00762818,  0.1113903 , -0.08306723, -0.07324272],\n",
       "       [-0.02532702,  0.00758554,  0.01126819, -0.02080555,  0.00793174,\n",
       "         0.04361741,  0.00599041,  0.01895287, -0.02303197, -0.0214799 ]])"
      ]
     },
     "execution_count": 102,
     "metadata": {},
     "output_type": "execute_result"
    }
   ],
   "source": [
    "np.linalg.inv(vector_weight)"
   ]
  },
  {
   "cell_type": "code",
   "execution_count": 105,
   "metadata": {},
   "outputs": [
    {
     "data": {
      "text/plain": [
       "10"
      ]
     },
     "execution_count": 105,
     "metadata": {},
     "output_type": "execute_result"
    }
   ],
   "source": [
    "np.linalg.matrix_rank(vector_weight)"
   ]
  },
  {
   "cell_type": "code",
   "execution_count": 106,
   "metadata": {},
   "outputs": [
    {
     "data": {
      "text/plain": [
       "10"
      ]
     },
     "execution_count": 106,
     "metadata": {},
     "output_type": "execute_result"
    }
   ],
   "source": [
    "np.linalg.matrix_rank(vector_height)"
   ]
  }
 ],
 "metadata": {
  "colab": {
   "collapsed_sections": [],
   "name": "Chuong_4_package_Numpy.ipynb",
   "provenance": []
  },
  "kernelspec": {
   "display_name": "Python 3 (ipykernel)",
   "language": "python",
   "name": "python3"
  },
  "language_info": {
   "codemirror_mode": {
    "name": "ipython",
    "version": 3
   },
   "file_extension": ".py",
   "mimetype": "text/x-python",
   "name": "python",
   "nbconvert_exporter": "python",
   "pygments_lexer": "ipython3",
   "version": "3.8.5"
  }
 },
 "nbformat": 4,
 "nbformat_minor": 1
}
