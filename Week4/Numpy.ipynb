{
 "cells": [
  {
   "cell_type": "markdown",
   "id": "02a33506",
   "metadata": {},
   "source": [
    "<h1><center>Numpy</center></h1>\n",
    "<center>Học viên: Ngô Thị Minh Thư</center>\n",
    "<center>Email: ngothiminhthu02@gmail.com</center>"
   ]
  },
  {
   "cell_type": "markdown",
   "id": "10ef860b",
   "metadata": {},
   "source": [
    "Numpy is the core library for scientific computing in Python. It provides a high-performance multidimensional array object, and tools for working with these arrays.\n",
    "\n",
    "To use Numpy, we first need to import the numpy package:"
   ]
  },
  {
   "cell_type": "code",
   "execution_count": 2,
   "id": "414b5540",
   "metadata": {},
   "outputs": [],
   "source": [
    "import numpy as np"
   ]
  },
  {
   "cell_type": "markdown",
   "id": "91e95186",
   "metadata": {},
   "source": [
    "## Arrays\n",
    "A numpy array is a grid of values, all of the same type, and is indexed by a tuple of nonnegative integers. The number of dimensions is the rank of the array; the shape of an array is a tuple of integers giving the size of the array along each dimension.\n",
    "\n",
    "We can initialize numpy arrays from nested Python lists, and access elements using square brackets:"
   ]
  },
  {
   "cell_type": "code",
   "execution_count": 3,
   "id": "8f24bef8",
   "metadata": {},
   "outputs": [
    {
     "name": "stdout",
     "output_type": "stream",
     "text": [
      "<class 'numpy.ndarray'> (3,) 1 2 3\n",
      "[5 2 3]\n"
     ]
    }
   ],
   "source": [
    "a = np.array([1, 2, 3])  # Create a 1d array\n",
    "print(type(a), a.shape, a[0], a[1], a[2])\n",
    "a[0] = 5                 # Change an element of the array\n",
    "print(a)       "
   ]
  },
  {
   "cell_type": "code",
   "execution_count": 4,
   "id": "4a2fc7bf",
   "metadata": {},
   "outputs": [
    {
     "name": "stdout",
     "output_type": "stream",
     "text": [
      "[[1 2 3]\n",
      " [4 5 6]]\n",
      "(2, 3)\n",
      "1 2 4\n"
     ]
    }
   ],
   "source": [
    "b = np.array([[1,2,3],[4,5,6]])   # Create a 2d array\n",
    "print(b)\n",
    "print(b.shape)\n",
    "print(b[0, 0], b[0, 1], b[1, 0])"
   ]
  },
  {
   "cell_type": "code",
   "execution_count": 6,
   "id": "cc9e0b46",
   "metadata": {},
   "outputs": [
    {
     "name": "stdout",
     "output_type": "stream",
     "text": [
      "[[[1 2]\n",
      "  [3 4]]\n",
      "\n",
      " [[5 6]\n",
      "  [7 8]]]\n",
      "(2, 2, 2)\n",
      "1 4\n"
     ]
    }
   ],
   "source": [
    "c = np.array([[[1, 2], [3, 4]], [[5, 6], [7, 8]]])  # Create a 3d array\n",
    "print(c)\n",
    "print(c.shape)\n",
    "print(c[0, 0, 0], c[0, 1,1])"
   ]
  },
  {
   "cell_type": "markdown",
   "id": "25670794",
   "metadata": {},
   "source": [
    "Numpy also provides many functions to create arrays:"
   ]
  },
  {
   "cell_type": "code",
   "execution_count": 7,
   "id": "bc5d121c",
   "metadata": {},
   "outputs": [
    {
     "name": "stdout",
     "output_type": "stream",
     "text": [
      "[[0. 0.]\n",
      " [0. 0.]]\n"
     ]
    }
   ],
   "source": [
    "a = np.zeros((2,2))  # Create an array of all zeros\n",
    "print(a)"
   ]
  },
  {
   "cell_type": "code",
   "execution_count": 8,
   "id": "b7f86f52",
   "metadata": {},
   "outputs": [
    {
     "name": "stdout",
     "output_type": "stream",
     "text": [
      "[[1. 1.]]\n"
     ]
    }
   ],
   "source": [
    "b = np.ones((1,2))   # Create an array of all ones\n",
    "print(b)"
   ]
  },
  {
   "cell_type": "code",
   "execution_count": 9,
   "id": "4c093ace",
   "metadata": {},
   "outputs": [
    {
     "name": "stdout",
     "output_type": "stream",
     "text": [
      "[[6 6]\n",
      " [6 6]]\n"
     ]
    }
   ],
   "source": [
    "c = np.full((2,2), 6) # Create a constant array\n",
    "print(c)"
   ]
  },
  {
   "cell_type": "code",
   "execution_count": 16,
   "id": "24349af1",
   "metadata": {},
   "outputs": [
    {
     "name": "stdout",
     "output_type": "stream",
     "text": [
      "[[1. 0.]\n",
      " [0. 1.]]\n"
     ]
    }
   ],
   "source": [
    "d = np.eye(2)        # Create a 2x2 identity matrix\n",
    "print(d)"
   ]
  },
  {
   "cell_type": "code",
   "execution_count": 17,
   "id": "ee4ccffe",
   "metadata": {},
   "outputs": [
    {
     "name": "stdout",
     "output_type": "stream",
     "text": [
      "[[0.76074685 0.84453228]\n",
      " [0.92450036 0.66054685]]\n"
     ]
    }
   ],
   "source": [
    "e = np.random.random((2,2)) # Create an array filled with random values\n",
    "print(e)"
   ]
  },
  {
   "cell_type": "code",
   "execution_count": 19,
   "id": "4b7cd9d2",
   "metadata": {},
   "outputs": [
    {
     "name": "stdout",
     "output_type": "stream",
     "text": [
      "[ 1  2  3  4  5  6  7  8  9 10]\n"
     ]
    }
   ],
   "source": [
    "f = np.arange(1,11) # Creating an array using arange()\n",
    "print(f)"
   ]
  },
  {
   "cell_type": "markdown",
   "id": "b5300d1a",
   "metadata": {},
   "source": [
    "To import Text files into Numpy Arrays, we have two functions in Numpy: \n",
    "* numpy.loadtxt( ) – Used to load text file data\n",
    "* numpy.genfromtxt( ) – Used to load data from a text file, with missing values handled as defined."
   ]
  },
  {
   "cell_type": "markdown",
   "id": "bc1cb311",
   "metadata": {},
   "source": [
    "### Method 1 : numpy.loadtxt()"
   ]
  },
  {
   "cell_type": "code",
   "execution_count": 30,
   "id": "50cafe5c",
   "metadata": {},
   "outputs": [],
   "source": [
    "with open(\"dayso1.txt\", \"w\") as file:\n",
    "    file.writelines(f\"{str(i)}\\n\" for i in f)"
   ]
  },
  {
   "cell_type": "code",
   "execution_count": 34,
   "id": "d098e98d",
   "metadata": {},
   "outputs": [
    {
     "name": "stdout",
     "output_type": "stream",
     "text": [
      "[[ 1  2]\n",
      " [ 3  4]\n",
      " [ 5  6]\n",
      " [ 7  8]\n",
      " [ 9 10]]\n"
     ]
    }
   ],
   "source": [
    "file_data = np.loadtxt(\"example2.txt\", dtype=int)\n",
    "print(file_data)"
   ]
  },
  {
   "cell_type": "code",
   "execution_count": 33,
   "id": "9281f0d0",
   "metadata": {},
   "outputs": [
    {
     "name": "stdout",
     "output_type": "stream",
     "text": [
      "Huy\n",
      "Long\n",
      "Ha\n",
      "Kiet\n"
     ]
    }
   ],
   "source": [
    "data = np.loadtxt(\"example3.txt\", usecols=1, skiprows=1, dtype='str')\n",
    "  \n",
    "for each in data:\n",
    "    print(each)"
   ]
  },
  {
   "cell_type": "markdown",
   "id": "92c73da4",
   "metadata": {},
   "source": [
    "### Method 2 : numpy.genfromtxt()"
   ]
  },
  {
   "cell_type": "code",
   "execution_count": 46,
   "id": "2ccc99c5",
   "metadata": {},
   "outputs": [
    {
     "data": {
      "text/plain": [
       "array([['1', '2', '3', '4'],\n",
       "       ['5', '6', '7', '8']], dtype='<U1')"
      ]
     },
     "execution_count": 46,
     "metadata": {},
     "output_type": "execute_result"
    }
   ],
   "source": [
    "data = np.genfromtxt(\"example4.txt\", dtype= str, encoding = None, delimiter=\" \")\n",
    "data"
   ]
  },
  {
   "cell_type": "markdown",
   "id": "b60b3962",
   "metadata": {},
   "source": [
    "## Datatypes"
   ]
  },
  {
   "cell_type": "markdown",
   "id": "061da492",
   "metadata": {},
   "source": [
    "Every numpy array is a grid of elements of the same type. Numpy provides a large set of numeric datatypes that you can use to construct arrays. Numpy tries to guess a datatype when you create an array, but functions that construct arrays usually also include an optional argument to explicitly specify the datatype. Here is an example:"
   ]
  },
  {
   "cell_type": "code",
   "execution_count": 47,
   "id": "4b0a2aa2",
   "metadata": {},
   "outputs": [
    {
     "name": "stdout",
     "output_type": "stream",
     "text": [
      "int32 float64 int64\n"
     ]
    }
   ],
   "source": [
    "x = np.array([1, 2])  # Let numpy choose the datatype\n",
    "y = np.array([1.0, 2.0])  # Let numpy choose the datatype\n",
    "z = np.array([1, 2], dtype=np.int64)  # Force a particular datatype\n",
    "\n",
    "print(x.dtype, y.dtype, z.dtype)"
   ]
  },
  {
   "cell_type": "markdown",
   "id": "69ca49ea",
   "metadata": {},
   "source": [
    "## Changing Datatype of NumPy Arrays"
   ]
  },
  {
   "cell_type": "code",
   "execution_count": 48,
   "id": "7eeebc71",
   "metadata": {},
   "outputs": [
    {
     "name": "stdout",
     "output_type": "stream",
     "text": [
      "Integer Array: [[1 2 3]\n",
      " [4 5 6]\n",
      " [7 8 9]]\n",
      "Float Array: [[1. 2. 3.]\n",
      " [4. 5. 6.]\n",
      " [7. 8. 9.]]\n",
      "Changed Datatype: float64\n"
     ]
    }
   ],
   "source": [
    "# Create an array\n",
    "arr=np.arange(1,10).reshape(3,3)\n",
    "print(\"Integer Array:\",arr)\n",
    "\n",
    "# Change datatype of array\n",
    "arr=arr.astype(float)\n",
    "\n",
    "# print array\n",
    "print(\"Float Array:\", arr)\n",
    "\n",
    "# Check new data type of array\n",
    "print(\"Changed Datatype:\", arr.dtype)"
   ]
  },
  {
   "cell_type": "code",
   "execution_count": 49,
   "id": "ebf41fb2",
   "metadata": {},
   "outputs": [
    {
     "name": "stdout",
     "output_type": "stream",
     "text": [
      "float64\n"
     ]
    }
   ],
   "source": [
    "# Change datatype of array\n",
    "arr=arr.astype(float)\n",
    "\n",
    "# Check new data type of array\n",
    "print(arr.dtype)"
   ]
  },
  {
   "cell_type": "code",
   "execution_count": 50,
   "id": "39b5d5bb",
   "metadata": {},
   "outputs": [
    {
     "name": "stdout",
     "output_type": "stream",
     "text": [
      "[1, 2, 3, 4, 5, 6, 7, 8, 9]\n"
     ]
    }
   ],
   "source": [
    "# Create an array\n",
    "arr=np.arange(1,10)\n",
    "\n",
    "# Convert NumPy array to Python List\n",
    "list1=arr.tolist()\n",
    "print(list1)"
   ]
  },
  {
   "cell_type": "markdown",
   "id": "84e2aca5",
   "metadata": {},
   "source": [
    "## Array indexing"
   ]
  },
  {
   "cell_type": "markdown",
   "id": "9aab399a",
   "metadata": {},
   "source": [
    "Numpy offers several ways to index into arrays.\n",
    "\n",
    "Slicing: Similar to Python lists, numpy arrays can be sliced. Since arrays may be multidimensional, you must specify a slice for each dimension of the array:\n"
   ]
  },
  {
   "cell_type": "code",
   "execution_count": 51,
   "id": "c40e4db3",
   "metadata": {},
   "outputs": [
    {
     "name": "stdout",
     "output_type": "stream",
     "text": [
      "[[2 3]\n",
      " [6 7]]\n"
     ]
    }
   ],
   "source": [
    "import numpy as np\n",
    "\n",
    "# Create the following rank 2 array with shape (3, 4)\n",
    "# [[ 1  2  3  4]\n",
    "#  [ 5  6  7  8]\n",
    "#  [ 9 10 11 12]]\n",
    "a = np.array([[1,2,3,4], [5,6,7,8], [9,10,11,12]])\n",
    "\n",
    "# Use slicing to pull out the subarray consisting of the first 2 rows\n",
    "# and columns 1 and 2; b is the following array of shape (2, 2):\n",
    "# [[2 3]\n",
    "#  [6 7]]\n",
    "b = a[:2, 1:3]\n",
    "print(b)"
   ]
  },
  {
   "cell_type": "markdown",
   "id": "7d54f652",
   "metadata": {},
   "source": [
    "A slice of an array is a view into the same data, so modifying it will modify the original array."
   ]
  },
  {
   "cell_type": "code",
   "execution_count": 52,
   "id": "cd2ff5b7",
   "metadata": {},
   "outputs": [
    {
     "name": "stdout",
     "output_type": "stream",
     "text": [
      "2\n",
      "77\n"
     ]
    }
   ],
   "source": [
    "print(a[0, 1])\n",
    "b[0, 0] = 77    # b[0, 0] is the same piece of data as a[0, 1]\n",
    "print(a[0, 1]) "
   ]
  },
  {
   "cell_type": "markdown",
   "id": "e8dfff71",
   "metadata": {},
   "source": [
    "You can also mix integer indexing with slice indexing. However, doing so will yield an array of lower rank than the original array."
   ]
  },
  {
   "cell_type": "code",
   "execution_count": 53,
   "id": "5c79d6f7",
   "metadata": {},
   "outputs": [
    {
     "name": "stdout",
     "output_type": "stream",
     "text": [
      "[[ 1  2  3  4]\n",
      " [ 5  6  7  8]\n",
      " [ 9 10 11 12]]\n",
      "[5 6 7 8] (4,)\n",
      "[[5 6 7 8]] (1, 4)\n",
      "[[5 6 7 8]] (1, 4)\n"
     ]
    }
   ],
   "source": [
    "# Create the following rank 2 array with shape (3, 4)\n",
    "a = np.array([[1,2,3,4], [5,6,7,8], [9,10,11,12]])\n",
    "print(a)\n",
    "row_r1 = a[1, :]    # Rank 1 view of the second row of a  \n",
    "row_r2 = a[1:2, :]  # Rank 2 view of the second row of a\n",
    "row_r3 = a[[1], :]  # Rank 2 view of the second row of a\n",
    "print(row_r1, row_r1.shape)\n",
    "print(row_r2, row_r2.shape)\n",
    "print(row_r3, row_r3.shape)"
   ]
  },
  {
   "cell_type": "markdown",
   "id": "e5be02a9",
   "metadata": {},
   "source": [
    "Integer array indexing: When you index into numpy arrays using slicing, the resulting array view will always be a subarray of the original array. In contrast, integer array indexing allows you to construct arbitrary arrays using the data from another array. Here is an example:"
   ]
  },
  {
   "cell_type": "code",
   "execution_count": 54,
   "id": "015dc894",
   "metadata": {},
   "outputs": [
    {
     "name": "stdout",
     "output_type": "stream",
     "text": [
      "[1 4 5]\n",
      "[1 4 5]\n"
     ]
    }
   ],
   "source": [
    "a = np.array([[1,2], [3, 4], [5, 6]])\n",
    "\n",
    "# An example of integer array indexing.\n",
    "# The returned array will have shape (3,) and \n",
    "print(a[[0, 1, 2], [0, 1, 0]])\n",
    "\n",
    "# The above example of integer array indexing is equivalent to this:\n",
    "print(np.array([a[0, 0], a[1, 1], a[2, 0]]))"
   ]
  },
  {
   "cell_type": "code",
   "execution_count": 55,
   "id": "ac33269d",
   "metadata": {},
   "outputs": [
    {
     "name": "stdout",
     "output_type": "stream",
     "text": [
      "[2 2]\n",
      "[2 2]\n"
     ]
    }
   ],
   "source": [
    "# When using integer array indexing, you can reuse the same\n",
    "# element from the source array:\n",
    "print(a[[0, 0], [1, 1]])\n",
    "\n",
    "# Equivalent to the previous integer array indexing example\n",
    "print(np.array([a[0, 1], a[0, 1]]))"
   ]
  },
  {
   "cell_type": "markdown",
   "id": "46769360",
   "metadata": {},
   "source": [
    "One useful trick with integer array indexing is selecting or mutating one element from each row of a matrix:"
   ]
  },
  {
   "cell_type": "code",
   "execution_count": 56,
   "id": "2366e5b0",
   "metadata": {},
   "outputs": [
    {
     "name": "stdout",
     "output_type": "stream",
     "text": [
      "[[ 1  2  3]\n",
      " [ 4  5  6]\n",
      " [ 7  8  9]\n",
      " [10 11 12]]\n",
      "[ 1  6  7 11]\n"
     ]
    }
   ],
   "source": [
    "# Create a new array from which we will select elements\n",
    "a = np.array([[1,2,3], [4,5,6], [7,8,9], [10, 11, 12]])\n",
    "print(a)\n",
    "# Create an array of indices\n",
    "b = np.array([0, 2, 0, 1])\n",
    "\n",
    "# Select one element from each row of a using the indices in b\n",
    "print(a[np.arange(4), b]) "
   ]
  },
  {
   "cell_type": "code",
   "execution_count": 57,
   "id": "ae4301b4",
   "metadata": {},
   "outputs": [
    {
     "name": "stdout",
     "output_type": "stream",
     "text": [
      "[[11  2  3]\n",
      " [ 4  5 16]\n",
      " [17  8  9]\n",
      " [10 21 12]]\n"
     ]
    }
   ],
   "source": [
    "# Mutate one element from each row of a using the indices in b\n",
    "a[np.arange(4), b] += 10\n",
    "print(a)"
   ]
  },
  {
   "cell_type": "markdown",
   "id": "c1b9fa33",
   "metadata": {},
   "source": [
    "Boolean array indexing: Boolean array indexing lets you pick out arbitrary elements of an array. Frequently this type of indexing is used to select the elements of an array that satisfy some condition. Here is an example:"
   ]
  },
  {
   "cell_type": "code",
   "execution_count": 58,
   "id": "8de9921a",
   "metadata": {},
   "outputs": [
    {
     "name": "stdout",
     "output_type": "stream",
     "text": [
      "[[False False]\n",
      " [ True  True]\n",
      " [ True  True]]\n"
     ]
    }
   ],
   "source": [
    "import numpy as np\n",
    "\n",
    "a = np.array([[1,2], [3, 4], [5, 6]])\n",
    "\n",
    "bool_idx = (a > 2)  # Find the elements of a that are bigger than 2;\n",
    "                    # this returns a numpy array of Booleans of the same\n",
    "                    # shape as a, where each slot of bool_idx tells\n",
    "                    # whether that element of a is > 2.\n",
    "\n",
    "print(bool_idx)"
   ]
  },
  {
   "cell_type": "code",
   "execution_count": 59,
   "id": "443959d0",
   "metadata": {},
   "outputs": [
    {
     "name": "stdout",
     "output_type": "stream",
     "text": [
      "[3 4 5 6]\n",
      "[3 4 5 6]\n"
     ]
    }
   ],
   "source": [
    "# We use boolean array indexing to construct a rank 1 array\n",
    "# consisting of the elements of a corresponding to the True values\n",
    "# of bool_idx\n",
    "print(a[bool_idx])\n",
    "\n",
    "# We can do all of the above in a single concise statement:\n",
    "print(a[a > 2])"
   ]
  },
  {
   "cell_type": "markdown",
   "id": "d03bafbb",
   "metadata": {},
   "source": [
    "##  Descriptive statistics with Python-NumPy"
   ]
  },
  {
   "cell_type": "markdown",
   "id": "539a5929",
   "metadata": {},
   "source": [
    "Descriptive statistics describe the basic and important features of data. They help simplify and summarize large amounts of data in a sensible manner."
   ]
  },
  {
   "cell_type": "code",
   "execution_count": 75,
   "id": "71c1cefb",
   "metadata": {},
   "outputs": [],
   "source": [
    "A = np.array([[10,14,11,7,9.5,15,19],\n",
    "              [8,9,17,14.5,12,18,15.5], \n",
    "              [15,7.5,11.5,10,10.5,7,11],\n",
    "              [11.5,11,9,12,14,12,7.5]])\n",
    "B = A.T"
   ]
  },
  {
   "cell_type": "code",
   "execution_count": 77,
   "id": "8f6ae1ed",
   "metadata": {},
   "outputs": [
    {
     "name": "stdout",
     "output_type": "stream",
     "text": [
      "[[10.  14.  11.   7.   9.5 15.  19. ]\n",
      " [ 8.   9.  17.  14.5 12.  18.  15.5]\n",
      " [15.   7.5 11.5 10.  10.5  7.  11. ]\n",
      " [11.5 11.   9.  12.  14.  12.   7.5]]\n",
      "[[10.   8.  15.  11.5]\n",
      " [14.   9.   7.5 11. ]\n",
      " [11.  17.  11.5  9. ]\n",
      " [ 7.  14.5 10.  12. ]\n",
      " [ 9.5 12.  10.5 14. ]\n",
      " [15.  18.   7.  12. ]\n",
      " [19.  15.5 11.   7.5]]\n"
     ]
    }
   ],
   "source": [
    "print(A)\n",
    "print(B)"
   ]
  },
  {
   "cell_type": "markdown",
   "id": "09626643",
   "metadata": {},
   "source": [
    "### Min, Max\n",
    "\n",
    "It can also be useful to check the minimum and maximum values in your data. If these values are very extreme compared to the mean/median, you know you either have a long tail or outliers, and possibly data errors if they are beyond reasonable. The range is then simply the max-min, telling us how far the data stretches."
   ]
  },
  {
   "cell_type": "code",
   "execution_count": 89,
   "id": "c96dec17",
   "metadata": {},
   "outputs": [
    {
     "name": "stdout",
     "output_type": "stream",
     "text": [
      "[8.  7.5 9.  7.  9.5 7.  7.5]\n",
      "[19. 18. 15. 14.]\n"
     ]
    }
   ],
   "source": [
    "print(np.min(A,axis=0)) \n",
    "print(np.max(A,axis=1))"
   ]
  },
  {
   "cell_type": "markdown",
   "id": "79b35c3c",
   "metadata": {},
   "source": [
    "### Mean\n",
    "Mean means the average of the given values. To compute mean, sum all the values and divide the sum by the number of values."
   ]
  },
  {
   "cell_type": "code",
   "execution_count": 76,
   "id": "c565408c",
   "metadata": {},
   "outputs": [
    {
     "name": "stdout",
     "output_type": "stream",
     "text": [
      "[12.21428571 13.42857143 10.35714286 11.        ]\n",
      "[12.21428571 13.42857143 10.35714286 11.        ]\n"
     ]
    }
   ],
   "source": [
    "print(np.mean(B,axis=0)) \n",
    "print(np.mean(A,axis=1))"
   ]
  },
  {
   "cell_type": "markdown",
   "id": "88f1c282",
   "metadata": {},
   "source": [
    "### Median\n",
    "Median is the value where the upper half of the data lies above it and lower half lies below it. In other words, it is the middle value of a data set."
   ]
  },
  {
   "cell_type": "code",
   "execution_count": 79,
   "id": "ef854acb",
   "metadata": {},
   "outputs": [
    {
     "name": "stdout",
     "output_type": "stream",
     "text": [
      "[11.  14.5 10.5 11.5]\n",
      "[10.75 10.   11.25 11.   11.25 13.5  13.25]\n"
     ]
    }
   ],
   "source": [
    "\"\"\"\n",
    "B = [[10.   8.  15.  11.5]\n",
    "     [14.   9.   7.5 11. ]\n",
    "     [11.  17.  11.5  9. ]\n",
    "     [ 7.  14.5 10.  12. ]\n",
    "     [ 9.5 12.  10.5 14. ]\n",
    "     [15.  18.   7.  12. ]\n",
    "     [19.  15.5 11.   7.5]]\n",
    "\"\"\"\n",
    "a=np.median(B, axis=0)\n",
    "b=np.median(B, axis=1)\n",
    "print(a)\n",
    "print(b)"
   ]
  },
  {
   "cell_type": "markdown",
   "id": "7f394eed",
   "metadata": {},
   "source": [
    "### Mode\n",
    "Mode is the value that occurs the most number of times in our data set."
   ]
  },
  {
   "cell_type": "code",
   "execution_count": 85,
   "id": "8170cce5",
   "metadata": {},
   "outputs": [
    {
     "name": "stdout",
     "output_type": "stream",
     "text": [
      "ModeResult(mode=array([[ 7.,  8.,  7., 12.]]), count=array([[1, 1, 1, 2]]))\n"
     ]
    }
   ],
   "source": [
    "\"\"\"\n",
    "B = [[10.   8.  15.  11.5]\n",
    "     [14.   9.   7.5 11. ]\n",
    "     [11.  17.  11.5  9. ]\n",
    "     [ 7.  14.5 10.  12. ]\n",
    "     [ 9.5 12.  10.5 14. ]\n",
    "     [15.  18.   7.  12. ]\n",
    "     [19.  15.5 11.   7.5]]\n",
    "\"\"\"\n",
    "from scipy import stats\n",
    "a=stats.mode(B,axis=0)\n",
    "print(a)"
   ]
  },
  {
   "cell_type": "markdown",
   "id": "52989e2d",
   "metadata": {},
   "source": [
    "### Range\n",
    "Range is the difference between the maximum and minimum values in the distribution."
   ]
  },
  {
   "cell_type": "code",
   "execution_count": 84,
   "id": "940bea97",
   "metadata": {},
   "outputs": [
    {
     "name": "stdout",
     "output_type": "stream",
     "text": [
      "[12.  10.   8.   6.5]\n"
     ]
    }
   ],
   "source": [
    "\"\"\"\n",
    "B = [[10.   8.  15.  11.5]\n",
    "     [14.   9.   7.5 11. ]\n",
    "     [11.  17.  11.5  9. ]\n",
    "     [ 7.  14.5 10.  12. ]\n",
    "     [ 9.5 12.  10.5 14. ]\n",
    "     [15.  18.   7.  12. ]\n",
    "     [19.  15.5 11.   7.5]]\n",
    "\"\"\"\n",
    "a=np.ptp(B, axis=0)\n",
    "print(a)"
   ]
  },
  {
   "cell_type": "markdown",
   "id": "eceed983",
   "metadata": {},
   "source": [
    "### Variance\n",
    "Variance is the average of the squared differences from the mean.\n",
    "\n",
    "it allows us to measure the spread of a data set around its mean. The observations may or may not be meaningful if observations in data sets are highly spread."
   ]
  },
  {
   "cell_type": "code",
   "execution_count": 86,
   "id": "2ecd4109",
   "metadata": {},
   "outputs": [
    {
     "name": "stdout",
     "output_type": "stream",
     "text": [
      "[13.98979592 12.8877551   6.12244898  3.92857143]\n"
     ]
    }
   ],
   "source": [
    "a = np.var(B,axis=0)\n",
    "print(a)"
   ]
  },
  {
   "cell_type": "markdown",
   "id": "dda1c00b",
   "metadata": {},
   "source": [
    "### Standard deviation\n",
    "Standard deviation is the square root of variance. Standard deviation is on the same scale as the values in the data set."
   ]
  },
  {
   "cell_type": "code",
   "execution_count": 87,
   "id": "4dc0bf9a",
   "metadata": {},
   "outputs": [
    {
     "name": "stdout",
     "output_type": "stream",
     "text": [
      "[3.74029356 3.58995196 2.4743583  1.98206242]\n"
     ]
    }
   ],
   "source": [
    "a = np.std(B,axis=0) \n",
    "print(a)"
   ]
  },
  {
   "cell_type": "markdown",
   "id": "3a04dd8a",
   "metadata": {},
   "source": [
    "### corrcoef\n",
    "Return Pearson product-moment correlation coefficients."
   ]
  },
  {
   "cell_type": "code",
   "execution_count": 90,
   "id": "5852abb7",
   "metadata": {},
   "outputs": [
    {
     "name": "stdout",
     "output_type": "stream",
     "text": [
      "[[ 1.         -0.42911085 -0.57855561 -0.35344069 -0.1296542  -0.99822653\n",
      "  -0.54547855]\n",
      " [-0.42911085  1.         -0.37884734 -0.59132651 -0.21206037  0.42994939\n",
      "   0.48530461]\n",
      " [-0.57855561 -0.37884734  1.          0.58488715 -0.12427875  0.60177179\n",
      "   0.46092392]\n",
      " [-0.35344069 -0.59132651  0.58488715  1.          0.71113718  0.32484969\n",
      "  -0.38820648]\n",
      " [-0.1296542  -0.21206037 -0.12427875  0.71113718  1.          0.0725954\n",
      "  -0.75982517]\n",
      " [-0.99822653  0.42994939  0.60177179  0.32484969  0.0725954   1.\n",
      "   0.59204865]\n",
      " [-0.54547855  0.48530461  0.46092392 -0.38820648 -0.75982517  0.59204865\n",
      "   1.        ]]\n"
     ]
    }
   ],
   "source": [
    "a = np.corrcoef(B)\n",
    "print(a)"
   ]
  },
  {
   "cell_type": "code",
   "execution_count": null,
   "id": "acd568b4",
   "metadata": {},
   "outputs": [],
   "source": []
  }
 ],
 "metadata": {
  "kernelspec": {
   "display_name": "Python 3 (ipykernel)",
   "language": "python",
   "name": "python3"
  },
  "language_info": {
   "codemirror_mode": {
    "name": "ipython",
    "version": 3
   },
   "file_extension": ".py",
   "mimetype": "text/x-python",
   "name": "python",
   "nbconvert_exporter": "python",
   "pygments_lexer": "ipython3",
   "version": "3.8.5"
  }
 },
 "nbformat": 4,
 "nbformat_minor": 5
}
